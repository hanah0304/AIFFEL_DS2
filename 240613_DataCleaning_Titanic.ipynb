{
 "cells": [
  {
   "cell_type": "code",
   "execution_count": 1,
   "id": "f170fb27",
   "metadata": {},
   "outputs": [
    {
     "name": "stdout",
     "output_type": "stream",
     "text": [
      "/aiffel/aiffel/titanic_project\r\n"
     ]
    }
   ],
   "source": [
    "!pwd"
   ]
  },
  {
   "cell_type": "code",
   "execution_count": 4,
   "id": "4b746627",
   "metadata": {},
   "outputs": [],
   "source": [
    "import pandas as pd"
   ]
  },
  {
   "cell_type": "code",
   "execution_count": 95,
   "id": "911d1a76",
   "metadata": {},
   "outputs": [],
   "source": [
    "data = pd.read_csv('/aiffel/data/titanic.csv')"
   ]
  },
  {
   "cell_type": "code",
   "execution_count": 96,
   "id": "0723a5d6",
   "metadata": {
    "scrolled": true
   },
   "outputs": [
    {
     "data": {
      "text/html": [
       "<div>\n",
       "<style scoped>\n",
       "    .dataframe tbody tr th:only-of-type {\n",
       "        vertical-align: middle;\n",
       "    }\n",
       "\n",
       "    .dataframe tbody tr th {\n",
       "        vertical-align: top;\n",
       "    }\n",
       "\n",
       "    .dataframe thead th {\n",
       "        text-align: right;\n",
       "    }\n",
       "</style>\n",
       "<table border=\"1\" class=\"dataframe\">\n",
       "  <thead>\n",
       "    <tr style=\"text-align: right;\">\n",
       "      <th></th>\n",
       "      <th>Pclass</th>\n",
       "      <th>Name</th>\n",
       "      <th>Gendr</th>\n",
       "      <th>Age</th>\n",
       "      <th>SibSp</th>\n",
       "      <th>Parch</th>\n",
       "      <th>Ticket</th>\n",
       "      <th>Embarked</th>\n",
       "      <th>Survived</th>\n",
       "      <th>ticket_date</th>\n",
       "    </tr>\n",
       "  </thead>\n",
       "  <tbody>\n",
       "    <tr>\n",
       "      <th>25</th>\n",
       "      <td>3</td>\n",
       "      <td>Palsson, Miss. Torborg Danira</td>\n",
       "      <td>female</td>\n",
       "      <td>8.0</td>\n",
       "      <td>3</td>\n",
       "      <td>1</td>\n",
       "      <td>349909</td>\n",
       "      <td>S</td>\n",
       "      <td>0</td>\n",
       "      <td>1912-03-14</td>\n",
       "    </tr>\n",
       "    <tr>\n",
       "      <th>632</th>\n",
       "      <td>3</td>\n",
       "      <td>Skoog, Miss. Mabel</td>\n",
       "      <td>female</td>\n",
       "      <td>9.0</td>\n",
       "      <td>3</td>\n",
       "      <td>2</td>\n",
       "      <td>347088</td>\n",
       "      <td>S</td>\n",
       "      <td>0</td>\n",
       "      <td>1912-03-16</td>\n",
       "    </tr>\n",
       "    <tr>\n",
       "      <th>714</th>\n",
       "      <td>1</td>\n",
       "      <td>Endres, Miss. Caroline Louise</td>\n",
       "      <td>female</td>\n",
       "      <td>38.0</td>\n",
       "      <td>0</td>\n",
       "      <td>0</td>\n",
       "      <td>PC 17757</td>\n",
       "      <td>C</td>\n",
       "      <td>1</td>\n",
       "      <td>1912-03-14</td>\n",
       "    </tr>\n",
       "  </tbody>\n",
       "</table>\n",
       "</div>"
      ],
      "text/plain": [
       "     Pclass                           Name   Gendr   Age  SibSp  Parch  \\\n",
       "25        3  Palsson, Miss. Torborg Danira  female   8.0      3      1   \n",
       "632       3             Skoog, Miss. Mabel  female   9.0      3      2   \n",
       "714       1  Endres, Miss. Caroline Louise  female  38.0      0      0   \n",
       "\n",
       "       Ticket Embarked  Survived ticket_date  \n",
       "25     349909        S         0  1912-03-14  \n",
       "632    347088        S         0  1912-03-16  \n",
       "714  PC 17757        C         1  1912-03-14  "
      ]
     },
     "execution_count": 96,
     "metadata": {},
     "output_type": "execute_result"
    }
   ],
   "source": [
    "# 92행까지 갔다가 중복 확인하러 다시 올라옴\n",
    "# 중복된 값 테이블로 확인\n",
    "data[data.duplicated()]"
   ]
  },
  {
   "cell_type": "code",
   "execution_count": 98,
   "id": "7f1b604b",
   "metadata": {
    "scrolled": true
   },
   "outputs": [
    {
     "data": {
      "text/html": [
       "<div>\n",
       "<style scoped>\n",
       "    .dataframe tbody tr th:only-of-type {\n",
       "        vertical-align: middle;\n",
       "    }\n",
       "\n",
       "    .dataframe tbody tr th {\n",
       "        vertical-align: top;\n",
       "    }\n",
       "\n",
       "    .dataframe thead th {\n",
       "        text-align: right;\n",
       "    }\n",
       "</style>\n",
       "<table border=\"1\" class=\"dataframe\">\n",
       "  <thead>\n",
       "    <tr style=\"text-align: right;\">\n",
       "      <th></th>\n",
       "      <th>Pclass</th>\n",
       "      <th>Name</th>\n",
       "      <th>Gendr</th>\n",
       "      <th>Age</th>\n",
       "      <th>SibSp</th>\n",
       "      <th>Parch</th>\n",
       "      <th>Ticket</th>\n",
       "      <th>Embarked</th>\n",
       "      <th>Survived</th>\n",
       "      <th>ticket_date</th>\n",
       "    </tr>\n",
       "  </thead>\n",
       "  <tbody>\n",
       "    <tr>\n",
       "      <th>24</th>\n",
       "      <td>3</td>\n",
       "      <td>Palsson, Miss. Torborg Danira</td>\n",
       "      <td>female</td>\n",
       "      <td>8.0</td>\n",
       "      <td>3</td>\n",
       "      <td>1</td>\n",
       "      <td>349909</td>\n",
       "      <td>S</td>\n",
       "      <td>0</td>\n",
       "      <td>1912-03-14</td>\n",
       "    </tr>\n",
       "    <tr>\n",
       "      <th>25</th>\n",
       "      <td>3</td>\n",
       "      <td>Palsson, Miss. Torborg Danira</td>\n",
       "      <td>female</td>\n",
       "      <td>8.0</td>\n",
       "      <td>3</td>\n",
       "      <td>1</td>\n",
       "      <td>349909</td>\n",
       "      <td>S</td>\n",
       "      <td>0</td>\n",
       "      <td>1912-03-14</td>\n",
       "    </tr>\n",
       "  </tbody>\n",
       "</table>\n",
       "</div>"
      ],
      "text/plain": [
       "    Pclass                           Name   Gendr  Age  SibSp  Parch  Ticket  \\\n",
       "24       3  Palsson, Miss. Torborg Danira  female  8.0      3      1  349909   \n",
       "25       3  Palsson, Miss. Torborg Danira  female  8.0      3      1  349909   \n",
       "\n",
       "   Embarked  Survived ticket_date  \n",
       "24        S         0  1912-03-14  \n",
       "25        S         0  1912-03-14  "
      ]
     },
     "execution_count": 98,
     "metadata": {},
     "output_type": "execute_result"
    }
   ],
   "source": [
    "# 진짜 모든 정보가 똑같은지 한명씩 추가 확인\n",
    "data[data['Name'] == 'Palsson, Miss. Torborg Danira']\n",
    "\n",
    "# 확인해보니 진짜 똑같아보임. 인덱스가 하나밖에 차이나지 않는것도 수상함. 삭제해도 괜찮을듯"
   ]
  },
  {
   "cell_type": "code",
   "execution_count": 102,
   "id": "a7f4a59e",
   "metadata": {},
   "outputs": [],
   "source": [
    "# 듀플리케이티드 아니고 s!!!\n",
    "data.drop_duplicates()\n",
    "\n",
    "# 이제 885에서 중복값 3개 뺀 882가 결과로 나옴\n",
    "# 그 결과 값에 이상이 없다면 data로 테이블 업데이트해주기\n",
    "data = data.drop_duplicates()\n",
    "\n",
    "# 이후 하단 모든 코드들에 해당 결과를 업데이트 하려면 상단 메뉴 중 'cell' 클릭 후 'Run All Below' 클릭"
   ]
  },
  {
   "cell_type": "code",
   "execution_count": 103,
   "id": "d7581e6f",
   "metadata": {},
   "outputs": [
    {
     "data": {
      "text/html": [
       "<div>\n",
       "<style scoped>\n",
       "    .dataframe tbody tr th:only-of-type {\n",
       "        vertical-align: middle;\n",
       "    }\n",
       "\n",
       "    .dataframe tbody tr th {\n",
       "        vertical-align: top;\n",
       "    }\n",
       "\n",
       "    .dataframe thead th {\n",
       "        text-align: right;\n",
       "    }\n",
       "</style>\n",
       "<table border=\"1\" class=\"dataframe\">\n",
       "  <thead>\n",
       "    <tr style=\"text-align: right;\">\n",
       "      <th></th>\n",
       "      <th>Pclass</th>\n",
       "      <th>Name</th>\n",
       "      <th>Gendr</th>\n",
       "      <th>Age</th>\n",
       "      <th>SibSp</th>\n",
       "      <th>Parch</th>\n",
       "      <th>Ticket</th>\n",
       "      <th>Embarked</th>\n",
       "      <th>Survived</th>\n",
       "      <th>ticket_date</th>\n",
       "    </tr>\n",
       "  </thead>\n",
       "  <tbody>\n",
       "    <tr>\n",
       "      <th>0</th>\n",
       "      <td>3</td>\n",
       "      <td>Braund, Mr. Owen Harris</td>\n",
       "      <td>male</td>\n",
       "      <td>22.0</td>\n",
       "      <td>1</td>\n",
       "      <td>0</td>\n",
       "      <td>A/5 21171</td>\n",
       "      <td>S</td>\n",
       "      <td>0</td>\n",
       "      <td>1912-01-12</td>\n",
       "    </tr>\n",
       "    <tr>\n",
       "      <th>1</th>\n",
       "      <td>1</td>\n",
       "      <td>Cumings, Mrs. John Bradley (Florence Briggs Th...</td>\n",
       "      <td>female</td>\n",
       "      <td>38.0</td>\n",
       "      <td>1</td>\n",
       "      <td>0</td>\n",
       "      <td>PC 17599</td>\n",
       "      <td>C</td>\n",
       "      <td>1</td>\n",
       "      <td>1912-03-29</td>\n",
       "    </tr>\n",
       "    <tr>\n",
       "      <th>2</th>\n",
       "      <td>3</td>\n",
       "      <td>Heikkinen, Miss. Laina</td>\n",
       "      <td>female</td>\n",
       "      <td>26.0</td>\n",
       "      <td>0</td>\n",
       "      <td>0</td>\n",
       "      <td>STON/O2. 3101282</td>\n",
       "      <td>S</td>\n",
       "      <td>1</td>\n",
       "      <td>1912-02-23</td>\n",
       "    </tr>\n",
       "    <tr>\n",
       "      <th>3</th>\n",
       "      <td>1</td>\n",
       "      <td>Futrelle, Mrs. Jacques Heath (Lily May Peel)</td>\n",
       "      <td>female</td>\n",
       "      <td>NaN</td>\n",
       "      <td>1</td>\n",
       "      <td>0</td>\n",
       "      <td>113803</td>\n",
       "      <td>S</td>\n",
       "      <td>1</td>\n",
       "      <td>1912-03-28</td>\n",
       "    </tr>\n",
       "    <tr>\n",
       "      <th>4</th>\n",
       "      <td>3</td>\n",
       "      <td>Allen, Mr. William Henry</td>\n",
       "      <td>male</td>\n",
       "      <td>35.0</td>\n",
       "      <td>0</td>\n",
       "      <td>0</td>\n",
       "      <td>373450</td>\n",
       "      <td>S</td>\n",
       "      <td>0</td>\n",
       "      <td>1912-04-03</td>\n",
       "    </tr>\n",
       "  </tbody>\n",
       "</table>\n",
       "</div>"
      ],
      "text/plain": [
       "   Pclass                                               Name   Gendr   Age  \\\n",
       "0       3                            Braund, Mr. Owen Harris    male  22.0   \n",
       "1       1  Cumings, Mrs. John Bradley (Florence Briggs Th...  female  38.0   \n",
       "2       3                             Heikkinen, Miss. Laina  female  26.0   \n",
       "3       1       Futrelle, Mrs. Jacques Heath (Lily May Peel)  female   NaN   \n",
       "4       3                           Allen, Mr. William Henry    male  35.0   \n",
       "\n",
       "   SibSp  Parch            Ticket Embarked  Survived ticket_date  \n",
       "0      1      0         A/5 21171        S         0  1912-01-12  \n",
       "1      1      0          PC 17599        C         1  1912-03-29  \n",
       "2      0      0  STON/O2. 3101282        S         1  1912-02-23  \n",
       "3      1      0            113803        S         1  1912-03-28  \n",
       "4      0      0            373450        S         0  1912-04-03  "
      ]
     },
     "execution_count": 103,
     "metadata": {},
     "output_type": "execute_result"
    }
   ],
   "source": [
    "data.head()"
   ]
  },
  {
   "cell_type": "code",
   "execution_count": 104,
   "id": "98a188ff",
   "metadata": {},
   "outputs": [
    {
     "data": {
      "text/html": [
       "<div>\n",
       "<style scoped>\n",
       "    .dataframe tbody tr th:only-of-type {\n",
       "        vertical-align: middle;\n",
       "    }\n",
       "\n",
       "    .dataframe tbody tr th {\n",
       "        vertical-align: top;\n",
       "    }\n",
       "\n",
       "    .dataframe thead th {\n",
       "        text-align: right;\n",
       "    }\n",
       "</style>\n",
       "<table border=\"1\" class=\"dataframe\">\n",
       "  <thead>\n",
       "    <tr style=\"text-align: right;\">\n",
       "      <th></th>\n",
       "      <th>Pclass</th>\n",
       "      <th>Gendr</th>\n",
       "      <th>Age</th>\n",
       "      <th>SibSp</th>\n",
       "      <th>Parch</th>\n",
       "      <th>Ticket</th>\n",
       "      <th>Embarked</th>\n",
       "      <th>Survived</th>\n",
       "      <th>ticket_date</th>\n",
       "    </tr>\n",
       "  </thead>\n",
       "  <tbody>\n",
       "    <tr>\n",
       "      <th>0</th>\n",
       "      <td>3</td>\n",
       "      <td>male</td>\n",
       "      <td>22.0</td>\n",
       "      <td>1</td>\n",
       "      <td>0</td>\n",
       "      <td>A/5 21171</td>\n",
       "      <td>S</td>\n",
       "      <td>0</td>\n",
       "      <td>1912-01-12</td>\n",
       "    </tr>\n",
       "    <tr>\n",
       "      <th>1</th>\n",
       "      <td>1</td>\n",
       "      <td>female</td>\n",
       "      <td>38.0</td>\n",
       "      <td>1</td>\n",
       "      <td>0</td>\n",
       "      <td>PC 17599</td>\n",
       "      <td>C</td>\n",
       "      <td>1</td>\n",
       "      <td>1912-03-29</td>\n",
       "    </tr>\n",
       "    <tr>\n",
       "      <th>2</th>\n",
       "      <td>3</td>\n",
       "      <td>female</td>\n",
       "      <td>26.0</td>\n",
       "      <td>0</td>\n",
       "      <td>0</td>\n",
       "      <td>STON/O2. 3101282</td>\n",
       "      <td>S</td>\n",
       "      <td>1</td>\n",
       "      <td>1912-02-23</td>\n",
       "    </tr>\n",
       "    <tr>\n",
       "      <th>3</th>\n",
       "      <td>1</td>\n",
       "      <td>female</td>\n",
       "      <td>NaN</td>\n",
       "      <td>1</td>\n",
       "      <td>0</td>\n",
       "      <td>113803</td>\n",
       "      <td>S</td>\n",
       "      <td>1</td>\n",
       "      <td>1912-03-28</td>\n",
       "    </tr>\n",
       "    <tr>\n",
       "      <th>4</th>\n",
       "      <td>3</td>\n",
       "      <td>male</td>\n",
       "      <td>35.0</td>\n",
       "      <td>0</td>\n",
       "      <td>0</td>\n",
       "      <td>373450</td>\n",
       "      <td>S</td>\n",
       "      <td>0</td>\n",
       "      <td>1912-04-03</td>\n",
       "    </tr>\n",
       "  </tbody>\n",
       "</table>\n",
       "</div>"
      ],
      "text/plain": [
       "   Pclass   Gendr   Age  SibSp  Parch            Ticket Embarked  Survived  \\\n",
       "0       3    male  22.0      1      0         A/5 21171        S         0   \n",
       "1       1  female  38.0      1      0          PC 17599        C         1   \n",
       "2       3  female  26.0      0      0  STON/O2. 3101282        S         1   \n",
       "3       1  female   NaN      1      0            113803        S         1   \n",
       "4       3    male  35.0      0      0            373450        S         0   \n",
       "\n",
       "  ticket_date  \n",
       "0  1912-01-12  \n",
       "1  1912-03-29  \n",
       "2  1912-02-23  \n",
       "3  1912-03-28  \n",
       "4  1912-04-03  "
      ]
     },
     "execution_count": 104,
     "metadata": {},
     "output_type": "execute_result"
    }
   ],
   "source": [
    "# 불필요한 컬럼 제거 (원본 데이터에서 삭제되는 것은 아님)\n",
    "# data.drop(행번호), 또는 (컬럼명, 축 번호)\n",
    "# data.drop('Name', axis = 1)\n",
    "\n",
    "# 원본 데이터에서까지 삭제하고 싶으면 \n",
    "# 1. data = data.drop('Name', axis = 1)으로 작성하거나,\n",
    "# 2. data.drop('Name', axis = 1, inplace = True)\n",
    "\n",
    "data.drop('Name', axis = 1, inplace = True)\n",
    "data.head()\n",
    "\n",
    "# axis = 0 : '열, 가로로 한 줄 데이터 삭제'\n",
    "# axis = 1 : '행, 세로 컬럼 한 줄 삭제'\n",
    "# axis는 안써있으면 0이 디폴트"
   ]
  },
  {
   "cell_type": "code",
   "execution_count": 105,
   "id": "4e1530a8",
   "metadata": {},
   "outputs": [
    {
     "data": {
      "text/html": [
       "<div>\n",
       "<style scoped>\n",
       "    .dataframe tbody tr th:only-of-type {\n",
       "        vertical-align: middle;\n",
       "    }\n",
       "\n",
       "    .dataframe tbody tr th {\n",
       "        vertical-align: top;\n",
       "    }\n",
       "\n",
       "    .dataframe thead th {\n",
       "        text-align: right;\n",
       "    }\n",
       "</style>\n",
       "<table border=\"1\" class=\"dataframe\">\n",
       "  <thead>\n",
       "    <tr style=\"text-align: right;\">\n",
       "      <th></th>\n",
       "      <th>Pclass</th>\n",
       "      <th>Gendr</th>\n",
       "      <th>Age</th>\n",
       "      <th>SibSp</th>\n",
       "      <th>Parch</th>\n",
       "      <th>Ticket</th>\n",
       "      <th>Embarked</th>\n",
       "      <th>Survived</th>\n",
       "      <th>ticket_date</th>\n",
       "    </tr>\n",
       "  </thead>\n",
       "  <tbody>\n",
       "    <tr>\n",
       "      <th>0</th>\n",
       "      <td>3</td>\n",
       "      <td>male</td>\n",
       "      <td>22.0</td>\n",
       "      <td>1</td>\n",
       "      <td>0</td>\n",
       "      <td>A/5 21171</td>\n",
       "      <td>S</td>\n",
       "      <td>0</td>\n",
       "      <td>1912-01-12</td>\n",
       "    </tr>\n",
       "    <tr>\n",
       "      <th>1</th>\n",
       "      <td>1</td>\n",
       "      <td>female</td>\n",
       "      <td>38.0</td>\n",
       "      <td>1</td>\n",
       "      <td>0</td>\n",
       "      <td>PC 17599</td>\n",
       "      <td>C</td>\n",
       "      <td>1</td>\n",
       "      <td>1912-03-29</td>\n",
       "    </tr>\n",
       "    <tr>\n",
       "      <th>3</th>\n",
       "      <td>1</td>\n",
       "      <td>female</td>\n",
       "      <td>NaN</td>\n",
       "      <td>1</td>\n",
       "      <td>0</td>\n",
       "      <td>113803</td>\n",
       "      <td>S</td>\n",
       "      <td>1</td>\n",
       "      <td>1912-03-28</td>\n",
       "    </tr>\n",
       "    <tr>\n",
       "      <th>4</th>\n",
       "      <td>3</td>\n",
       "      <td>male</td>\n",
       "      <td>35.0</td>\n",
       "      <td>0</td>\n",
       "      <td>0</td>\n",
       "      <td>373450</td>\n",
       "      <td>S</td>\n",
       "      <td>0</td>\n",
       "      <td>1912-04-03</td>\n",
       "    </tr>\n",
       "    <tr>\n",
       "      <th>5</th>\n",
       "      <td>3</td>\n",
       "      <td>male</td>\n",
       "      <td>28.0</td>\n",
       "      <td>0</td>\n",
       "      <td>0</td>\n",
       "      <td>330877</td>\n",
       "      <td>Q</td>\n",
       "      <td>0</td>\n",
       "      <td>1912-03-30</td>\n",
       "    </tr>\n",
       "    <tr>\n",
       "      <th>...</th>\n",
       "      <td>...</td>\n",
       "      <td>...</td>\n",
       "      <td>...</td>\n",
       "      <td>...</td>\n",
       "      <td>...</td>\n",
       "      <td>...</td>\n",
       "      <td>...</td>\n",
       "      <td>...</td>\n",
       "      <td>...</td>\n",
       "    </tr>\n",
       "    <tr>\n",
       "      <th>880</th>\n",
       "      <td>2</td>\n",
       "      <td>male</td>\n",
       "      <td>27.0</td>\n",
       "      <td>0</td>\n",
       "      <td>0</td>\n",
       "      <td>211536</td>\n",
       "      <td>S</td>\n",
       "      <td>0</td>\n",
       "      <td>1912-01-29</td>\n",
       "    </tr>\n",
       "    <tr>\n",
       "      <th>881</th>\n",
       "      <td>1</td>\n",
       "      <td>female</td>\n",
       "      <td>19.0</td>\n",
       "      <td>0</td>\n",
       "      <td>0</td>\n",
       "      <td>112053</td>\n",
       "      <td>S</td>\n",
       "      <td>1</td>\n",
       "      <td>1912-03-30</td>\n",
       "    </tr>\n",
       "    <tr>\n",
       "      <th>882</th>\n",
       "      <td>3</td>\n",
       "      <td>female</td>\n",
       "      <td>28.0</td>\n",
       "      <td>1</td>\n",
       "      <td>2</td>\n",
       "      <td>W./C. 6607</td>\n",
       "      <td>S</td>\n",
       "      <td>0</td>\n",
       "      <td>1912-04-07</td>\n",
       "    </tr>\n",
       "    <tr>\n",
       "      <th>883</th>\n",
       "      <td>1</td>\n",
       "      <td>male</td>\n",
       "      <td>26.0</td>\n",
       "      <td>0</td>\n",
       "      <td>0</td>\n",
       "      <td>111369</td>\n",
       "      <td>C</td>\n",
       "      <td>1</td>\n",
       "      <td>1912-03-01</td>\n",
       "    </tr>\n",
       "    <tr>\n",
       "      <th>884</th>\n",
       "      <td>3</td>\n",
       "      <td>male</td>\n",
       "      <td>32.0</td>\n",
       "      <td>0</td>\n",
       "      <td>0</td>\n",
       "      <td>370376</td>\n",
       "      <td>Q</td>\n",
       "      <td>0</td>\n",
       "      <td>1912-03-05</td>\n",
       "    </tr>\n",
       "  </tbody>\n",
       "</table>\n",
       "<p>881 rows × 9 columns</p>\n",
       "</div>"
      ],
      "text/plain": [
       "     Pclass   Gendr   Age  SibSp  Parch      Ticket Embarked  Survived  \\\n",
       "0         3    male  22.0      1      0   A/5 21171        S         0   \n",
       "1         1  female  38.0      1      0    PC 17599        C         1   \n",
       "3         1  female   NaN      1      0      113803        S         1   \n",
       "4         3    male  35.0      0      0      373450        S         0   \n",
       "5         3    male  28.0      0      0      330877        Q         0   \n",
       "..      ...     ...   ...    ...    ...         ...      ...       ...   \n",
       "880       2    male  27.0      0      0      211536        S         0   \n",
       "881       1  female  19.0      0      0      112053        S         1   \n",
       "882       3  female  28.0      1      2  W./C. 6607        S         0   \n",
       "883       1    male  26.0      0      0      111369        C         1   \n",
       "884       3    male  32.0      0      0      370376        Q         0   \n",
       "\n",
       "    ticket_date  \n",
       "0    1912-01-12  \n",
       "1    1912-03-29  \n",
       "3    1912-03-28  \n",
       "4    1912-04-03  \n",
       "5    1912-03-30  \n",
       "..          ...  \n",
       "880  1912-01-29  \n",
       "881  1912-03-30  \n",
       "882  1912-04-07  \n",
       "883  1912-03-01  \n",
       "884  1912-03-05  \n",
       "\n",
       "[881 rows x 9 columns]"
      ]
     },
     "execution_count": 105,
     "metadata": {},
     "output_type": "execute_result"
    }
   ],
   "source": [
    "# 두번째 줄 데이터 통째로 날리기\n",
    "data.drop(2)"
   ]
  },
  {
   "cell_type": "code",
   "execution_count": 106,
   "id": "7d754650",
   "metadata": {},
   "outputs": [
    {
     "data": {
      "text/html": [
       "<div>\n",
       "<style scoped>\n",
       "    .dataframe tbody tr th:only-of-type {\n",
       "        vertical-align: middle;\n",
       "    }\n",
       "\n",
       "    .dataframe tbody tr th {\n",
       "        vertical-align: top;\n",
       "    }\n",
       "\n",
       "    .dataframe thead th {\n",
       "        text-align: right;\n",
       "    }\n",
       "</style>\n",
       "<table border=\"1\" class=\"dataframe\">\n",
       "  <thead>\n",
       "    <tr style=\"text-align: right;\">\n",
       "      <th></th>\n",
       "      <th>Gendr</th>\n",
       "      <th>SibSp</th>\n",
       "      <th>Parch</th>\n",
       "      <th>Ticket</th>\n",
       "      <th>Embarked</th>\n",
       "      <th>Survived</th>\n",
       "      <th>ticket_date</th>\n",
       "    </tr>\n",
       "  </thead>\n",
       "  <tbody>\n",
       "    <tr>\n",
       "      <th>0</th>\n",
       "      <td>male</td>\n",
       "      <td>1</td>\n",
       "      <td>0</td>\n",
       "      <td>A/5 21171</td>\n",
       "      <td>S</td>\n",
       "      <td>0</td>\n",
       "      <td>1912-01-12</td>\n",
       "    </tr>\n",
       "    <tr>\n",
       "      <th>1</th>\n",
       "      <td>female</td>\n",
       "      <td>1</td>\n",
       "      <td>0</td>\n",
       "      <td>PC 17599</td>\n",
       "      <td>C</td>\n",
       "      <td>1</td>\n",
       "      <td>1912-03-29</td>\n",
       "    </tr>\n",
       "    <tr>\n",
       "      <th>2</th>\n",
       "      <td>female</td>\n",
       "      <td>0</td>\n",
       "      <td>0</td>\n",
       "      <td>STON/O2. 3101282</td>\n",
       "      <td>S</td>\n",
       "      <td>1</td>\n",
       "      <td>1912-02-23</td>\n",
       "    </tr>\n",
       "    <tr>\n",
       "      <th>3</th>\n",
       "      <td>female</td>\n",
       "      <td>1</td>\n",
       "      <td>0</td>\n",
       "      <td>113803</td>\n",
       "      <td>S</td>\n",
       "      <td>1</td>\n",
       "      <td>1912-03-28</td>\n",
       "    </tr>\n",
       "    <tr>\n",
       "      <th>4</th>\n",
       "      <td>male</td>\n",
       "      <td>0</td>\n",
       "      <td>0</td>\n",
       "      <td>373450</td>\n",
       "      <td>S</td>\n",
       "      <td>0</td>\n",
       "      <td>1912-04-03</td>\n",
       "    </tr>\n",
       "    <tr>\n",
       "      <th>...</th>\n",
       "      <td>...</td>\n",
       "      <td>...</td>\n",
       "      <td>...</td>\n",
       "      <td>...</td>\n",
       "      <td>...</td>\n",
       "      <td>...</td>\n",
       "      <td>...</td>\n",
       "    </tr>\n",
       "    <tr>\n",
       "      <th>880</th>\n",
       "      <td>male</td>\n",
       "      <td>0</td>\n",
       "      <td>0</td>\n",
       "      <td>211536</td>\n",
       "      <td>S</td>\n",
       "      <td>0</td>\n",
       "      <td>1912-01-29</td>\n",
       "    </tr>\n",
       "    <tr>\n",
       "      <th>881</th>\n",
       "      <td>female</td>\n",
       "      <td>0</td>\n",
       "      <td>0</td>\n",
       "      <td>112053</td>\n",
       "      <td>S</td>\n",
       "      <td>1</td>\n",
       "      <td>1912-03-30</td>\n",
       "    </tr>\n",
       "    <tr>\n",
       "      <th>882</th>\n",
       "      <td>female</td>\n",
       "      <td>1</td>\n",
       "      <td>2</td>\n",
       "      <td>W./C. 6607</td>\n",
       "      <td>S</td>\n",
       "      <td>0</td>\n",
       "      <td>1912-04-07</td>\n",
       "    </tr>\n",
       "    <tr>\n",
       "      <th>883</th>\n",
       "      <td>male</td>\n",
       "      <td>0</td>\n",
       "      <td>0</td>\n",
       "      <td>111369</td>\n",
       "      <td>C</td>\n",
       "      <td>1</td>\n",
       "      <td>1912-03-01</td>\n",
       "    </tr>\n",
       "    <tr>\n",
       "      <th>884</th>\n",
       "      <td>male</td>\n",
       "      <td>0</td>\n",
       "      <td>0</td>\n",
       "      <td>370376</td>\n",
       "      <td>Q</td>\n",
       "      <td>0</td>\n",
       "      <td>1912-03-05</td>\n",
       "    </tr>\n",
       "  </tbody>\n",
       "</table>\n",
       "<p>882 rows × 7 columns</p>\n",
       "</div>"
      ],
      "text/plain": [
       "      Gendr  SibSp  Parch            Ticket Embarked  Survived ticket_date\n",
       "0      male      1      0         A/5 21171        S         0  1912-01-12\n",
       "1    female      1      0          PC 17599        C         1  1912-03-29\n",
       "2    female      0      0  STON/O2. 3101282        S         1  1912-02-23\n",
       "3    female      1      0            113803        S         1  1912-03-28\n",
       "4      male      0      0            373450        S         0  1912-04-03\n",
       "..      ...    ...    ...               ...      ...       ...         ...\n",
       "880    male      0      0            211536        S         0  1912-01-29\n",
       "881  female      0      0            112053        S         1  1912-03-30\n",
       "882  female      1      2        W./C. 6607        S         0  1912-04-07\n",
       "883    male      0      0            111369        C         1  1912-03-01\n",
       "884    male      0      0            370376        Q         0  1912-03-05\n",
       "\n",
       "[882 rows x 7 columns]"
      ]
     },
     "execution_count": 106,
     "metadata": {},
     "output_type": "execute_result"
    }
   ],
   "source": [
    "# 연습. pclass, age 컬럼 삭제해보기\n",
    "\n",
    "data.drop(['Pclass', 'Age'], axis = 1)\n"
   ]
  },
  {
   "cell_type": "code",
   "execution_count": 107,
   "id": "807948b2",
   "metadata": {},
   "outputs": [
    {
     "data": {
      "text/html": [
       "<div>\n",
       "<style scoped>\n",
       "    .dataframe tbody tr th:only-of-type {\n",
       "        vertical-align: middle;\n",
       "    }\n",
       "\n",
       "    .dataframe tbody tr th {\n",
       "        vertical-align: top;\n",
       "    }\n",
       "\n",
       "    .dataframe thead th {\n",
       "        text-align: right;\n",
       "    }\n",
       "</style>\n",
       "<table border=\"1\" class=\"dataframe\">\n",
       "  <thead>\n",
       "    <tr style=\"text-align: right;\">\n",
       "      <th></th>\n",
       "      <th>Pclass</th>\n",
       "      <th>Gendr</th>\n",
       "      <th>Age</th>\n",
       "      <th>SibSp</th>\n",
       "      <th>Parch</th>\n",
       "      <th>Ticket</th>\n",
       "      <th>Embarked</th>\n",
       "      <th>Survived</th>\n",
       "      <th>ticket_date</th>\n",
       "    </tr>\n",
       "  </thead>\n",
       "  <tbody>\n",
       "    <tr>\n",
       "      <th>2</th>\n",
       "      <td>3</td>\n",
       "      <td>female</td>\n",
       "      <td>26.0</td>\n",
       "      <td>0</td>\n",
       "      <td>0</td>\n",
       "      <td>STON/O2. 3101282</td>\n",
       "      <td>S</td>\n",
       "      <td>1</td>\n",
       "      <td>1912-02-23</td>\n",
       "    </tr>\n",
       "    <tr>\n",
       "      <th>5</th>\n",
       "      <td>3</td>\n",
       "      <td>male</td>\n",
       "      <td>28.0</td>\n",
       "      <td>0</td>\n",
       "      <td>0</td>\n",
       "      <td>330877</td>\n",
       "      <td>Q</td>\n",
       "      <td>0</td>\n",
       "      <td>1912-03-30</td>\n",
       "    </tr>\n",
       "    <tr>\n",
       "      <th>6</th>\n",
       "      <td>1</td>\n",
       "      <td>male</td>\n",
       "      <td>54.0</td>\n",
       "      <td>0</td>\n",
       "      <td>0</td>\n",
       "      <td>17463</td>\n",
       "      <td>S</td>\n",
       "      <td>0</td>\n",
       "      <td>1912-03-14</td>\n",
       "    </tr>\n",
       "  </tbody>\n",
       "</table>\n",
       "</div>"
      ],
      "text/plain": [
       "   Pclass   Gendr   Age  SibSp  Parch            Ticket Embarked  Survived  \\\n",
       "2       3  female  26.0      0      0  STON/O2. 3101282        S         1   \n",
       "5       3    male  28.0      0      0            330877        Q         0   \n",
       "6       1    male  54.0      0      0             17463        S         0   \n",
       "\n",
       "  ticket_date  \n",
       "2  1912-02-23  \n",
       "5  1912-03-30  \n",
       "6  1912-03-14  "
      ]
     },
     "execution_count": 107,
     "metadata": {},
     "output_type": "execute_result"
    }
   ],
   "source": [
    "# 판다스에서 특정 줄 소환: loc\n",
    "# 여러개 불러올때는 꼭 []로 리스트 처리\n",
    "data.loc[[2,5,6]]"
   ]
  },
  {
   "cell_type": "code",
   "execution_count": 108,
   "id": "1b5e5258",
   "metadata": {},
   "outputs": [
    {
     "data": {
      "text/plain": [
       "Pclass                  3\n",
       "Gendr                male\n",
       "Age                  28.0\n",
       "SibSp                   0\n",
       "Parch                   0\n",
       "Ticket             330877\n",
       "Embarked                Q\n",
       "Survived                0\n",
       "ticket_date    1912-03-30\n",
       "Name: 5, dtype: object"
      ]
     },
     "execution_count": 108,
     "metadata": {},
     "output_type": "execute_result"
    }
   ],
   "source": [
    "# iloc: 순서 기반으로 불러온거임 / loc 실제 데이터에 써있는 이름 기반\n",
    "data.iloc[5]"
   ]
  },
  {
   "cell_type": "code",
   "execution_count": 109,
   "id": "54e89874",
   "metadata": {},
   "outputs": [],
   "source": [
    "temp = data.head().copy()"
   ]
  },
  {
   "cell_type": "code",
   "execution_count": 110,
   "id": "44f69c8a",
   "metadata": {},
   "outputs": [],
   "source": [
    "temp.index = ['a','b','c','d','e']"
   ]
  },
  {
   "cell_type": "code",
   "execution_count": 111,
   "id": "ce5cf0d1",
   "metadata": {},
   "outputs": [
    {
     "data": {
      "text/html": [
       "<div>\n",
       "<style scoped>\n",
       "    .dataframe tbody tr th:only-of-type {\n",
       "        vertical-align: middle;\n",
       "    }\n",
       "\n",
       "    .dataframe tbody tr th {\n",
       "        vertical-align: top;\n",
       "    }\n",
       "\n",
       "    .dataframe thead th {\n",
       "        text-align: right;\n",
       "    }\n",
       "</style>\n",
       "<table border=\"1\" class=\"dataframe\">\n",
       "  <thead>\n",
       "    <tr style=\"text-align: right;\">\n",
       "      <th></th>\n",
       "      <th>Pclass</th>\n",
       "      <th>Gendr</th>\n",
       "      <th>Age</th>\n",
       "      <th>SibSp</th>\n",
       "      <th>Parch</th>\n",
       "      <th>Ticket</th>\n",
       "      <th>Embarked</th>\n",
       "      <th>Survived</th>\n",
       "      <th>ticket_date</th>\n",
       "    </tr>\n",
       "  </thead>\n",
       "  <tbody>\n",
       "    <tr>\n",
       "      <th>a</th>\n",
       "      <td>3</td>\n",
       "      <td>male</td>\n",
       "      <td>22.0</td>\n",
       "      <td>1</td>\n",
       "      <td>0</td>\n",
       "      <td>A/5 21171</td>\n",
       "      <td>S</td>\n",
       "      <td>0</td>\n",
       "      <td>1912-01-12</td>\n",
       "    </tr>\n",
       "    <tr>\n",
       "      <th>b</th>\n",
       "      <td>1</td>\n",
       "      <td>female</td>\n",
       "      <td>38.0</td>\n",
       "      <td>1</td>\n",
       "      <td>0</td>\n",
       "      <td>PC 17599</td>\n",
       "      <td>C</td>\n",
       "      <td>1</td>\n",
       "      <td>1912-03-29</td>\n",
       "    </tr>\n",
       "    <tr>\n",
       "      <th>c</th>\n",
       "      <td>3</td>\n",
       "      <td>female</td>\n",
       "      <td>26.0</td>\n",
       "      <td>0</td>\n",
       "      <td>0</td>\n",
       "      <td>STON/O2. 3101282</td>\n",
       "      <td>S</td>\n",
       "      <td>1</td>\n",
       "      <td>1912-02-23</td>\n",
       "    </tr>\n",
       "    <tr>\n",
       "      <th>d</th>\n",
       "      <td>1</td>\n",
       "      <td>female</td>\n",
       "      <td>NaN</td>\n",
       "      <td>1</td>\n",
       "      <td>0</td>\n",
       "      <td>113803</td>\n",
       "      <td>S</td>\n",
       "      <td>1</td>\n",
       "      <td>1912-03-28</td>\n",
       "    </tr>\n",
       "    <tr>\n",
       "      <th>e</th>\n",
       "      <td>3</td>\n",
       "      <td>male</td>\n",
       "      <td>35.0</td>\n",
       "      <td>0</td>\n",
       "      <td>0</td>\n",
       "      <td>373450</td>\n",
       "      <td>S</td>\n",
       "      <td>0</td>\n",
       "      <td>1912-04-03</td>\n",
       "    </tr>\n",
       "  </tbody>\n",
       "</table>\n",
       "</div>"
      ],
      "text/plain": [
       "   Pclass   Gendr   Age  SibSp  Parch            Ticket Embarked  Survived  \\\n",
       "a       3    male  22.0      1      0         A/5 21171        S         0   \n",
       "b       1  female  38.0      1      0          PC 17599        C         1   \n",
       "c       3  female  26.0      0      0  STON/O2. 3101282        S         1   \n",
       "d       1  female   NaN      1      0            113803        S         1   \n",
       "e       3    male  35.0      0      0            373450        S         0   \n",
       "\n",
       "  ticket_date  \n",
       "a  1912-01-12  \n",
       "b  1912-03-29  \n",
       "c  1912-02-23  \n",
       "d  1912-03-28  \n",
       "e  1912-04-03  "
      ]
     },
     "execution_count": 111,
     "metadata": {},
     "output_type": "execute_result"
    }
   ],
   "source": [
    "temp"
   ]
  },
  {
   "cell_type": "code",
   "execution_count": 112,
   "id": "bd30a148",
   "metadata": {},
   "outputs": [
    {
     "data": {
      "text/plain": [
       "Pclass                        3\n",
       "Gendr                    female\n",
       "Age                        26.0\n",
       "SibSp                         0\n",
       "Parch                         0\n",
       "Ticket         STON/O2. 3101282\n",
       "Embarked                      S\n",
       "Survived                      1\n",
       "ticket_date          1912-02-23\n",
       "Name: c, dtype: object"
      ]
     },
     "execution_count": 112,
     "metadata": {},
     "output_type": "execute_result"
    }
   ],
   "source": [
    "temp.loc['c']"
   ]
  },
  {
   "cell_type": "code",
   "execution_count": 113,
   "id": "8d8a1fde",
   "metadata": {},
   "outputs": [
    {
     "data": {
      "text/plain": [
       "Pclass                        3\n",
       "Gendr                    female\n",
       "Age                        26.0\n",
       "SibSp                         0\n",
       "Parch                         0\n",
       "Ticket         STON/O2. 3101282\n",
       "Embarked                      S\n",
       "Survived                      1\n",
       "ticket_date          1912-02-23\n",
       "Name: c, dtype: object"
      ]
     },
     "execution_count": 113,
     "metadata": {},
     "output_type": "execute_result"
    }
   ],
   "source": [
    "temp.iloc[2]"
   ]
  },
  {
   "cell_type": "code",
   "execution_count": 114,
   "id": "ac9f24a9",
   "metadata": {},
   "outputs": [
    {
     "data": {
      "text/plain": [
       "Pclass         0\n",
       "Gendr          0\n",
       "Age            6\n",
       "SibSp          0\n",
       "Parch          0\n",
       "Ticket         0\n",
       "Embarked       2\n",
       "Survived       0\n",
       "ticket_date    0\n",
       "dtype: int64"
      ]
     },
     "execution_count": 114,
     "metadata": {},
     "output_type": "execute_result"
    }
   ],
   "source": [
    "# 컬럼별 결측치 확인 na가 있냐/없냐 (뒤에 .sum()붙이면 개수, 안붙이면 그냥 true,false)\n",
    "data.isna().sum()"
   ]
  },
  {
   "cell_type": "code",
   "execution_count": 115,
   "id": "4a14b5f3",
   "metadata": {},
   "outputs": [
    {
     "data": {
      "text/plain": [
       "Pclass         0.000000\n",
       "Gendr          0.000000\n",
       "Age            0.006803\n",
       "SibSp          0.000000\n",
       "Parch          0.000000\n",
       "Ticket         0.000000\n",
       "Embarked       0.002268\n",
       "Survived       0.000000\n",
       "ticket_date    0.000000\n",
       "dtype: float64"
      ]
     },
     "execution_count": 115,
     "metadata": {},
     "output_type": "execute_result"
    }
   ],
   "source": [
    "# 각 컬럼의 결측치 평균\n",
    "data.isna().mean()"
   ]
  },
  {
   "cell_type": "code",
   "execution_count": 116,
   "id": "a7ee49e6",
   "metadata": {},
   "outputs": [
    {
     "data": {
      "text/plain": [
       "0      False\n",
       "1      False\n",
       "2      False\n",
       "3       True\n",
       "4      False\n",
       "       ...  \n",
       "880    False\n",
       "881    False\n",
       "882    False\n",
       "883    False\n",
       "884    False\n",
       "Name: Age, Length: 882, dtype: bool"
      ]
     },
     "execution_count": 116,
     "metadata": {},
     "output_type": "execute_result"
    }
   ],
   "source": [
    "# 특정 컬럼의 null 값 확인\n",
    "data['Age'].isna()"
   ]
  },
  {
   "cell_type": "code",
   "execution_count": 117,
   "id": "71d563df",
   "metadata": {},
   "outputs": [
    {
     "data": {
      "text/html": [
       "<div>\n",
       "<style scoped>\n",
       "    .dataframe tbody tr th:only-of-type {\n",
       "        vertical-align: middle;\n",
       "    }\n",
       "\n",
       "    .dataframe tbody tr th {\n",
       "        vertical-align: top;\n",
       "    }\n",
       "\n",
       "    .dataframe thead th {\n",
       "        text-align: right;\n",
       "    }\n",
       "</style>\n",
       "<table border=\"1\" class=\"dataframe\">\n",
       "  <thead>\n",
       "    <tr style=\"text-align: right;\">\n",
       "      <th></th>\n",
       "      <th>Pclass</th>\n",
       "      <th>Gendr</th>\n",
       "      <th>Age</th>\n",
       "      <th>SibSp</th>\n",
       "      <th>Parch</th>\n",
       "      <th>Ticket</th>\n",
       "      <th>Embarked</th>\n",
       "      <th>Survived</th>\n",
       "      <th>ticket_date</th>\n",
       "    </tr>\n",
       "  </thead>\n",
       "  <tbody>\n",
       "    <tr>\n",
       "      <th>3</th>\n",
       "      <td>1</td>\n",
       "      <td>female</td>\n",
       "      <td>NaN</td>\n",
       "      <td>1</td>\n",
       "      <td>0</td>\n",
       "      <td>113803</td>\n",
       "      <td>S</td>\n",
       "      <td>1</td>\n",
       "      <td>1912-03-28</td>\n",
       "    </tr>\n",
       "    <tr>\n",
       "      <th>106</th>\n",
       "      <td>3</td>\n",
       "      <td>male</td>\n",
       "      <td>NaN</td>\n",
       "      <td>0</td>\n",
       "      <td>0</td>\n",
       "      <td>312991</td>\n",
       "      <td>S</td>\n",
       "      <td>1</td>\n",
       "      <td>1912-01-27</td>\n",
       "    </tr>\n",
       "    <tr>\n",
       "      <th>156</th>\n",
       "      <td>3</td>\n",
       "      <td>male</td>\n",
       "      <td>NaN</td>\n",
       "      <td>0</td>\n",
       "      <td>0</td>\n",
       "      <td>SOTON/OQ 392090</td>\n",
       "      <td>S</td>\n",
       "      <td>0</td>\n",
       "      <td>1912-04-01</td>\n",
       "    </tr>\n",
       "    <tr>\n",
       "      <th>185</th>\n",
       "      <td>3</td>\n",
       "      <td>female</td>\n",
       "      <td>NaN</td>\n",
       "      <td>1</td>\n",
       "      <td>0</td>\n",
       "      <td>370365</td>\n",
       "      <td>Q</td>\n",
       "      <td>1</td>\n",
       "      <td>1912-03-25</td>\n",
       "    </tr>\n",
       "    <tr>\n",
       "      <th>213</th>\n",
       "      <td>3</td>\n",
       "      <td>male</td>\n",
       "      <td>NaN</td>\n",
       "      <td>1</td>\n",
       "      <td>0</td>\n",
       "      <td>367229</td>\n",
       "      <td>Q</td>\n",
       "      <td>0</td>\n",
       "      <td>1912-02-12</td>\n",
       "    </tr>\n",
       "    <tr>\n",
       "      <th>241</th>\n",
       "      <td>2</td>\n",
       "      <td>male</td>\n",
       "      <td>NaN</td>\n",
       "      <td>0</td>\n",
       "      <td>0</td>\n",
       "      <td>W./C. 14263</td>\n",
       "      <td>S</td>\n",
       "      <td>0</td>\n",
       "      <td>1912-01-31</td>\n",
       "    </tr>\n",
       "  </tbody>\n",
       "</table>\n",
       "</div>"
      ],
      "text/plain": [
       "     Pclass   Gendr  Age  SibSp  Parch           Ticket Embarked  Survived  \\\n",
       "3         1  female  NaN      1      0           113803        S         1   \n",
       "106       3    male  NaN      0      0           312991        S         1   \n",
       "156       3    male  NaN      0      0  SOTON/OQ 392090        S         0   \n",
       "185       3  female  NaN      1      0           370365        Q         1   \n",
       "213       3    male  NaN      1      0           367229        Q         0   \n",
       "241       2    male  NaN      0      0      W./C. 14263        S         0   \n",
       "\n",
       "    ticket_date  \n",
       "3    1912-03-28  \n",
       "106  1912-01-27  \n",
       "156  1912-04-01  \n",
       "185  1912-03-25  \n",
       "213  1912-02-12  \n",
       "241  1912-01-31  "
      ]
     },
     "execution_count": 117,
     "metadata": {},
     "output_type": "execute_result"
    }
   ],
   "source": [
    "# 특정 컬럼이 null값인(true에 해당하는) 줄만 출력\n",
    "data[data['Age'].isna()]"
   ]
  },
  {
   "cell_type": "code",
   "execution_count": 118,
   "id": "eab8135e",
   "metadata": {},
   "outputs": [],
   "source": [
    "# 방금 확인한 null값 데이터를 인덱스로 저장\n",
    "age_na_index = data[data['Age'].isna()].index"
   ]
  },
  {
   "cell_type": "code",
   "execution_count": 119,
   "id": "9d09643c",
   "metadata": {},
   "outputs": [
    {
     "data": {
      "text/plain": [
       "Int64Index([3, 106, 156, 185, 213, 241], dtype='int64')"
      ]
     },
     "execution_count": 119,
     "metadata": {},
     "output_type": "execute_result"
    }
   ],
   "source": [
    "age_na_index"
   ]
  },
  {
   "cell_type": "code",
   "execution_count": 120,
   "id": "da0c3abe",
   "metadata": {},
   "outputs": [],
   "source": [
    "# embarked 컬럼의 null값 확인\n",
    "embarked_na_index = data[data['Embarked'].isna()].index"
   ]
  },
  {
   "cell_type": "code",
   "execution_count": 121,
   "id": "60af1c0f",
   "metadata": {},
   "outputs": [
    {
     "data": {
      "text/plain": [
       "Int64Index([15, 322], dtype='int64')"
      ]
     },
     "execution_count": 121,
     "metadata": {},
     "output_type": "execute_result"
    }
   ],
   "source": [
    "embarked_na_index"
   ]
  },
  {
   "cell_type": "code",
   "execution_count": 122,
   "id": "3d79fb19",
   "metadata": {
    "scrolled": true
   },
   "outputs": [
    {
     "data": {
      "text/html": [
       "<div>\n",
       "<style scoped>\n",
       "    .dataframe tbody tr th:only-of-type {\n",
       "        vertical-align: middle;\n",
       "    }\n",
       "\n",
       "    .dataframe tbody tr th {\n",
       "        vertical-align: top;\n",
       "    }\n",
       "\n",
       "    .dataframe thead th {\n",
       "        text-align: right;\n",
       "    }\n",
       "</style>\n",
       "<table border=\"1\" class=\"dataframe\">\n",
       "  <thead>\n",
       "    <tr style=\"text-align: right;\">\n",
       "      <th></th>\n",
       "      <th>Pclass</th>\n",
       "      <th>Gendr</th>\n",
       "      <th>Age</th>\n",
       "      <th>SibSp</th>\n",
       "      <th>Parch</th>\n",
       "      <th>Ticket</th>\n",
       "      <th>Embarked</th>\n",
       "      <th>Survived</th>\n",
       "      <th>ticket_date</th>\n",
       "    </tr>\n",
       "  </thead>\n",
       "  <tbody>\n",
       "    <tr>\n",
       "      <th>15</th>\n",
       "      <td>2</td>\n",
       "      <td>female</td>\n",
       "      <td>55.0</td>\n",
       "      <td>0</td>\n",
       "      <td>0</td>\n",
       "      <td>248706</td>\n",
       "      <td>NaN</td>\n",
       "      <td>1</td>\n",
       "      <td>1912-03-05</td>\n",
       "    </tr>\n",
       "    <tr>\n",
       "      <th>322</th>\n",
       "      <td>3</td>\n",
       "      <td>male</td>\n",
       "      <td>28.0</td>\n",
       "      <td>8</td>\n",
       "      <td>2</td>\n",
       "      <td>CA. 2343</td>\n",
       "      <td>NaN</td>\n",
       "      <td>0</td>\n",
       "      <td>1912-03-26</td>\n",
       "    </tr>\n",
       "  </tbody>\n",
       "</table>\n",
       "</div>"
      ],
      "text/plain": [
       "     Pclass   Gendr   Age  SibSp  Parch    Ticket Embarked  Survived  \\\n",
       "15        2  female  55.0      0      0    248706      NaN         1   \n",
       "322       3    male  28.0      8      2  CA. 2343      NaN         0   \n",
       "\n",
       "    ticket_date  \n",
       "15   1912-03-05  \n",
       "322  1912-03-26  "
      ]
     },
     "execution_count": 122,
     "metadata": {},
     "output_type": "execute_result"
    }
   ],
   "source": [
    "# null값 어케 생겼는지 확인\n",
    "data.loc[embarked_na_index]"
   ]
  },
  {
   "cell_type": "code",
   "execution_count": 123,
   "id": "a7a17ee0",
   "metadata": {},
   "outputs": [],
   "source": [
    "# 참고\n",
    "# null 값을 그럴싸한 값으로 넣고 싶은 욕구가 생길 수 있지만, 노이즈 최소화를 위해 null값 줄은 최대한 '안 쓰는게' 좋음\n",
    "# 위에서 데이터 확인해본 결과 age 6개, embarked 2개로 총 8개의 null값 존재 > 몇개 없고 전체 데이터에 영향 작을것 같으니 걍 삭제 ㄱㄱ"
   ]
  },
  {
   "cell_type": "code",
   "execution_count": 124,
   "id": "320b7d69",
   "metadata": {},
   "outputs": [
    {
     "data": {
      "text/plain": [
       "882"
      ]
     },
     "execution_count": 124,
     "metadata": {},
     "output_type": "execute_result"
    }
   ],
   "source": [
    "# 데이터 총 행개수 확인\n",
    "len(data)"
   ]
  },
  {
   "cell_type": "code",
   "execution_count": 125,
   "id": "ff2f5b97",
   "metadata": {},
   "outputs": [
    {
     "data": {
      "text/html": [
       "<div>\n",
       "<style scoped>\n",
       "    .dataframe tbody tr th:only-of-type {\n",
       "        vertical-align: middle;\n",
       "    }\n",
       "\n",
       "    .dataframe tbody tr th {\n",
       "        vertical-align: top;\n",
       "    }\n",
       "\n",
       "    .dataframe thead th {\n",
       "        text-align: right;\n",
       "    }\n",
       "</style>\n",
       "<table border=\"1\" class=\"dataframe\">\n",
       "  <thead>\n",
       "    <tr style=\"text-align: right;\">\n",
       "      <th></th>\n",
       "      <th>Pclass</th>\n",
       "      <th>Gendr</th>\n",
       "      <th>Age</th>\n",
       "      <th>SibSp</th>\n",
       "      <th>Parch</th>\n",
       "      <th>Ticket</th>\n",
       "      <th>Embarked</th>\n",
       "      <th>Survived</th>\n",
       "      <th>ticket_date</th>\n",
       "    </tr>\n",
       "  </thead>\n",
       "  <tbody>\n",
       "    <tr>\n",
       "      <th>0</th>\n",
       "      <td>3</td>\n",
       "      <td>male</td>\n",
       "      <td>22.0</td>\n",
       "      <td>1</td>\n",
       "      <td>0</td>\n",
       "      <td>A/5 21171</td>\n",
       "      <td>S</td>\n",
       "      <td>0</td>\n",
       "      <td>1912-01-12</td>\n",
       "    </tr>\n",
       "    <tr>\n",
       "      <th>1</th>\n",
       "      <td>1</td>\n",
       "      <td>female</td>\n",
       "      <td>38.0</td>\n",
       "      <td>1</td>\n",
       "      <td>0</td>\n",
       "      <td>PC 17599</td>\n",
       "      <td>C</td>\n",
       "      <td>1</td>\n",
       "      <td>1912-03-29</td>\n",
       "    </tr>\n",
       "    <tr>\n",
       "      <th>2</th>\n",
       "      <td>3</td>\n",
       "      <td>female</td>\n",
       "      <td>26.0</td>\n",
       "      <td>0</td>\n",
       "      <td>0</td>\n",
       "      <td>STON/O2. 3101282</td>\n",
       "      <td>S</td>\n",
       "      <td>1</td>\n",
       "      <td>1912-02-23</td>\n",
       "    </tr>\n",
       "    <tr>\n",
       "      <th>4</th>\n",
       "      <td>3</td>\n",
       "      <td>male</td>\n",
       "      <td>35.0</td>\n",
       "      <td>0</td>\n",
       "      <td>0</td>\n",
       "      <td>373450</td>\n",
       "      <td>S</td>\n",
       "      <td>0</td>\n",
       "      <td>1912-04-03</td>\n",
       "    </tr>\n",
       "    <tr>\n",
       "      <th>5</th>\n",
       "      <td>3</td>\n",
       "      <td>male</td>\n",
       "      <td>28.0</td>\n",
       "      <td>0</td>\n",
       "      <td>0</td>\n",
       "      <td>330877</td>\n",
       "      <td>Q</td>\n",
       "      <td>0</td>\n",
       "      <td>1912-03-30</td>\n",
       "    </tr>\n",
       "    <tr>\n",
       "      <th>...</th>\n",
       "      <td>...</td>\n",
       "      <td>...</td>\n",
       "      <td>...</td>\n",
       "      <td>...</td>\n",
       "      <td>...</td>\n",
       "      <td>...</td>\n",
       "      <td>...</td>\n",
       "      <td>...</td>\n",
       "      <td>...</td>\n",
       "    </tr>\n",
       "    <tr>\n",
       "      <th>880</th>\n",
       "      <td>2</td>\n",
       "      <td>male</td>\n",
       "      <td>27.0</td>\n",
       "      <td>0</td>\n",
       "      <td>0</td>\n",
       "      <td>211536</td>\n",
       "      <td>S</td>\n",
       "      <td>0</td>\n",
       "      <td>1912-01-29</td>\n",
       "    </tr>\n",
       "    <tr>\n",
       "      <th>881</th>\n",
       "      <td>1</td>\n",
       "      <td>female</td>\n",
       "      <td>19.0</td>\n",
       "      <td>0</td>\n",
       "      <td>0</td>\n",
       "      <td>112053</td>\n",
       "      <td>S</td>\n",
       "      <td>1</td>\n",
       "      <td>1912-03-30</td>\n",
       "    </tr>\n",
       "    <tr>\n",
       "      <th>882</th>\n",
       "      <td>3</td>\n",
       "      <td>female</td>\n",
       "      <td>28.0</td>\n",
       "      <td>1</td>\n",
       "      <td>2</td>\n",
       "      <td>W./C. 6607</td>\n",
       "      <td>S</td>\n",
       "      <td>0</td>\n",
       "      <td>1912-04-07</td>\n",
       "    </tr>\n",
       "    <tr>\n",
       "      <th>883</th>\n",
       "      <td>1</td>\n",
       "      <td>male</td>\n",
       "      <td>26.0</td>\n",
       "      <td>0</td>\n",
       "      <td>0</td>\n",
       "      <td>111369</td>\n",
       "      <td>C</td>\n",
       "      <td>1</td>\n",
       "      <td>1912-03-01</td>\n",
       "    </tr>\n",
       "    <tr>\n",
       "      <th>884</th>\n",
       "      <td>3</td>\n",
       "      <td>male</td>\n",
       "      <td>32.0</td>\n",
       "      <td>0</td>\n",
       "      <td>0</td>\n",
       "      <td>370376</td>\n",
       "      <td>Q</td>\n",
       "      <td>0</td>\n",
       "      <td>1912-03-05</td>\n",
       "    </tr>\n",
       "  </tbody>\n",
       "</table>\n",
       "<p>874 rows × 9 columns</p>\n",
       "</div>"
      ],
      "text/plain": [
       "     Pclass   Gendr   Age  SibSp  Parch            Ticket Embarked  Survived  \\\n",
       "0         3    male  22.0      1      0         A/5 21171        S         0   \n",
       "1         1  female  38.0      1      0          PC 17599        C         1   \n",
       "2         3  female  26.0      0      0  STON/O2. 3101282        S         1   \n",
       "4         3    male  35.0      0      0            373450        S         0   \n",
       "5         3    male  28.0      0      0            330877        Q         0   \n",
       "..      ...     ...   ...    ...    ...               ...      ...       ...   \n",
       "880       2    male  27.0      0      0            211536        S         0   \n",
       "881       1  female  19.0      0      0            112053        S         1   \n",
       "882       3  female  28.0      1      2        W./C. 6607        S         0   \n",
       "883       1    male  26.0      0      0            111369        C         1   \n",
       "884       3    male  32.0      0      0            370376        Q         0   \n",
       "\n",
       "    ticket_date  \n",
       "0    1912-01-12  \n",
       "1    1912-03-29  \n",
       "2    1912-02-23  \n",
       "4    1912-04-03  \n",
       "5    1912-03-30  \n",
       "..          ...  \n",
       "880  1912-01-29  \n",
       "881  1912-03-30  \n",
       "882  1912-04-07  \n",
       "883  1912-03-01  \n",
       "884  1912-03-05  \n",
       "\n",
       "[874 rows x 9 columns]"
      ]
     },
     "execution_count": 125,
     "metadata": {},
     "output_type": "execute_result"
    }
   ],
   "source": [
    "# data테이블에서 null값 있는 모든 행 삭제해버리기(노이즈 최소화 목적)\n",
    "data.dropna()\n",
    "\n",
    "# 삭제 후 하단 정보 보면 rows가 885에서 8줄 삭제된 877만 남은걸 알 수 있음"
   ]
  },
  {
   "cell_type": "code",
   "execution_count": 126,
   "id": "c636bcbc",
   "metadata": {},
   "outputs": [
    {
     "data": {
      "text/html": [
       "<div>\n",
       "<style scoped>\n",
       "    .dataframe tbody tr th:only-of-type {\n",
       "        vertical-align: middle;\n",
       "    }\n",
       "\n",
       "    .dataframe tbody tr th {\n",
       "        vertical-align: top;\n",
       "    }\n",
       "\n",
       "    .dataframe thead th {\n",
       "        text-align: right;\n",
       "    }\n",
       "</style>\n",
       "<table border=\"1\" class=\"dataframe\">\n",
       "  <thead>\n",
       "    <tr style=\"text-align: right;\">\n",
       "      <th></th>\n",
       "      <th>Pclass</th>\n",
       "      <th>Gendr</th>\n",
       "      <th>Age</th>\n",
       "      <th>SibSp</th>\n",
       "      <th>Parch</th>\n",
       "      <th>Ticket</th>\n",
       "      <th>Embarked</th>\n",
       "      <th>Survived</th>\n",
       "      <th>ticket_date</th>\n",
       "    </tr>\n",
       "  </thead>\n",
       "  <tbody>\n",
       "    <tr>\n",
       "      <th>0</th>\n",
       "      <td>3</td>\n",
       "      <td>male</td>\n",
       "      <td>22.0</td>\n",
       "      <td>1</td>\n",
       "      <td>0</td>\n",
       "      <td>A/5 21171</td>\n",
       "      <td>S</td>\n",
       "      <td>0</td>\n",
       "      <td>1912-01-12</td>\n",
       "    </tr>\n",
       "    <tr>\n",
       "      <th>1</th>\n",
       "      <td>1</td>\n",
       "      <td>female</td>\n",
       "      <td>38.0</td>\n",
       "      <td>1</td>\n",
       "      <td>0</td>\n",
       "      <td>PC 17599</td>\n",
       "      <td>C</td>\n",
       "      <td>1</td>\n",
       "      <td>1912-03-29</td>\n",
       "    </tr>\n",
       "    <tr>\n",
       "      <th>2</th>\n",
       "      <td>3</td>\n",
       "      <td>female</td>\n",
       "      <td>26.0</td>\n",
       "      <td>0</td>\n",
       "      <td>0</td>\n",
       "      <td>STON/O2. 3101282</td>\n",
       "      <td>S</td>\n",
       "      <td>1</td>\n",
       "      <td>1912-02-23</td>\n",
       "    </tr>\n",
       "    <tr>\n",
       "      <th>3</th>\n",
       "      <td>1</td>\n",
       "      <td>female</td>\n",
       "      <td>NaN</td>\n",
       "      <td>1</td>\n",
       "      <td>0</td>\n",
       "      <td>113803</td>\n",
       "      <td>S</td>\n",
       "      <td>1</td>\n",
       "      <td>1912-03-28</td>\n",
       "    </tr>\n",
       "    <tr>\n",
       "      <th>4</th>\n",
       "      <td>3</td>\n",
       "      <td>male</td>\n",
       "      <td>35.0</td>\n",
       "      <td>0</td>\n",
       "      <td>0</td>\n",
       "      <td>373450</td>\n",
       "      <td>S</td>\n",
       "      <td>0</td>\n",
       "      <td>1912-04-03</td>\n",
       "    </tr>\n",
       "    <tr>\n",
       "      <th>...</th>\n",
       "      <td>...</td>\n",
       "      <td>...</td>\n",
       "      <td>...</td>\n",
       "      <td>...</td>\n",
       "      <td>...</td>\n",
       "      <td>...</td>\n",
       "      <td>...</td>\n",
       "      <td>...</td>\n",
       "      <td>...</td>\n",
       "    </tr>\n",
       "    <tr>\n",
       "      <th>880</th>\n",
       "      <td>2</td>\n",
       "      <td>male</td>\n",
       "      <td>27.0</td>\n",
       "      <td>0</td>\n",
       "      <td>0</td>\n",
       "      <td>211536</td>\n",
       "      <td>S</td>\n",
       "      <td>0</td>\n",
       "      <td>1912-01-29</td>\n",
       "    </tr>\n",
       "    <tr>\n",
       "      <th>881</th>\n",
       "      <td>1</td>\n",
       "      <td>female</td>\n",
       "      <td>19.0</td>\n",
       "      <td>0</td>\n",
       "      <td>0</td>\n",
       "      <td>112053</td>\n",
       "      <td>S</td>\n",
       "      <td>1</td>\n",
       "      <td>1912-03-30</td>\n",
       "    </tr>\n",
       "    <tr>\n",
       "      <th>882</th>\n",
       "      <td>3</td>\n",
       "      <td>female</td>\n",
       "      <td>28.0</td>\n",
       "      <td>1</td>\n",
       "      <td>2</td>\n",
       "      <td>W./C. 6607</td>\n",
       "      <td>S</td>\n",
       "      <td>0</td>\n",
       "      <td>1912-04-07</td>\n",
       "    </tr>\n",
       "    <tr>\n",
       "      <th>883</th>\n",
       "      <td>1</td>\n",
       "      <td>male</td>\n",
       "      <td>26.0</td>\n",
       "      <td>0</td>\n",
       "      <td>0</td>\n",
       "      <td>111369</td>\n",
       "      <td>C</td>\n",
       "      <td>1</td>\n",
       "      <td>1912-03-01</td>\n",
       "    </tr>\n",
       "    <tr>\n",
       "      <th>884</th>\n",
       "      <td>3</td>\n",
       "      <td>male</td>\n",
       "      <td>32.0</td>\n",
       "      <td>0</td>\n",
       "      <td>0</td>\n",
       "      <td>370376</td>\n",
       "      <td>Q</td>\n",
       "      <td>0</td>\n",
       "      <td>1912-03-05</td>\n",
       "    </tr>\n",
       "  </tbody>\n",
       "</table>\n",
       "<p>880 rows × 9 columns</p>\n",
       "</div>"
      ],
      "text/plain": [
       "     Pclass   Gendr   Age  SibSp  Parch            Ticket Embarked  Survived  \\\n",
       "0         3    male  22.0      1      0         A/5 21171        S         0   \n",
       "1         1  female  38.0      1      0          PC 17599        C         1   \n",
       "2         3  female  26.0      0      0  STON/O2. 3101282        S         1   \n",
       "3         1  female   NaN      1      0            113803        S         1   \n",
       "4         3    male  35.0      0      0            373450        S         0   \n",
       "..      ...     ...   ...    ...    ...               ...      ...       ...   \n",
       "880       2    male  27.0      0      0            211536        S         0   \n",
       "881       1  female  19.0      0      0            112053        S         1   \n",
       "882       3  female  28.0      1      2        W./C. 6607        S         0   \n",
       "883       1    male  26.0      0      0            111369        C         1   \n",
       "884       3    male  32.0      0      0            370376        Q         0   \n",
       "\n",
       "    ticket_date  \n",
       "0    1912-01-12  \n",
       "1    1912-03-29  \n",
       "2    1912-02-23  \n",
       "3    1912-03-28  \n",
       "4    1912-04-03  \n",
       "..          ...  \n",
       "880  1912-01-29  \n",
       "881  1912-03-30  \n",
       "882  1912-04-07  \n",
       "883  1912-03-01  \n",
       "884  1912-03-05  \n",
       "\n",
       "[880 rows x 9 columns]"
      ]
     },
     "execution_count": 126,
     "metadata": {},
     "output_type": "execute_result"
    }
   ],
   "source": [
    "# 특정 컬럼의 null값만 지우고 싶다면?\n",
    "# subset으로 컬럼 선택\n",
    "data.dropna(subset = ['Embarked'])"
   ]
  },
  {
   "cell_type": "code",
   "execution_count": 127,
   "id": "74e35c8a",
   "metadata": {},
   "outputs": [
    {
     "data": {
      "text/plain": [
       "29.718036529680365"
      ]
     },
     "execution_count": 127,
     "metadata": {},
     "output_type": "execute_result"
    }
   ],
   "source": [
    "# 근데 dropna로 사라지는 데이터가 너무 많이 없어지면 모델링에 제약이 생길 수 있음\n",
    "# 100~1000단위는 데이터가 그닥 많은 양이 아니기 때문에, 평균이나 중간값으로 넣어줄거임\n",
    "\n",
    "data['Age'].mean()"
   ]
  },
  {
   "cell_type": "code",
   "execution_count": 128,
   "id": "3572c731",
   "metadata": {},
   "outputs": [
    {
     "data": {
      "text/plain": [
       "28.0"
      ]
     },
     "execution_count": 128,
     "metadata": {},
     "output_type": "execute_result"
    }
   ],
   "source": [
    "# 평균은 특잇값에 영향이 좀 크니까 중앙값으로 넣어주는게 조금이나마 더 안전(절대적인건 아님)\n",
    "data['Age'].median()"
   ]
  },
  {
   "cell_type": "code",
   "execution_count": 129,
   "id": "b5108156",
   "metadata": {},
   "outputs": [
    {
     "data": {
      "text/plain": [
       "0      22.0\n",
       "1      38.0\n",
       "2      26.0\n",
       "3      28.0\n",
       "4      35.0\n",
       "       ... \n",
       "880    27.0\n",
       "881    19.0\n",
       "882    28.0\n",
       "883    26.0\n",
       "884    32.0\n",
       "Name: Age, Length: 882, dtype: float64"
      ]
     },
     "execution_count": 129,
     "metadata": {},
     "output_type": "execute_result"
    }
   ],
   "source": [
    "# null 값 채워주기 : fillna\n",
    "# 전체 테이블 null에 30이라는 숫자 채우기\n",
    "# data.fillna(30)\n",
    "\n",
    "# '특정 컬럼' null값만 채우려면\n",
    "data['Age'].fillna(data['Age'].median())"
   ]
  },
  {
   "cell_type": "code",
   "execution_count": 130,
   "id": "91861cb8",
   "metadata": {},
   "outputs": [],
   "source": [
    "# 위 function만으로는 데이터 테이블이 업데이트 된건 아니기 때문에 적용하는 절차 필요\n",
    "# data 전체에 덮어 씌우면 안되고, 꼭 ['Age'] 붙여야함!!!\n",
    "data['Age'] = data['Age'].fillna(data['Age'].median())"
   ]
  },
  {
   "cell_type": "code",
   "execution_count": 131,
   "id": "836b146e",
   "metadata": {
    "scrolled": true
   },
   "outputs": [
    {
     "data": {
      "text/html": [
       "<div>\n",
       "<style scoped>\n",
       "    .dataframe tbody tr th:only-of-type {\n",
       "        vertical-align: middle;\n",
       "    }\n",
       "\n",
       "    .dataframe tbody tr th {\n",
       "        vertical-align: top;\n",
       "    }\n",
       "\n",
       "    .dataframe thead th {\n",
       "        text-align: right;\n",
       "    }\n",
       "</style>\n",
       "<table border=\"1\" class=\"dataframe\">\n",
       "  <thead>\n",
       "    <tr style=\"text-align: right;\">\n",
       "      <th></th>\n",
       "      <th>Pclass</th>\n",
       "      <th>Gendr</th>\n",
       "      <th>Age</th>\n",
       "      <th>SibSp</th>\n",
       "      <th>Parch</th>\n",
       "      <th>Ticket</th>\n",
       "      <th>Embarked</th>\n",
       "      <th>Survived</th>\n",
       "      <th>ticket_date</th>\n",
       "    </tr>\n",
       "  </thead>\n",
       "  <tbody>\n",
       "    <tr>\n",
       "      <th>3</th>\n",
       "      <td>1</td>\n",
       "      <td>female</td>\n",
       "      <td>28.0</td>\n",
       "      <td>1</td>\n",
       "      <td>0</td>\n",
       "      <td>113803</td>\n",
       "      <td>S</td>\n",
       "      <td>1</td>\n",
       "      <td>1912-03-28</td>\n",
       "    </tr>\n",
       "    <tr>\n",
       "      <th>106</th>\n",
       "      <td>3</td>\n",
       "      <td>male</td>\n",
       "      <td>28.0</td>\n",
       "      <td>0</td>\n",
       "      <td>0</td>\n",
       "      <td>312991</td>\n",
       "      <td>S</td>\n",
       "      <td>1</td>\n",
       "      <td>1912-01-27</td>\n",
       "    </tr>\n",
       "    <tr>\n",
       "      <th>156</th>\n",
       "      <td>3</td>\n",
       "      <td>male</td>\n",
       "      <td>28.0</td>\n",
       "      <td>0</td>\n",
       "      <td>0</td>\n",
       "      <td>SOTON/OQ 392090</td>\n",
       "      <td>S</td>\n",
       "      <td>0</td>\n",
       "      <td>1912-04-01</td>\n",
       "    </tr>\n",
       "    <tr>\n",
       "      <th>185</th>\n",
       "      <td>3</td>\n",
       "      <td>female</td>\n",
       "      <td>28.0</td>\n",
       "      <td>1</td>\n",
       "      <td>0</td>\n",
       "      <td>370365</td>\n",
       "      <td>Q</td>\n",
       "      <td>1</td>\n",
       "      <td>1912-03-25</td>\n",
       "    </tr>\n",
       "    <tr>\n",
       "      <th>213</th>\n",
       "      <td>3</td>\n",
       "      <td>male</td>\n",
       "      <td>28.0</td>\n",
       "      <td>1</td>\n",
       "      <td>0</td>\n",
       "      <td>367229</td>\n",
       "      <td>Q</td>\n",
       "      <td>0</td>\n",
       "      <td>1912-02-12</td>\n",
       "    </tr>\n",
       "    <tr>\n",
       "      <th>241</th>\n",
       "      <td>2</td>\n",
       "      <td>male</td>\n",
       "      <td>28.0</td>\n",
       "      <td>0</td>\n",
       "      <td>0</td>\n",
       "      <td>W./C. 14263</td>\n",
       "      <td>S</td>\n",
       "      <td>0</td>\n",
       "      <td>1912-01-31</td>\n",
       "    </tr>\n",
       "  </tbody>\n",
       "</table>\n",
       "</div>"
      ],
      "text/plain": [
       "     Pclass   Gendr   Age  SibSp  Parch           Ticket Embarked  Survived  \\\n",
       "3         1  female  28.0      1      0           113803        S         1   \n",
       "106       3    male  28.0      0      0           312991        S         1   \n",
       "156       3    male  28.0      0      0  SOTON/OQ 392090        S         0   \n",
       "185       3  female  28.0      1      0           370365        Q         1   \n",
       "213       3    male  28.0      1      0           367229        Q         0   \n",
       "241       2    male  28.0      0      0      W./C. 14263        S         0   \n",
       "\n",
       "    ticket_date  \n",
       "3    1912-03-28  \n",
       "106  1912-01-27  \n",
       "156  1912-04-01  \n",
       "185  1912-03-25  \n",
       "213  1912-02-12  \n",
       "241  1912-01-31  "
      ]
     },
     "execution_count": 131,
     "metadata": {},
     "output_type": "execute_result"
    }
   ],
   "source": [
    "# age 결측치 null이 위에 처리한대로 잘 들어갔는지 확인\n",
    "data.loc[age_na_index]"
   ]
  },
  {
   "cell_type": "code",
   "execution_count": 132,
   "id": "a00eb1fe",
   "metadata": {},
   "outputs": [
    {
     "data": {
      "text/plain": [
       "S    638\n",
       "C    165\n",
       "Q     77\n",
       "Name: Embarked, dtype: int64"
      ]
     },
     "execution_count": 132,
     "metadata": {},
     "output_type": "execute_result"
    }
   ],
   "source": [
    "# Embarked의 경우 값들이 문자이기 때문에 처리 방법이 좀 다름\n",
    "# 각각 몇 건인지 확인\n",
    "data['Embarked'].value_counts()"
   ]
  },
  {
   "cell_type": "code",
   "execution_count": 133,
   "id": "204c0ea5",
   "metadata": {},
   "outputs": [
    {
     "data": {
      "text/plain": [
       "0.7231638418079096"
      ]
     },
     "execution_count": 133,
     "metadata": {},
     "output_type": "execute_result"
    }
   ],
   "source": [
    "#전체 대비 s가 몇개나 들었는지 비율 확인\n",
    "#대부분의 값이 특정 단어로 채워져있다면 결측치를 다 그 동일 값으로 채워주기도 함 (근데 %가 너무 낮을 때는 그 행위가 신뢰도 떨어뜨릴 수 있음)\n",
    "640/885"
   ]
  },
  {
   "cell_type": "code",
   "execution_count": 134,
   "id": "04305d3f",
   "metadata": {},
   "outputs": [],
   "source": [
    "# null값을 전부 s로 채우기\n",
    "data['Embarked'].fillna('S')\n",
    "data['Embarked'] = data['Embarked'].fillna('S')\n",
    "\n",
    "# null값을 전부 N/A로 채우기\n",
    "# data['Embarked'].fillna('N/A')\n",
    "\n",
    "# null이 너무 많을 때는 다른 값으로 채우는 것이 전체적인 데이터 정확성을 많이 떨어뜨리므로 그냥 삭제해버리는게 더 안전함"
   ]
  },
  {
   "cell_type": "code",
   "execution_count": 135,
   "id": "e30304c7",
   "metadata": {},
   "outputs": [
    {
     "data": {
      "text/html": [
       "<div>\n",
       "<style scoped>\n",
       "    .dataframe tbody tr th:only-of-type {\n",
       "        vertical-align: middle;\n",
       "    }\n",
       "\n",
       "    .dataframe tbody tr th {\n",
       "        vertical-align: top;\n",
       "    }\n",
       "\n",
       "    .dataframe thead th {\n",
       "        text-align: right;\n",
       "    }\n",
       "</style>\n",
       "<table border=\"1\" class=\"dataframe\">\n",
       "  <thead>\n",
       "    <tr style=\"text-align: right;\">\n",
       "      <th></th>\n",
       "      <th>Pclass</th>\n",
       "      <th>Gendr</th>\n",
       "      <th>SibSp</th>\n",
       "      <th>Parch</th>\n",
       "      <th>Ticket</th>\n",
       "      <th>Embarked</th>\n",
       "      <th>Survived</th>\n",
       "      <th>ticket_date</th>\n",
       "    </tr>\n",
       "  </thead>\n",
       "  <tbody>\n",
       "    <tr>\n",
       "      <th>0</th>\n",
       "      <td>3</td>\n",
       "      <td>male</td>\n",
       "      <td>1</td>\n",
       "      <td>0</td>\n",
       "      <td>A/5 21171</td>\n",
       "      <td>S</td>\n",
       "      <td>0</td>\n",
       "      <td>1912-01-12</td>\n",
       "    </tr>\n",
       "    <tr>\n",
       "      <th>1</th>\n",
       "      <td>1</td>\n",
       "      <td>female</td>\n",
       "      <td>1</td>\n",
       "      <td>0</td>\n",
       "      <td>PC 17599</td>\n",
       "      <td>C</td>\n",
       "      <td>1</td>\n",
       "      <td>1912-03-29</td>\n",
       "    </tr>\n",
       "    <tr>\n",
       "      <th>2</th>\n",
       "      <td>3</td>\n",
       "      <td>female</td>\n",
       "      <td>0</td>\n",
       "      <td>0</td>\n",
       "      <td>STON/O2. 3101282</td>\n",
       "      <td>S</td>\n",
       "      <td>1</td>\n",
       "      <td>1912-02-23</td>\n",
       "    </tr>\n",
       "    <tr>\n",
       "      <th>3</th>\n",
       "      <td>1</td>\n",
       "      <td>female</td>\n",
       "      <td>1</td>\n",
       "      <td>0</td>\n",
       "      <td>113803</td>\n",
       "      <td>S</td>\n",
       "      <td>1</td>\n",
       "      <td>1912-03-28</td>\n",
       "    </tr>\n",
       "    <tr>\n",
       "      <th>4</th>\n",
       "      <td>3</td>\n",
       "      <td>male</td>\n",
       "      <td>0</td>\n",
       "      <td>0</td>\n",
       "      <td>373450</td>\n",
       "      <td>S</td>\n",
       "      <td>0</td>\n",
       "      <td>1912-04-03</td>\n",
       "    </tr>\n",
       "    <tr>\n",
       "      <th>...</th>\n",
       "      <td>...</td>\n",
       "      <td>...</td>\n",
       "      <td>...</td>\n",
       "      <td>...</td>\n",
       "      <td>...</td>\n",
       "      <td>...</td>\n",
       "      <td>...</td>\n",
       "      <td>...</td>\n",
       "    </tr>\n",
       "    <tr>\n",
       "      <th>880</th>\n",
       "      <td>2</td>\n",
       "      <td>male</td>\n",
       "      <td>0</td>\n",
       "      <td>0</td>\n",
       "      <td>211536</td>\n",
       "      <td>S</td>\n",
       "      <td>0</td>\n",
       "      <td>1912-01-29</td>\n",
       "    </tr>\n",
       "    <tr>\n",
       "      <th>881</th>\n",
       "      <td>1</td>\n",
       "      <td>female</td>\n",
       "      <td>0</td>\n",
       "      <td>0</td>\n",
       "      <td>112053</td>\n",
       "      <td>S</td>\n",
       "      <td>1</td>\n",
       "      <td>1912-03-30</td>\n",
       "    </tr>\n",
       "    <tr>\n",
       "      <th>882</th>\n",
       "      <td>3</td>\n",
       "      <td>female</td>\n",
       "      <td>1</td>\n",
       "      <td>2</td>\n",
       "      <td>W./C. 6607</td>\n",
       "      <td>S</td>\n",
       "      <td>0</td>\n",
       "      <td>1912-04-07</td>\n",
       "    </tr>\n",
       "    <tr>\n",
       "      <th>883</th>\n",
       "      <td>1</td>\n",
       "      <td>male</td>\n",
       "      <td>0</td>\n",
       "      <td>0</td>\n",
       "      <td>111369</td>\n",
       "      <td>C</td>\n",
       "      <td>1</td>\n",
       "      <td>1912-03-01</td>\n",
       "    </tr>\n",
       "    <tr>\n",
       "      <th>884</th>\n",
       "      <td>3</td>\n",
       "      <td>male</td>\n",
       "      <td>0</td>\n",
       "      <td>0</td>\n",
       "      <td>370376</td>\n",
       "      <td>Q</td>\n",
       "      <td>0</td>\n",
       "      <td>1912-03-05</td>\n",
       "    </tr>\n",
       "  </tbody>\n",
       "</table>\n",
       "<p>882 rows × 8 columns</p>\n",
       "</div>"
      ],
      "text/plain": [
       "     Pclass   Gendr  SibSp  Parch            Ticket Embarked  Survived  \\\n",
       "0         3    male      1      0         A/5 21171        S         0   \n",
       "1         1  female      1      0          PC 17599        C         1   \n",
       "2         3  female      0      0  STON/O2. 3101282        S         1   \n",
       "3         1  female      1      0            113803        S         1   \n",
       "4         3    male      0      0            373450        S         0   \n",
       "..      ...     ...    ...    ...               ...      ...       ...   \n",
       "880       2    male      0      0            211536        S         0   \n",
       "881       1  female      0      0            112053        S         1   \n",
       "882       3  female      1      2        W./C. 6607        S         0   \n",
       "883       1    male      0      0            111369        C         1   \n",
       "884       3    male      0      0            370376        Q         0   \n",
       "\n",
       "    ticket_date  \n",
       "0    1912-01-12  \n",
       "1    1912-03-29  \n",
       "2    1912-02-23  \n",
       "3    1912-03-28  \n",
       "4    1912-04-03  \n",
       "..          ...  \n",
       "880  1912-01-29  \n",
       "881  1912-03-30  \n",
       "882  1912-04-07  \n",
       "883  1912-03-01  \n",
       "884  1912-03-05  \n",
       "\n",
       "[882 rows x 8 columns]"
      ]
     },
     "execution_count": 135,
     "metadata": {},
     "output_type": "execute_result"
    }
   ],
   "source": [
    "data.drop('Age', axis = 1)"
   ]
  },
  {
   "cell_type": "code",
   "execution_count": 136,
   "id": "20b40f9c",
   "metadata": {},
   "outputs": [],
   "source": [
    "# --------------------------- outlier ------------------------------------"
   ]
  },
  {
   "cell_type": "code",
   "execution_count": 137,
   "id": "b94008be",
   "metadata": {},
   "outputs": [
    {
     "data": {
      "text/html": [
       "<div>\n",
       "<style scoped>\n",
       "    .dataframe tbody tr th:only-of-type {\n",
       "        vertical-align: middle;\n",
       "    }\n",
       "\n",
       "    .dataframe tbody tr th {\n",
       "        vertical-align: top;\n",
       "    }\n",
       "\n",
       "    .dataframe thead th {\n",
       "        text-align: right;\n",
       "    }\n",
       "</style>\n",
       "<table border=\"1\" class=\"dataframe\">\n",
       "  <thead>\n",
       "    <tr style=\"text-align: right;\">\n",
       "      <th></th>\n",
       "      <th>Pclass</th>\n",
       "      <th>Age</th>\n",
       "      <th>SibSp</th>\n",
       "      <th>Parch</th>\n",
       "      <th>Survived</th>\n",
       "    </tr>\n",
       "  </thead>\n",
       "  <tbody>\n",
       "    <tr>\n",
       "      <th>count</th>\n",
       "      <td>882.000000</td>\n",
       "      <td>882.000000</td>\n",
       "      <td>882.000000</td>\n",
       "      <td>882.000000</td>\n",
       "      <td>882.000000</td>\n",
       "    </tr>\n",
       "    <tr>\n",
       "      <th>mean</th>\n",
       "      <td>2.311791</td>\n",
       "      <td>29.706349</td>\n",
       "      <td>0.520408</td>\n",
       "      <td>0.375283</td>\n",
       "      <td>0.377551</td>\n",
       "    </tr>\n",
       "    <tr>\n",
       "      <th>std</th>\n",
       "      <td>0.835681</td>\n",
       "      <td>13.496645</td>\n",
       "      <td>1.105210</td>\n",
       "      <td>0.804909</td>\n",
       "      <td>0.485049</td>\n",
       "    </tr>\n",
       "    <tr>\n",
       "      <th>min</th>\n",
       "      <td>1.000000</td>\n",
       "      <td>1.000000</td>\n",
       "      <td>0.000000</td>\n",
       "      <td>0.000000</td>\n",
       "      <td>0.000000</td>\n",
       "    </tr>\n",
       "    <tr>\n",
       "      <th>25%</th>\n",
       "      <td>2.000000</td>\n",
       "      <td>22.000000</td>\n",
       "      <td>0.000000</td>\n",
       "      <td>0.000000</td>\n",
       "      <td>0.000000</td>\n",
       "    </tr>\n",
       "    <tr>\n",
       "      <th>50%</th>\n",
       "      <td>3.000000</td>\n",
       "      <td>28.000000</td>\n",
       "      <td>0.000000</td>\n",
       "      <td>0.000000</td>\n",
       "      <td>0.000000</td>\n",
       "    </tr>\n",
       "    <tr>\n",
       "      <th>75%</th>\n",
       "      <td>3.000000</td>\n",
       "      <td>35.000000</td>\n",
       "      <td>1.000000</td>\n",
       "      <td>0.000000</td>\n",
       "      <td>1.000000</td>\n",
       "    </tr>\n",
       "    <tr>\n",
       "      <th>max</th>\n",
       "      <td>3.000000</td>\n",
       "      <td>145.000000</td>\n",
       "      <td>8.000000</td>\n",
       "      <td>6.000000</td>\n",
       "      <td>1.000000</td>\n",
       "    </tr>\n",
       "  </tbody>\n",
       "</table>\n",
       "</div>"
      ],
      "text/plain": [
       "           Pclass         Age       SibSp       Parch    Survived\n",
       "count  882.000000  882.000000  882.000000  882.000000  882.000000\n",
       "mean     2.311791   29.706349    0.520408    0.375283    0.377551\n",
       "std      0.835681   13.496645    1.105210    0.804909    0.485049\n",
       "min      1.000000    1.000000    0.000000    0.000000    0.000000\n",
       "25%      2.000000   22.000000    0.000000    0.000000    0.000000\n",
       "50%      3.000000   28.000000    0.000000    0.000000    0.000000\n",
       "75%      3.000000   35.000000    1.000000    0.000000    1.000000\n",
       "max      3.000000  145.000000    8.000000    6.000000    1.000000"
      ]
     },
     "execution_count": 137,
     "metadata": {},
     "output_type": "execute_result"
    }
   ],
   "source": [
    "# 아웃라이어 확인 : head, info, describe\n",
    "\n",
    "data.describe()\n",
    "# min~max 값 쓱 보면서 이상한거 있는지 보기\n",
    "# 예를 들어 하단 데이터의 Age 값이 좀 이상해 보임. (25%, 50%, 75% 숫자 차이가 얼마나 나는지 보면 75%가 35세인데 max가 145인게 이상)\n",
    "# SibSP도 75%까지 1인데 max가 갑자기 8, Parch도 75%와 max차이 큼"
   ]
  },
  {
   "cell_type": "code",
   "execution_count": 138,
   "id": "0147b5cf",
   "metadata": {},
   "outputs": [
    {
     "data": {
      "text/plain": [
       "379      1.0\n",
       "785      1.0\n",
       "171      1.0\n",
       "823      1.0\n",
       "182      1.0\n",
       "       ...  \n",
       "490     71.0\n",
       "845     74.0\n",
       "627     80.0\n",
       "279     97.0\n",
       "321    145.0\n",
       "Name: Age, Length: 882, dtype: float64"
      ]
     },
     "execution_count": 138,
     "metadata": {},
     "output_type": "execute_result"
    }
   ],
   "source": [
    "# Age부터 오름차순으로 값을 확인해보기\n",
    "data['Age'].sort_values()\n",
    "\n",
    "# 내림차순으로 보고 싶으면 어센딩false 추가\n",
    "# data['Age'].sort_values(ascending = False)"
   ]
  },
  {
   "cell_type": "code",
   "execution_count": 139,
   "id": "fca5c760",
   "metadata": {},
   "outputs": [],
   "source": [
    "# 위 결과에서 보나마나 145세는 이상한 값임.\n",
    "# 근데 97세는 아웃라이어인지 진짜 나이가 맞는지 애매함."
   ]
  },
  {
   "cell_type": "code",
   "execution_count": 140,
   "id": "9d9ef814",
   "metadata": {},
   "outputs": [
    {
     "data": {
      "text/plain": [
       "441    0\n",
       "531    0\n",
       "532    0\n",
       "533    0\n",
       "534    0\n",
       "      ..\n",
       "840    8\n",
       "857    8\n",
       "200    8\n",
       "789    8\n",
       "179    8\n",
       "Name: SibSp, Length: 882, dtype: int64"
      ]
     },
     "execution_count": 140,
     "metadata": {},
     "output_type": "execute_result"
    }
   ],
   "source": [
    "# 형제자매 컬럼도 검토해보기\n",
    "data['SibSp'].sort_values()"
   ]
  },
  {
   "cell_type": "code",
   "execution_count": 141,
   "id": "f6fe4364",
   "metadata": {},
   "outputs": [
    {
     "data": {
      "text/plain": [
       "277    4\n",
       "170    4\n",
       "844    4\n",
       "384    5\n",
       "71     5\n",
       "477    5\n",
       "60     5\n",
       "680    5\n",
       "158    8\n",
       "322    8\n",
       "840    8\n",
       "857    8\n",
       "200    8\n",
       "789    8\n",
       "179    8\n",
       "Name: SibSp, dtype: int64"
      ]
     },
     "execution_count": 141,
     "metadata": {},
     "output_type": "execute_result"
    }
   ],
   "source": [
    "# 마지막값에 8이 연속으로 여러개 보이니까 얼마나 있는지 추가로 확인해보기 (뒤에서 15개 정도 데이터만 더 들여다보기)\n",
    "data['SibSp'].sort_values().tail(15)"
   ]
  },
  {
   "cell_type": "code",
   "execution_count": 142,
   "id": "cfadd5fd",
   "metadata": {},
   "outputs": [],
   "source": [
    "# 시각화 라이브러리 불러오기\n",
    "import matplotlib.pyplot as plt\n",
    "import seaborn as sns"
   ]
  },
  {
   "cell_type": "code",
   "execution_count": 143,
   "id": "a5d2fe61",
   "metadata": {},
   "outputs": [
    {
     "name": "stderr",
     "output_type": "stream",
     "text": [
      "/opt/conda/lib/python3.9/site-packages/seaborn/distributions.py:2619: FutureWarning: `distplot` is a deprecated function and will be removed in a future version. Please adapt your code to use either `displot` (a figure-level function with similar flexibility) or `histplot` (an axes-level function for histograms).\n",
      "  warnings.warn(msg, FutureWarning)\n"
     ]
    },
    {
     "data": {
      "text/plain": [
       "<AxesSubplot:xlabel='SibSp', ylabel='Density'>"
      ]
     },
     "execution_count": 143,
     "metadata": {},
     "output_type": "execute_result"
    },
    {
     "data": {
      "image/png": "[encoded data removed]",
      "text/plain": [
       "<Figure size 432x288 with 1 Axes>"
      ]
     },
     "metadata": {
      "needs_background": "light"
     },
     "output_type": "display_data"
    }
   ],
   "source": [
    "# 시각화로 확인 - 형제자매배우자 컬럼 분포 확인해보기\n",
    "sns.distplot(data['SibSp'])"
   ]
  },
  {
   "cell_type": "code",
   "execution_count": 144,
   "id": "ebd20003",
   "metadata": {},
   "outputs": [
    {
     "data": {
      "text/plain": [
       "<seaborn.axisgrid.FacetGrid at 0x7d074854e1f0>"
      ]
     },
     "execution_count": 144,
     "metadata": {},
     "output_type": "execute_result"
    },
    {
     "data": {
      "image/png": "[encoded data removed]",
      "text/plain": [
       "<Figure size 360x360 with 1 Axes>"
      ]
     },
     "metadata": {
      "needs_background": "light"
     },
     "output_type": "display_data"
    }
   ],
   "source": [
    "sns.displot(data['SibSp'])\n",
    "\n",
    "# 시각화 확인해본 결과 6,7값은 없고, 8은 그래도 값이 좀 있는걸로 보아 그렇게 불가능한 숫자는 아니라는 것을 알 수 있음"
   ]
  },
  {
   "cell_type": "code",
   "execution_count": 145,
   "id": "058d509d",
   "metadata": {},
   "outputs": [
    {
     "data": {
      "text/plain": [
       "<seaborn.axisgrid.FacetGrid at 0x7d07488249d0>"
      ]
     },
     "execution_count": 145,
     "metadata": {},
     "output_type": "execute_result"
    },
    {
     "data": {
      "image/png": "[encoded data removed]",
      "text/plain": [
       "<Figure size 360x360 with 1 Axes>"
      ]
     },
     "metadata": {
      "needs_background": "light"
     },
     "output_type": "display_data"
    }
   ],
   "source": [
    "# 나이의 분포도 시각화해보기\n",
    "sns.displot(data['Age'])\n",
    "\n",
    "# 시각화 해보니 80세 이상의 분포는 잘 안보여서 추가 확인 필요"
   ]
  },
  {
   "cell_type": "code",
   "execution_count": 146,
   "id": "f6a1512b",
   "metadata": {},
   "outputs": [
    {
     "data": {
      "text/plain": [
       "<AxesSubplot:ylabel='Age'>"
      ]
     },
     "execution_count": 146,
     "metadata": {},
     "output_type": "execute_result"
    },
    {
     "data": {
      "image/png": "[encoded data removed]",
      "text/plain": [
       "<Figure size 432x288 with 1 Axes>"
      ]
     },
     "metadata": {
      "needs_background": "light"
     },
     "output_type": "display_data"
    }
   ],
   "source": [
    "# 산점도, scatterplot : 데이터의 분포를 직관적으로 확인 가능\n",
    "# x,y축에 넣을 값 정해줘야함\n",
    "\n",
    "sns.scatterplot(x = data.index, y = data['Age'])\n",
    "# x축은 테이블에서 몇번째 행의 값인지 말해줌.\n",
    "# 상단에 툭 튀어나온게 누가봐도 이상치!"
   ]
  },
  {
   "cell_type": "code",
   "execution_count": 147,
   "id": "c4351bec",
   "metadata": {},
   "outputs": [
    {
     "data": {
      "text/plain": [
       "<AxesSubplot:ylabel='SibSp'>"
      ]
     },
     "execution_count": 147,
     "metadata": {},
     "output_type": "execute_result"
    },
    {
     "data": {
      "image/png": "[encoded data removed]",
      "text/plain": [
       "<Figure size 432x288 with 1 Axes>"
      ]
     },
     "metadata": {
      "needs_background": "light"
     },
     "output_type": "display_data"
    }
   ],
   "source": [
    "# 형제자매배우자 컬럼도 확인해보기\n",
    "sns.scatterplot(x = data.index, y = data['SibSp'])"
   ]
  },
  {
   "cell_type": "code",
   "execution_count": 148,
   "id": "7dfbf7b4",
   "metadata": {},
   "outputs": [
    {
     "name": "stderr",
     "output_type": "stream",
     "text": [
      "/opt/conda/lib/python3.9/site-packages/seaborn/_decorators.py:36: FutureWarning: Pass the following variable as a keyword arg: x. From version 0.12, the only valid positional argument will be `data`, and passing other arguments without an explicit keyword will result in an error or misinterpretation.\n",
      "  warnings.warn(\n"
     ]
    },
    {
     "data": {
      "text/plain": [
       "<AxesSubplot:xlabel='Age'>"
      ]
     },
     "execution_count": 148,
     "metadata": {},
     "output_type": "execute_result"
    },
    {
     "data": {
      "image/png": "[encoded data removed]",
      "text/plain": [
       "<Figure size 432x288 with 1 Axes>"
      ]
     },
     "metadata": {
      "needs_background": "light"
     },
     "output_type": "display_data"
    }
   ],
   "source": [
    "# box plot\n",
    "sns.boxplot(data['Age'])\n",
    "\n",
    "# 파란색 박스: 데이터의 25%~75%, 가운데 선이 50% 지점\n",
    "# 박스플랏에서는 양끝선을 나가는 점들을 아웃라이어라고 함(그냥 이 개념에서 정의한 아웃라이어일뿐 분석 목적에 따라 다르게 정의)\n",
    "# IQR = 75% - 25%\n",
    "# IQR*1.5를 기준으로 양끝으로 벗어나는 범위의 값들을 아웃라이어라고 함"
   ]
  },
  {
   "cell_type": "code",
   "execution_count": 149,
   "id": "818c3541",
   "metadata": {},
   "outputs": [],
   "source": [
    "# 아웃라이어를 왜 신경써야 하는가?\n",
    "# > 머신러닝(학습)할 때 아웃라이어 값이 들어있으면 결과의 정확도를 떨어뜨림.\n",
    "# > train 데이터셋에는 아웃라이어가 포함된 채 학습했는데, 현실에는 그런 값들이 나오지 않으면 학습한 로직이 그다지 working하지 않음"
   ]
  },
  {
   "cell_type": "code",
   "execution_count": 150,
   "id": "10e0709d",
   "metadata": {},
   "outputs": [],
   "source": [
    "# 아웃라이어 처리 방법\n",
    "# 1. 제거\n",
    "# 2. 교체"
   ]
  },
  {
   "cell_type": "code",
   "execution_count": 151,
   "id": "d42e5d9f",
   "metadata": {},
   "outputs": [],
   "source": [
    "# 나이 아웃라이어 처리\n",
    "# 나이 100세 이하인 데이터 개수 확인\n",
    "# data['Age'] <= 100\n",
    "\n",
    "# 테이블 출력해보기\n",
    "# data[data['Age'] <= 100]\n",
    "\n",
    "# 그 값을 새로운 테이블로 저장\n",
    "data = data[data['Age'] <= 100]"
   ]
  },
  {
   "cell_type": "code",
   "execution_count": 152,
   "id": "0f30f024",
   "metadata": {},
   "outputs": [
    {
     "data": {
      "text/plain": [
       "171     1.0\n",
       "384     1.0\n",
       "182     1.0\n",
       "379     1.0\n",
       "823     1.0\n",
       "       ... \n",
       "95     71.0\n",
       "490    71.0\n",
       "845    74.0\n",
       "627    80.0\n",
       "279    97.0\n",
       "Name: Age, Length: 881, dtype: float64"
      ]
     },
     "execution_count": 152,
     "metadata": {},
     "output_type": "execute_result"
    }
   ],
   "source": [
    "data['Age'].sort_values()"
   ]
  },
  {
   "cell_type": "code",
   "execution_count": 153,
   "id": "0985d82c",
   "metadata": {},
   "outputs": [],
   "source": [
    "# 97세가 좀 마음에 걸리므로 특정 나이(대충 80세) 이상 나이는 다 80세로 바꿔주기\n",
    "# (*현실적으로 97세가 있을법하다면 그냥 냅둬도 됨)\n",
    "\n",
    "def age_func(x):\n",
    "    if x > 80:\n",
    "        return 80\n",
    "    else:\n",
    "        return x"
   ]
  },
  {
   "cell_type": "code",
   "execution_count": 154,
   "id": "53f22a01",
   "metadata": {},
   "outputs": [
    {
     "data": {
      "text/plain": [
       "80"
      ]
     },
     "execution_count": 154,
     "metadata": {},
     "output_type": "execute_result"
    }
   ],
   "source": [
    "age_func(145)"
   ]
  },
  {
   "cell_type": "code",
   "execution_count": 155,
   "id": "ed62ac9d",
   "metadata": {},
   "outputs": [
    {
     "data": {
      "text/plain": [
       "0      22.0\n",
       "1      38.0\n",
       "2      26.0\n",
       "3      28.0\n",
       "4      35.0\n",
       "       ... \n",
       "880    27.0\n",
       "881    19.0\n",
       "882    28.0\n",
       "883    26.0\n",
       "884    32.0\n",
       "Name: Age, Length: 881, dtype: float64"
      ]
     },
     "execution_count": 155,
     "metadata": {},
     "output_type": "execute_result"
    }
   ],
   "source": [
    "# 특정 컬럼에 특정 조건을 걸고 싶다면?\n",
    "data['Age'].apply(age_func)"
   ]
  },
  {
   "cell_type": "code",
   "execution_count": 156,
   "id": "e2195fba",
   "metadata": {},
   "outputs": [],
   "source": [
    "# 위 결과를 data['Age']에 넣어주기\n",
    "data['Age'] = data['Age'].apply(age_func)\n",
    "\n",
    "# 오류는 무시해도 됨"
   ]
  },
  {
   "cell_type": "code",
   "execution_count": 157,
   "id": "592a7309",
   "metadata": {},
   "outputs": [
    {
     "data": {
      "text/plain": [
       "171     1.0\n",
       "384     1.0\n",
       "182     1.0\n",
       "379     1.0\n",
       "823     1.0\n",
       "       ... \n",
       "95     71.0\n",
       "490    71.0\n",
       "845    74.0\n",
       "627    80.0\n",
       "279    80.0\n",
       "Name: Age, Length: 881, dtype: float64"
      ]
     },
     "execution_count": 157,
     "metadata": {},
     "output_type": "execute_result"
    }
   ],
   "source": [
    "data['Age'].sort_values()\n",
    "# 마지막 줄의 97세가 80으로 바뀐것 확인 가능"
   ]
  },
  {
   "cell_type": "code",
   "execution_count": 158,
   "id": "4f3752a8",
   "metadata": {},
   "outputs": [],
   "source": [
    "def new_age_func(x):\n",
    "    if x > 70:\n",
    "        return 70\n",
    "    else:\n",
    "        return x"
   ]
  },
  {
   "cell_type": "code",
   "execution_count": 159,
   "id": "bd244b6b",
   "metadata": {},
   "outputs": [
    {
     "data": {
      "text/plain": [
       "70"
      ]
     },
     "execution_count": 159,
     "metadata": {},
     "output_type": "execute_result"
    }
   ],
   "source": [
    "new_age_func(73)"
   ]
  },
  {
   "cell_type": "code",
   "execution_count": 160,
   "id": "0045974a",
   "metadata": {},
   "outputs": [
    {
     "data": {
      "text/plain": [
       "0      22.0\n",
       "1      38.0\n",
       "2      26.0\n",
       "3      28.0\n",
       "4      35.0\n",
       "       ... \n",
       "880    27.0\n",
       "881    19.0\n",
       "882    28.0\n",
       "883    26.0\n",
       "884    32.0\n",
       "Name: Age, Length: 881, dtype: float64"
      ]
     },
     "execution_count": 160,
     "metadata": {},
     "output_type": "execute_result"
    }
   ],
   "source": [
    "# 위 똑같은걸 lambda로도 할 수가 있음 > **컬럼에. 적용해줘(람다x: 참일때 출력값, 조건, 거짓을때 출력값)\n",
    "data['Age'].apply(lambda x: 70 if x > 70 else x)"
   ]
  },
  {
   "cell_type": "code",
   "execution_count": 161,
   "id": "e7d03b6f",
   "metadata": {},
   "outputs": [],
   "source": [
    "# ---------------- 중복 데이터 처리 및 데이터 형태 변환 처리 -------------------------------------------"
   ]
  },
  {
   "cell_type": "code",
   "execution_count": 162,
   "id": "72b6df22",
   "metadata": {},
   "outputs": [
    {
     "data": {
      "text/html": [
       "<div>\n",
       "<style scoped>\n",
       "    .dataframe tbody tr th:only-of-type {\n",
       "        vertical-align: middle;\n",
       "    }\n",
       "\n",
       "    .dataframe tbody tr th {\n",
       "        vertical-align: top;\n",
       "    }\n",
       "\n",
       "    .dataframe thead th {\n",
       "        text-align: right;\n",
       "    }\n",
       "</style>\n",
       "<table border=\"1\" class=\"dataframe\">\n",
       "  <thead>\n",
       "    <tr style=\"text-align: right;\">\n",
       "      <th></th>\n",
       "      <th>Pclass</th>\n",
       "      <th>Gendr</th>\n",
       "      <th>Age</th>\n",
       "      <th>SibSp</th>\n",
       "      <th>Parch</th>\n",
       "      <th>Ticket</th>\n",
       "      <th>Embarked</th>\n",
       "      <th>Survived</th>\n",
       "      <th>ticket_date</th>\n",
       "    </tr>\n",
       "  </thead>\n",
       "  <tbody>\n",
       "    <tr>\n",
       "      <th>0</th>\n",
       "      <td>3</td>\n",
       "      <td>male</td>\n",
       "      <td>22.0</td>\n",
       "      <td>1</td>\n",
       "      <td>0</td>\n",
       "      <td>A/5 21171</td>\n",
       "      <td>S</td>\n",
       "      <td>0</td>\n",
       "      <td>1912-01-12</td>\n",
       "    </tr>\n",
       "    <tr>\n",
       "      <th>1</th>\n",
       "      <td>1</td>\n",
       "      <td>female</td>\n",
       "      <td>38.0</td>\n",
       "      <td>1</td>\n",
       "      <td>0</td>\n",
       "      <td>PC 17599</td>\n",
       "      <td>C</td>\n",
       "      <td>1</td>\n",
       "      <td>1912-03-29</td>\n",
       "    </tr>\n",
       "    <tr>\n",
       "      <th>2</th>\n",
       "      <td>3</td>\n",
       "      <td>female</td>\n",
       "      <td>26.0</td>\n",
       "      <td>0</td>\n",
       "      <td>0</td>\n",
       "      <td>STON/O2. 3101282</td>\n",
       "      <td>S</td>\n",
       "      <td>1</td>\n",
       "      <td>1912-02-23</td>\n",
       "    </tr>\n",
       "    <tr>\n",
       "      <th>3</th>\n",
       "      <td>1</td>\n",
       "      <td>female</td>\n",
       "      <td>28.0</td>\n",
       "      <td>1</td>\n",
       "      <td>0</td>\n",
       "      <td>113803</td>\n",
       "      <td>S</td>\n",
       "      <td>1</td>\n",
       "      <td>1912-03-28</td>\n",
       "    </tr>\n",
       "    <tr>\n",
       "      <th>4</th>\n",
       "      <td>3</td>\n",
       "      <td>male</td>\n",
       "      <td>35.0</td>\n",
       "      <td>0</td>\n",
       "      <td>0</td>\n",
       "      <td>373450</td>\n",
       "      <td>S</td>\n",
       "      <td>0</td>\n",
       "      <td>1912-04-03</td>\n",
       "    </tr>\n",
       "    <tr>\n",
       "      <th>...</th>\n",
       "      <td>...</td>\n",
       "      <td>...</td>\n",
       "      <td>...</td>\n",
       "      <td>...</td>\n",
       "      <td>...</td>\n",
       "      <td>...</td>\n",
       "      <td>...</td>\n",
       "      <td>...</td>\n",
       "      <td>...</td>\n",
       "    </tr>\n",
       "    <tr>\n",
       "      <th>880</th>\n",
       "      <td>2</td>\n",
       "      <td>male</td>\n",
       "      <td>27.0</td>\n",
       "      <td>0</td>\n",
       "      <td>0</td>\n",
       "      <td>211536</td>\n",
       "      <td>S</td>\n",
       "      <td>0</td>\n",
       "      <td>1912-01-29</td>\n",
       "    </tr>\n",
       "    <tr>\n",
       "      <th>881</th>\n",
       "      <td>1</td>\n",
       "      <td>female</td>\n",
       "      <td>19.0</td>\n",
       "      <td>0</td>\n",
       "      <td>0</td>\n",
       "      <td>112053</td>\n",
       "      <td>S</td>\n",
       "      <td>1</td>\n",
       "      <td>1912-03-30</td>\n",
       "    </tr>\n",
       "    <tr>\n",
       "      <th>882</th>\n",
       "      <td>3</td>\n",
       "      <td>female</td>\n",
       "      <td>28.0</td>\n",
       "      <td>1</td>\n",
       "      <td>2</td>\n",
       "      <td>W./C. 6607</td>\n",
       "      <td>S</td>\n",
       "      <td>0</td>\n",
       "      <td>1912-04-07</td>\n",
       "    </tr>\n",
       "    <tr>\n",
       "      <th>883</th>\n",
       "      <td>1</td>\n",
       "      <td>male</td>\n",
       "      <td>26.0</td>\n",
       "      <td>0</td>\n",
       "      <td>0</td>\n",
       "      <td>111369</td>\n",
       "      <td>C</td>\n",
       "      <td>1</td>\n",
       "      <td>1912-03-01</td>\n",
       "    </tr>\n",
       "    <tr>\n",
       "      <th>884</th>\n",
       "      <td>3</td>\n",
       "      <td>male</td>\n",
       "      <td>32.0</td>\n",
       "      <td>0</td>\n",
       "      <td>0</td>\n",
       "      <td>370376</td>\n",
       "      <td>Q</td>\n",
       "      <td>0</td>\n",
       "      <td>1912-03-05</td>\n",
       "    </tr>\n",
       "  </tbody>\n",
       "</table>\n",
       "<p>881 rows × 9 columns</p>\n",
       "</div>"
      ],
      "text/plain": [
       "     Pclass   Gendr   Age  SibSp  Parch            Ticket Embarked  Survived  \\\n",
       "0         3    male  22.0      1      0         A/5 21171        S         0   \n",
       "1         1  female  38.0      1      0          PC 17599        C         1   \n",
       "2         3  female  26.0      0      0  STON/O2. 3101282        S         1   \n",
       "3         1  female  28.0      1      0            113803        S         1   \n",
       "4         3    male  35.0      0      0            373450        S         0   \n",
       "..      ...     ...   ...    ...    ...               ...      ...       ...   \n",
       "880       2    male  27.0      0      0            211536        S         0   \n",
       "881       1  female  19.0      0      0            112053        S         1   \n",
       "882       3  female  28.0      1      2        W./C. 6607        S         0   \n",
       "883       1    male  26.0      0      0            111369        C         1   \n",
       "884       3    male  32.0      0      0            370376        Q         0   \n",
       "\n",
       "    ticket_date  \n",
       "0    1912-01-12  \n",
       "1    1912-03-29  \n",
       "2    1912-02-23  \n",
       "3    1912-03-28  \n",
       "4    1912-04-03  \n",
       "..          ...  \n",
       "880  1912-01-29  \n",
       "881  1912-03-30  \n",
       "882  1912-04-07  \n",
       "883  1912-03-01  \n",
       "884  1912-03-05  \n",
       "\n",
       "[881 rows x 9 columns]"
      ]
     },
     "execution_count": 162,
     "metadata": {},
     "output_type": "execute_result"
    }
   ],
   "source": [
    "# \n",
    "data"
   ]
  },
  {
   "cell_type": "code",
   "execution_count": 164,
   "id": "5d071668",
   "metadata": {},
   "outputs": [],
   "source": [
    "# 데이터의 값들을 바꾸는 function\n",
    "\n",
    "# 컬럼 이름 바꾸기 (rename)\n",
    "# gendr 컬럼 바꾸기\n",
    "\n",
    "data.rename({'Gendr': 'Gender'}, axis = 1)\n",
    "\n",
    "# 업데이트된 값을 data 테이블로 업데이트\n",
    "data = data.rename({'Gendr': 'Gender'}, axis = 1)\n",
    "\n",
    "# axis를 안쓰면 행이름을 그대로 써줘야함"
   ]
  },
  {
   "cell_type": "code",
   "execution_count": 165,
   "id": "a30dc365",
   "metadata": {},
   "outputs": [
    {
     "data": {
      "text/plain": [
       "0      Southhampton\n",
       "1         Cherbourg\n",
       "2      Southhampton\n",
       "3      Southhampton\n",
       "4      Southhampton\n",
       "           ...     \n",
       "880    Southhampton\n",
       "881    Southhampton\n",
       "882    Southhampton\n",
       "883       Cherbourg\n",
       "884      Queenstown\n",
       "Name: Embarked, Length: 881, dtype: object"
      ]
     },
     "execution_count": 165,
     "metadata": {},
     "output_type": "execute_result"
    }
   ],
   "source": [
    "# embarked 데이터를 다른 값으로 바꿔주기 \n",
    "data['Embarked'].replace({'S': 'Southhampton', 'C': 'Cherbourg', 'Q': 'Queenstown'})"
   ]
  },
  {
   "cell_type": "code",
   "execution_count": 166,
   "id": "c18f9a75",
   "metadata": {},
   "outputs": [
    {
     "data": {
      "text/html": [
       "<div>\n",
       "<style scoped>\n",
       "    .dataframe tbody tr th:only-of-type {\n",
       "        vertical-align: middle;\n",
       "    }\n",
       "\n",
       "    .dataframe tbody tr th {\n",
       "        vertical-align: top;\n",
       "    }\n",
       "\n",
       "    .dataframe thead th {\n",
       "        text-align: right;\n",
       "    }\n",
       "</style>\n",
       "<table border=\"1\" class=\"dataframe\">\n",
       "  <thead>\n",
       "    <tr style=\"text-align: right;\">\n",
       "      <th></th>\n",
       "      <th>Pclass</th>\n",
       "      <th>Gender</th>\n",
       "      <th>Age</th>\n",
       "      <th>SibSp</th>\n",
       "      <th>Parch</th>\n",
       "      <th>Ticket</th>\n",
       "      <th>Embarked</th>\n",
       "      <th>Survived</th>\n",
       "      <th>ticket_date</th>\n",
       "    </tr>\n",
       "  </thead>\n",
       "  <tbody>\n",
       "    <tr>\n",
       "      <th>0</th>\n",
       "      <td>3</td>\n",
       "      <td>male</td>\n",
       "      <td>22.0</td>\n",
       "      <td>1</td>\n",
       "      <td>0</td>\n",
       "      <td>A/5 21171</td>\n",
       "      <td>Southhampton</td>\n",
       "      <td>0</td>\n",
       "      <td>1912-01-12</td>\n",
       "    </tr>\n",
       "    <tr>\n",
       "      <th>1</th>\n",
       "      <td>1</td>\n",
       "      <td>female</td>\n",
       "      <td>38.0</td>\n",
       "      <td>1</td>\n",
       "      <td>0</td>\n",
       "      <td>PC 17599</td>\n",
       "      <td>Cherbourg</td>\n",
       "      <td>1</td>\n",
       "      <td>1912-03-29</td>\n",
       "    </tr>\n",
       "    <tr>\n",
       "      <th>2</th>\n",
       "      <td>3</td>\n",
       "      <td>female</td>\n",
       "      <td>26.0</td>\n",
       "      <td>0</td>\n",
       "      <td>0</td>\n",
       "      <td>STON/O2. 3101282</td>\n",
       "      <td>Southhampton</td>\n",
       "      <td>1</td>\n",
       "      <td>1912-02-23</td>\n",
       "    </tr>\n",
       "    <tr>\n",
       "      <th>3</th>\n",
       "      <td>1</td>\n",
       "      <td>female</td>\n",
       "      <td>28.0</td>\n",
       "      <td>1</td>\n",
       "      <td>0</td>\n",
       "      <td>113803</td>\n",
       "      <td>Southhampton</td>\n",
       "      <td>1</td>\n",
       "      <td>1912-03-28</td>\n",
       "    </tr>\n",
       "    <tr>\n",
       "      <th>4</th>\n",
       "      <td>3</td>\n",
       "      <td>male</td>\n",
       "      <td>35.0</td>\n",
       "      <td>0</td>\n",
       "      <td>0</td>\n",
       "      <td>373450</td>\n",
       "      <td>Southhampton</td>\n",
       "      <td>0</td>\n",
       "      <td>1912-04-03</td>\n",
       "    </tr>\n",
       "    <tr>\n",
       "      <th>...</th>\n",
       "      <td>...</td>\n",
       "      <td>...</td>\n",
       "      <td>...</td>\n",
       "      <td>...</td>\n",
       "      <td>...</td>\n",
       "      <td>...</td>\n",
       "      <td>...</td>\n",
       "      <td>...</td>\n",
       "      <td>...</td>\n",
       "    </tr>\n",
       "    <tr>\n",
       "      <th>880</th>\n",
       "      <td>2</td>\n",
       "      <td>male</td>\n",
       "      <td>27.0</td>\n",
       "      <td>0</td>\n",
       "      <td>0</td>\n",
       "      <td>211536</td>\n",
       "      <td>Southhampton</td>\n",
       "      <td>0</td>\n",
       "      <td>1912-01-29</td>\n",
       "    </tr>\n",
       "    <tr>\n",
       "      <th>881</th>\n",
       "      <td>1</td>\n",
       "      <td>female</td>\n",
       "      <td>19.0</td>\n",
       "      <td>0</td>\n",
       "      <td>0</td>\n",
       "      <td>112053</td>\n",
       "      <td>Southhampton</td>\n",
       "      <td>1</td>\n",
       "      <td>1912-03-30</td>\n",
       "    </tr>\n",
       "    <tr>\n",
       "      <th>882</th>\n",
       "      <td>3</td>\n",
       "      <td>female</td>\n",
       "      <td>28.0</td>\n",
       "      <td>1</td>\n",
       "      <td>2</td>\n",
       "      <td>W./C. 6607</td>\n",
       "      <td>Southhampton</td>\n",
       "      <td>0</td>\n",
       "      <td>1912-04-07</td>\n",
       "    </tr>\n",
       "    <tr>\n",
       "      <th>883</th>\n",
       "      <td>1</td>\n",
       "      <td>male</td>\n",
       "      <td>26.0</td>\n",
       "      <td>0</td>\n",
       "      <td>0</td>\n",
       "      <td>111369</td>\n",
       "      <td>Cherbourg</td>\n",
       "      <td>1</td>\n",
       "      <td>1912-03-01</td>\n",
       "    </tr>\n",
       "    <tr>\n",
       "      <th>884</th>\n",
       "      <td>3</td>\n",
       "      <td>male</td>\n",
       "      <td>32.0</td>\n",
       "      <td>0</td>\n",
       "      <td>0</td>\n",
       "      <td>370376</td>\n",
       "      <td>Queenstown</td>\n",
       "      <td>0</td>\n",
       "      <td>1912-03-05</td>\n",
       "    </tr>\n",
       "  </tbody>\n",
       "</table>\n",
       "<p>881 rows × 9 columns</p>\n",
       "</div>"
      ],
      "text/plain": [
       "     Pclass  Gender   Age  SibSp  Parch            Ticket      Embarked  \\\n",
       "0         3    male  22.0      1      0         A/5 21171  Southhampton   \n",
       "1         1  female  38.0      1      0          PC 17599     Cherbourg   \n",
       "2         3  female  26.0      0      0  STON/O2. 3101282  Southhampton   \n",
       "3         1  female  28.0      1      0            113803  Southhampton   \n",
       "4         3    male  35.0      0      0            373450  Southhampton   \n",
       "..      ...     ...   ...    ...    ...               ...           ...   \n",
       "880       2    male  27.0      0      0            211536  Southhampton   \n",
       "881       1  female  19.0      0      0            112053  Southhampton   \n",
       "882       3  female  28.0      1      2        W./C. 6607  Southhampton   \n",
       "883       1    male  26.0      0      0            111369     Cherbourg   \n",
       "884       3    male  32.0      0      0            370376    Queenstown   \n",
       "\n",
       "     Survived ticket_date  \n",
       "0           0  1912-01-12  \n",
       "1           1  1912-03-29  \n",
       "2           1  1912-02-23  \n",
       "3           1  1912-03-28  \n",
       "4           0  1912-04-03  \n",
       "..        ...         ...  \n",
       "880         0  1912-01-29  \n",
       "881         1  1912-03-30  \n",
       "882         0  1912-04-07  \n",
       "883         1  1912-03-01  \n",
       "884         0  1912-03-05  \n",
       "\n",
       "[881 rows x 9 columns]"
      ]
     },
     "execution_count": 166,
     "metadata": {},
     "output_type": "execute_result"
    }
   ],
   "source": [
    "# 데이터 프레임 전체를 바꾸려먼\n",
    "data.replace({'S': 'Southhampton', 'C': 'Cherbourg', 'Q': 'Queenstown'})"
   ]
  },
  {
   "cell_type": "code",
   "execution_count": 167,
   "id": "2f6ca268",
   "metadata": {},
   "outputs": [
    {
     "data": {
      "text/html": [
       "<div>\n",
       "<style scoped>\n",
       "    .dataframe tbody tr th:only-of-type {\n",
       "        vertical-align: middle;\n",
       "    }\n",
       "\n",
       "    .dataframe tbody tr th {\n",
       "        vertical-align: top;\n",
       "    }\n",
       "\n",
       "    .dataframe thead th {\n",
       "        text-align: right;\n",
       "    }\n",
       "</style>\n",
       "<table border=\"1\" class=\"dataframe\">\n",
       "  <thead>\n",
       "    <tr style=\"text-align: right;\">\n",
       "      <th></th>\n",
       "      <th>Pclass</th>\n",
       "      <th>Gender</th>\n",
       "      <th>Age</th>\n",
       "      <th>SibSp</th>\n",
       "      <th>Parch</th>\n",
       "      <th>Ticket</th>\n",
       "      <th>Embarked</th>\n",
       "      <th>Survived</th>\n",
       "      <th>ticket_date</th>\n",
       "    </tr>\n",
       "  </thead>\n",
       "  <tbody>\n",
       "    <tr>\n",
       "      <th>0</th>\n",
       "      <td>3</td>\n",
       "      <td>male</td>\n",
       "      <td>22.0</td>\n",
       "      <td>1</td>\n",
       "      <td>999</td>\n",
       "      <td>A/5 21171</td>\n",
       "      <td>S</td>\n",
       "      <td>999</td>\n",
       "      <td>1912-01-12</td>\n",
       "    </tr>\n",
       "    <tr>\n",
       "      <th>1</th>\n",
       "      <td>1</td>\n",
       "      <td>female</td>\n",
       "      <td>38.0</td>\n",
       "      <td>1</td>\n",
       "      <td>999</td>\n",
       "      <td>PC 17599</td>\n",
       "      <td>C</td>\n",
       "      <td>1</td>\n",
       "      <td>1912-03-29</td>\n",
       "    </tr>\n",
       "    <tr>\n",
       "      <th>2</th>\n",
       "      <td>3</td>\n",
       "      <td>female</td>\n",
       "      <td>26.0</td>\n",
       "      <td>999</td>\n",
       "      <td>999</td>\n",
       "      <td>STON/O2. 3101282</td>\n",
       "      <td>S</td>\n",
       "      <td>1</td>\n",
       "      <td>1912-02-23</td>\n",
       "    </tr>\n",
       "    <tr>\n",
       "      <th>3</th>\n",
       "      <td>1</td>\n",
       "      <td>female</td>\n",
       "      <td>28.0</td>\n",
       "      <td>1</td>\n",
       "      <td>999</td>\n",
       "      <td>113803</td>\n",
       "      <td>S</td>\n",
       "      <td>1</td>\n",
       "      <td>1912-03-28</td>\n",
       "    </tr>\n",
       "    <tr>\n",
       "      <th>4</th>\n",
       "      <td>3</td>\n",
       "      <td>male</td>\n",
       "      <td>35.0</td>\n",
       "      <td>999</td>\n",
       "      <td>999</td>\n",
       "      <td>373450</td>\n",
       "      <td>S</td>\n",
       "      <td>999</td>\n",
       "      <td>1912-04-03</td>\n",
       "    </tr>\n",
       "    <tr>\n",
       "      <th>...</th>\n",
       "      <td>...</td>\n",
       "      <td>...</td>\n",
       "      <td>...</td>\n",
       "      <td>...</td>\n",
       "      <td>...</td>\n",
       "      <td>...</td>\n",
       "      <td>...</td>\n",
       "      <td>...</td>\n",
       "      <td>...</td>\n",
       "    </tr>\n",
       "    <tr>\n",
       "      <th>880</th>\n",
       "      <td>2</td>\n",
       "      <td>male</td>\n",
       "      <td>27.0</td>\n",
       "      <td>999</td>\n",
       "      <td>999</td>\n",
       "      <td>211536</td>\n",
       "      <td>S</td>\n",
       "      <td>999</td>\n",
       "      <td>1912-01-29</td>\n",
       "    </tr>\n",
       "    <tr>\n",
       "      <th>881</th>\n",
       "      <td>1</td>\n",
       "      <td>female</td>\n",
       "      <td>19.0</td>\n",
       "      <td>999</td>\n",
       "      <td>999</td>\n",
       "      <td>112053</td>\n",
       "      <td>S</td>\n",
       "      <td>1</td>\n",
       "      <td>1912-03-30</td>\n",
       "    </tr>\n",
       "    <tr>\n",
       "      <th>882</th>\n",
       "      <td>3</td>\n",
       "      <td>female</td>\n",
       "      <td>28.0</td>\n",
       "      <td>1</td>\n",
       "      <td>2</td>\n",
       "      <td>W./C. 6607</td>\n",
       "      <td>S</td>\n",
       "      <td>999</td>\n",
       "      <td>1912-04-07</td>\n",
       "    </tr>\n",
       "    <tr>\n",
       "      <th>883</th>\n",
       "      <td>1</td>\n",
       "      <td>male</td>\n",
       "      <td>26.0</td>\n",
       "      <td>999</td>\n",
       "      <td>999</td>\n",
       "      <td>111369</td>\n",
       "      <td>C</td>\n",
       "      <td>1</td>\n",
       "      <td>1912-03-01</td>\n",
       "    </tr>\n",
       "    <tr>\n",
       "      <th>884</th>\n",
       "      <td>3</td>\n",
       "      <td>male</td>\n",
       "      <td>32.0</td>\n",
       "      <td>999</td>\n",
       "      <td>999</td>\n",
       "      <td>370376</td>\n",
       "      <td>Q</td>\n",
       "      <td>999</td>\n",
       "      <td>1912-03-05</td>\n",
       "    </tr>\n",
       "  </tbody>\n",
       "</table>\n",
       "<p>881 rows × 9 columns</p>\n",
       "</div>"
      ],
      "text/plain": [
       "     Pclass  Gender   Age  SibSp  Parch            Ticket Embarked  Survived  \\\n",
       "0         3    male  22.0      1    999         A/5 21171        S       999   \n",
       "1         1  female  38.0      1    999          PC 17599        C         1   \n",
       "2         3  female  26.0    999    999  STON/O2. 3101282        S         1   \n",
       "3         1  female  28.0      1    999            113803        S         1   \n",
       "4         3    male  35.0    999    999            373450        S       999   \n",
       "..      ...     ...   ...    ...    ...               ...      ...       ...   \n",
       "880       2    male  27.0    999    999            211536        S       999   \n",
       "881       1  female  19.0    999    999            112053        S         1   \n",
       "882       3  female  28.0      1      2        W./C. 6607        S       999   \n",
       "883       1    male  26.0    999    999            111369        C         1   \n",
       "884       3    male  32.0    999    999            370376        Q       999   \n",
       "\n",
       "    ticket_date  \n",
       "0    1912-01-12  \n",
       "1    1912-03-29  \n",
       "2    1912-02-23  \n",
       "3    1912-03-28  \n",
       "4    1912-04-03  \n",
       "..          ...  \n",
       "880  1912-01-29  \n",
       "881  1912-03-30  \n",
       "882  1912-04-07  \n",
       "883  1912-03-01  \n",
       "884  1912-03-05  \n",
       "\n",
       "[881 rows x 9 columns]"
      ]
     },
     "execution_count": 167,
     "metadata": {},
     "output_type": "execute_result"
    }
   ],
   "source": [
    "# 숫자 변환\n",
    "data.replace({0: 999})"
   ]
  },
  {
   "cell_type": "code",
   "execution_count": 168,
   "id": "6547b0a2",
   "metadata": {},
   "outputs": [],
   "source": [
    "# replace랑 비슷한 map?\n",
    "# map은 판다스 시리즈에만 작동함. 뒤에 함수 쓸 수도 있음\n",
    "\n",
    "data['Embarked'].map({'S': 'Southhampton', 'C': 'Cherbourg', 'Q': 'Queenstown'})\n",
    "data['Gender'].map(len)"
   ]
  },
  {
   "cell_type": "code",
   "execution_count": 169,
   "id": "28ad78d0",
   "metadata": {},
   "outputs": [
    {
     "data": {
      "text/plain": [
       "0      4\n",
       "1      6\n",
       "2      6\n",
       "3      6\n",
       "4      4\n",
       "      ..\n",
       "880    4\n",
       "881    6\n",
       "882    6\n",
       "883    4\n",
       "884    4\n",
       "Name: Gender, Length: 881, dtype: int64"
      ]
     },
     "execution_count": 169,
     "metadata": {},
     "output_type": "execute_result"
    }
   ],
   "source": [
    "# map이랑 비슷한 apply?\n",
    "# 판다스 데이터프레임이랑 시리즈 둘 다 사용 가능\n",
    "data['Gender'].apply(len)"
   ]
  },
  {
   "cell_type": "code",
   "execution_count": 170,
   "id": "b32de6fa",
   "metadata": {},
   "outputs": [],
   "source": [
    "# -------------------- 텍스트 데이터 =-------------------------------------"
   ]
  },
  {
   "cell_type": "code",
   "execution_count": 172,
   "id": "7763459d",
   "metadata": {},
   "outputs": [
    {
     "data": {
      "text/html": [
       "<div>\n",
       "<style scoped>\n",
       "    .dataframe tbody tr th:only-of-type {\n",
       "        vertical-align: middle;\n",
       "    }\n",
       "\n",
       "    .dataframe tbody tr th {\n",
       "        vertical-align: top;\n",
       "    }\n",
       "\n",
       "    .dataframe thead th {\n",
       "        text-align: right;\n",
       "    }\n",
       "</style>\n",
       "<table border=\"1\" class=\"dataframe\">\n",
       "  <thead>\n",
       "    <tr style=\"text-align: right;\">\n",
       "      <th></th>\n",
       "      <th>Pclass</th>\n",
       "      <th>Gender</th>\n",
       "      <th>Age</th>\n",
       "      <th>SibSp</th>\n",
       "      <th>Parch</th>\n",
       "      <th>Ticket</th>\n",
       "      <th>Embarked</th>\n",
       "      <th>Survived</th>\n",
       "      <th>ticket_date</th>\n",
       "    </tr>\n",
       "  </thead>\n",
       "  <tbody>\n",
       "    <tr>\n",
       "      <th>0</th>\n",
       "      <td>3</td>\n",
       "      <td>male</td>\n",
       "      <td>22.0</td>\n",
       "      <td>1</td>\n",
       "      <td>0</td>\n",
       "      <td>A/5 21171</td>\n",
       "      <td>S</td>\n",
       "      <td>0</td>\n",
       "      <td>1912-01-12</td>\n",
       "    </tr>\n",
       "    <tr>\n",
       "      <th>1</th>\n",
       "      <td>1</td>\n",
       "      <td>female</td>\n",
       "      <td>38.0</td>\n",
       "      <td>1</td>\n",
       "      <td>0</td>\n",
       "      <td>PC 17599</td>\n",
       "      <td>C</td>\n",
       "      <td>1</td>\n",
       "      <td>1912-03-29</td>\n",
       "    </tr>\n",
       "    <tr>\n",
       "      <th>2</th>\n",
       "      <td>3</td>\n",
       "      <td>female</td>\n",
       "      <td>26.0</td>\n",
       "      <td>0</td>\n",
       "      <td>0</td>\n",
       "      <td>STON/O2. 3101282</td>\n",
       "      <td>S</td>\n",
       "      <td>1</td>\n",
       "      <td>1912-02-23</td>\n",
       "    </tr>\n",
       "    <tr>\n",
       "      <th>3</th>\n",
       "      <td>1</td>\n",
       "      <td>female</td>\n",
       "      <td>28.0</td>\n",
       "      <td>1</td>\n",
       "      <td>0</td>\n",
       "      <td>113803</td>\n",
       "      <td>S</td>\n",
       "      <td>1</td>\n",
       "      <td>1912-03-28</td>\n",
       "    </tr>\n",
       "    <tr>\n",
       "      <th>4</th>\n",
       "      <td>3</td>\n",
       "      <td>male</td>\n",
       "      <td>35.0</td>\n",
       "      <td>0</td>\n",
       "      <td>0</td>\n",
       "      <td>373450</td>\n",
       "      <td>S</td>\n",
       "      <td>0</td>\n",
       "      <td>1912-04-03</td>\n",
       "    </tr>\n",
       "  </tbody>\n",
       "</table>\n",
       "</div>"
      ],
      "text/plain": [
       "   Pclass  Gender   Age  SibSp  Parch            Ticket Embarked  Survived  \\\n",
       "0       3    male  22.0      1      0         A/5 21171        S         0   \n",
       "1       1  female  38.0      1      0          PC 17599        C         1   \n",
       "2       3  female  26.0      0      0  STON/O2. 3101282        S         1   \n",
       "3       1  female  28.0      1      0            113803        S         1   \n",
       "4       3    male  35.0      0      0            373450        S         0   \n",
       "\n",
       "  ticket_date  \n",
       "0  1912-01-12  \n",
       "1  1912-03-29  \n",
       "2  1912-02-23  \n",
       "3  1912-03-28  \n",
       "4  1912-04-03  "
      ]
     },
     "execution_count": 172,
     "metadata": {},
     "output_type": "execute_result"
    }
   ],
   "source": [
    "# 데이터 형태 다시 한 번 확인\n",
    "data.head()"
   ]
  },
  {
   "cell_type": "code",
   "execution_count": 173,
   "id": "7f2bf094",
   "metadata": {},
   "outputs": [
    {
     "name": "stdout",
     "output_type": "stream",
     "text": [
      "<class 'pandas.core.frame.DataFrame'>\n",
      "Int64Index: 881 entries, 0 to 884\n",
      "Data columns (total 9 columns):\n",
      " #   Column       Non-Null Count  Dtype  \n",
      "---  ------       --------------  -----  \n",
      " 0   Pclass       881 non-null    int64  \n",
      " 1   Gender       881 non-null    object \n",
      " 2   Age          881 non-null    float64\n",
      " 3   SibSp        881 non-null    int64  \n",
      " 4   Parch        881 non-null    int64  \n",
      " 5   Ticket       881 non-null    object \n",
      " 6   Embarked     881 non-null    object \n",
      " 7   Survived     881 non-null    int64  \n",
      " 8   ticket_date  881 non-null    object \n",
      "dtypes: float64(1), int64(4), object(4)\n",
      "memory usage: 68.8+ KB\n"
     ]
    }
   ],
   "source": [
    "# 데이터타입을 좀 더 확실하게 확인\n",
    "data.info()"
   ]
  },
  {
   "cell_type": "code",
   "execution_count": 177,
   "id": "afda99a7",
   "metadata": {},
   "outputs": [],
   "source": [
    "sample_txt = 'A/5 21171'"
   ]
  },
  {
   "cell_type": "code",
   "execution_count": 178,
   "id": "b0a45934",
   "metadata": {},
   "outputs": [
    {
     "data": {
      "text/plain": [
       "'A/5 21171'"
      ]
     },
     "execution_count": 178,
     "metadata": {},
     "output_type": "execute_result"
    }
   ],
   "source": [
    "sample_txt"
   ]
  },
  {
   "cell_type": "code",
   "execution_count": 181,
   "id": "4c3552d4",
   "metadata": {},
   "outputs": [
    {
     "data": {
      "text/plain": [
       "'1'"
      ]
     },
     "execution_count": 181,
     "metadata": {},
     "output_type": "execute_result"
    }
   ],
   "source": [
    "# 특정 위치의 문자 출력\n",
    "sample_txt[5]"
   ]
  },
  {
   "cell_type": "code",
   "execution_count": 182,
   "id": "9fd4eab0",
   "metadata": {},
   "outputs": [
    {
     "data": {
      "text/plain": [
       "'A/5'"
      ]
     },
     "execution_count": 182,
     "metadata": {},
     "output_type": "execute_result"
    }
   ],
   "source": [
    "# 첫번째~3번째 출력\n",
    "sample_txt[:3]"
   ]
  },
  {
   "cell_type": "code",
   "execution_count": 183,
   "id": "c6bc0766",
   "metadata": {},
   "outputs": [
    {
     "data": {
      "text/plain": [
       "'21171'"
      ]
     },
     "execution_count": 183,
     "metadata": {},
     "output_type": "execute_result"
    }
   ],
   "source": [
    "# 뒷부분 숫자들만 출력\n",
    "sample_txt[4:]"
   ]
  },
  {
   "cell_type": "code",
   "execution_count": 184,
   "id": "b0a27665",
   "metadata": {},
   "outputs": [
    {
     "data": {
      "text/plain": [
       "'1'"
      ]
     },
     "execution_count": 184,
     "metadata": {},
     "output_type": "execute_result"
    }
   ],
   "source": [
    "# 뒤에서부터 출력 원할 경우 마이너스 붙이기(첫글자는 -0이 아닌 -1)\n",
    "sample_txt[-1]"
   ]
  },
  {
   "cell_type": "code",
   "execution_count": 185,
   "id": "a547b83d",
   "metadata": {},
   "outputs": [
    {
     "data": {
      "text/plain": [
       "'21171'"
      ]
     },
     "execution_count": 185,
     "metadata": {},
     "output_type": "execute_result"
    }
   ],
   "source": [
    "sample_txt[-5:]"
   ]
  },
  {
   "cell_type": "code",
   "execution_count": 186,
   "id": "76eba288",
   "metadata": {},
   "outputs": [
    {
     "data": {
      "text/plain": [
       "'a/5 21171'"
      ]
     },
     "execution_count": 186,
     "metadata": {},
     "output_type": "execute_result"
    }
   ],
   "source": [
    "# 대소문자 변경\n",
    "sample_txt.lower()"
   ]
  },
  {
   "cell_type": "code",
   "execution_count": 187,
   "id": "adb83e0d",
   "metadata": {},
   "outputs": [
    {
     "data": {
      "text/plain": [
       "'A/5 21171'"
      ]
     },
     "execution_count": 187,
     "metadata": {},
     "output_type": "execute_result"
    }
   ],
   "source": [
    "sample_txt.upper()"
   ]
  },
  {
   "cell_type": "code",
   "execution_count": 188,
   "id": "13b369f9",
   "metadata": {},
   "outputs": [
    {
     "data": {
      "text/plain": [
       "['A/5', '21171']"
      ]
     },
     "execution_count": 188,
     "metadata": {},
     "output_type": "execute_result"
    }
   ],
   "source": [
    "# 문자 나누기 (띄어쓰기 기준으로 나눠짐)\n",
    "sample_txt.split()"
   ]
  },
  {
   "cell_type": "code",
   "execution_count": 189,
   "id": "4b97eaee",
   "metadata": {},
   "outputs": [
    {
     "data": {
      "text/plain": [
       "['A', '5 21171']"
      ]
     },
     "execution_count": 189,
     "metadata": {},
     "output_type": "execute_result"
    }
   ],
   "source": [
    "# 띄어쓰기 말고 다른 문자(ex./)기준으로 나누고 싶을때? 괄호 안에 원하는 기준 문자 넣어주기!\n",
    "sample_txt.split('/')"
   ]
  },
  {
   "cell_type": "code",
   "execution_count": 192,
   "id": "7bc726df",
   "metadata": {},
   "outputs": [
    {
     "data": {
      "text/plain": [
       "'21171'"
      ]
     },
     "execution_count": 192,
     "metadata": {},
     "output_type": "execute_result"
    }
   ],
   "source": [
    "# 뒷부분 숫자만 출력하고 싶다면?\n",
    "sample_txt.split()[-1]"
   ]
  },
  {
   "cell_type": "code",
   "execution_count": 193,
   "id": "b314c27c",
   "metadata": {},
   "outputs": [],
   "source": [
    "# 불필요한 공백 처리\n",
    "new_txt = ' A/5 21171'"
   ]
  },
  {
   "cell_type": "code",
   "execution_count": 194,
   "id": "639cb42a",
   "metadata": {},
   "outputs": [
    {
     "data": {
      "text/plain": [
       "' A/5 21171'"
      ]
     },
     "execution_count": 194,
     "metadata": {},
     "output_type": "execute_result"
    }
   ],
   "source": [
    "new_txt"
   ]
  },
  {
   "cell_type": "code",
   "execution_count": 195,
   "id": "b78d1b0c",
   "metadata": {},
   "outputs": [
    {
     "data": {
      "text/plain": [
       "'A/5 21171'"
      ]
     },
     "execution_count": 195,
     "metadata": {},
     "output_type": "execute_result"
    }
   ],
   "source": [
    "# strip함수 (문자 앞뒤의 띄어쓰기 없애줌)\n",
    "new_txt.strip()"
   ]
  },
  {
   "cell_type": "code",
   "execution_count": 197,
   "id": "96184322",
   "metadata": {},
   "outputs": [
    {
     "data": {
      "text/plain": [
       "0             A/5 21171\n",
       "1              PC 17599\n",
       "2      STON/O2. 3101282\n",
       "3                113803\n",
       "4                373450\n",
       "             ...       \n",
       "877    C.A./SOTON 34068\n",
       "878     SOTON/OQ 392076\n",
       "879              382652\n",
       "880              211536\n",
       "881              112053\n",
       "Name: Ticket, Length: 878, dtype: object"
      ]
     },
     "execution_count": 197,
     "metadata": {},
     "output_type": "execute_result"
    }
   ],
   "source": [
    "data['Ticket'][:-3]"
   ]
  },
  {
   "cell_type": "code",
   "execution_count": 198,
   "id": "7ed3e49f",
   "metadata": {},
   "outputs": [
    {
     "data": {
      "text/html": [
       "<div>\n",
       "<style scoped>\n",
       "    .dataframe tbody tr th:only-of-type {\n",
       "        vertical-align: middle;\n",
       "    }\n",
       "\n",
       "    .dataframe tbody tr th {\n",
       "        vertical-align: top;\n",
       "    }\n",
       "\n",
       "    .dataframe thead th {\n",
       "        text-align: right;\n",
       "    }\n",
       "</style>\n",
       "<table border=\"1\" class=\"dataframe\">\n",
       "  <thead>\n",
       "    <tr style=\"text-align: right;\">\n",
       "      <th></th>\n",
       "      <th>Pclass</th>\n",
       "      <th>Gender</th>\n",
       "      <th>Age</th>\n",
       "      <th>SibSp</th>\n",
       "      <th>Parch</th>\n",
       "      <th>Ticket</th>\n",
       "      <th>Embarked</th>\n",
       "      <th>Survived</th>\n",
       "      <th>ticket_date</th>\n",
       "    </tr>\n",
       "  </thead>\n",
       "  <tbody>\n",
       "    <tr>\n",
       "      <th>0</th>\n",
       "      <td>3</td>\n",
       "      <td>male</td>\n",
       "      <td>22.0</td>\n",
       "      <td>1</td>\n",
       "      <td>0</td>\n",
       "      <td>A/5 21171</td>\n",
       "      <td>S</td>\n",
       "      <td>0</td>\n",
       "      <td>1912-01-12</td>\n",
       "    </tr>\n",
       "    <tr>\n",
       "      <th>1</th>\n",
       "      <td>1</td>\n",
       "      <td>female</td>\n",
       "      <td>38.0</td>\n",
       "      <td>1</td>\n",
       "      <td>0</td>\n",
       "      <td>PC 17599</td>\n",
       "      <td>C</td>\n",
       "      <td>1</td>\n",
       "      <td>1912-03-29</td>\n",
       "    </tr>\n",
       "    <tr>\n",
       "      <th>2</th>\n",
       "      <td>3</td>\n",
       "      <td>female</td>\n",
       "      <td>26.0</td>\n",
       "      <td>0</td>\n",
       "      <td>0</td>\n",
       "      <td>STON/O2. 3101282</td>\n",
       "      <td>S</td>\n",
       "      <td>1</td>\n",
       "      <td>1912-02-23</td>\n",
       "    </tr>\n",
       "    <tr>\n",
       "      <th>3</th>\n",
       "      <td>1</td>\n",
       "      <td>female</td>\n",
       "      <td>28.0</td>\n",
       "      <td>1</td>\n",
       "      <td>0</td>\n",
       "      <td>113803</td>\n",
       "      <td>S</td>\n",
       "      <td>1</td>\n",
       "      <td>1912-03-28</td>\n",
       "    </tr>\n",
       "    <tr>\n",
       "      <th>4</th>\n",
       "      <td>3</td>\n",
       "      <td>male</td>\n",
       "      <td>35.0</td>\n",
       "      <td>0</td>\n",
       "      <td>0</td>\n",
       "      <td>373450</td>\n",
       "      <td>S</td>\n",
       "      <td>0</td>\n",
       "      <td>1912-04-03</td>\n",
       "    </tr>\n",
       "  </tbody>\n",
       "</table>\n",
       "</div>"
      ],
      "text/plain": [
       "   Pclass  Gender   Age  SibSp  Parch            Ticket Embarked  Survived  \\\n",
       "0       3    male  22.0      1      0         A/5 21171        S         0   \n",
       "1       1  female  38.0      1      0          PC 17599        C         1   \n",
       "2       3  female  26.0      0      0  STON/O2. 3101282        S         1   \n",
       "3       1  female  28.0      1      0            113803        S         1   \n",
       "4       3    male  35.0      0      0            373450        S         0   \n",
       "\n",
       "  ticket_date  \n",
       "0  1912-01-12  \n",
       "1  1912-03-29  \n",
       "2  1912-02-23  \n",
       "3  1912-03-28  \n",
       "4  1912-04-03  "
      ]
     },
     "execution_count": 198,
     "metadata": {},
     "output_type": "execute_result"
    }
   ],
   "source": [
    "data.head()"
   ]
  },
  {
   "cell_type": "code",
   "execution_count": 200,
   "id": "7eabd574",
   "metadata": {},
   "outputs": [
    {
     "data": {
      "text/plain": [
       "0      21171\n",
       "1      17599\n",
       "2      01282\n",
       "3      13803\n",
       "4      73450\n",
       "       ...  \n",
       "880    11536\n",
       "881    12053\n",
       "882     6607\n",
       "883    11369\n",
       "884    70376\n",
       "Name: Ticket, Length: 881, dtype: object"
      ]
     },
     "execution_count": 200,
     "metadata": {},
     "output_type": "execute_result"
    }
   ],
   "source": [
    "# 열말고 특정 컬럼에 대한 조건값 출력 (ex. 티켓 컬럼을 뒤에서 5개 숫자)\n",
    "data['Ticket'].str[-5:]"
   ]
  },
  {
   "cell_type": "code",
   "execution_count": 203,
   "id": "0b254446",
   "metadata": {},
   "outputs": [
    {
     "data": {
      "text/html": [
       "<div>\n",
       "<style scoped>\n",
       "    .dataframe tbody tr th:only-of-type {\n",
       "        vertical-align: middle;\n",
       "    }\n",
       "\n",
       "    .dataframe tbody tr th {\n",
       "        vertical-align: top;\n",
       "    }\n",
       "\n",
       "    .dataframe thead th {\n",
       "        text-align: right;\n",
       "    }\n",
       "</style>\n",
       "<table border=\"1\" class=\"dataframe\">\n",
       "  <thead>\n",
       "    <tr style=\"text-align: right;\">\n",
       "      <th></th>\n",
       "      <th>0</th>\n",
       "      <th>1</th>\n",
       "      <th>2</th>\n",
       "    </tr>\n",
       "  </thead>\n",
       "  <tbody>\n",
       "    <tr>\n",
       "      <th>0</th>\n",
       "      <td>A/5</td>\n",
       "      <td>21171</td>\n",
       "      <td>None</td>\n",
       "    </tr>\n",
       "    <tr>\n",
       "      <th>1</th>\n",
       "      <td>PC</td>\n",
       "      <td>17599</td>\n",
       "      <td>None</td>\n",
       "    </tr>\n",
       "    <tr>\n",
       "      <th>2</th>\n",
       "      <td>STON/O2.</td>\n",
       "      <td>3101282</td>\n",
       "      <td>None</td>\n",
       "    </tr>\n",
       "    <tr>\n",
       "      <th>3</th>\n",
       "      <td>113803</td>\n",
       "      <td>None</td>\n",
       "      <td>None</td>\n",
       "    </tr>\n",
       "    <tr>\n",
       "      <th>4</th>\n",
       "      <td>373450</td>\n",
       "      <td>None</td>\n",
       "      <td>None</td>\n",
       "    </tr>\n",
       "    <tr>\n",
       "      <th>...</th>\n",
       "      <td>...</td>\n",
       "      <td>...</td>\n",
       "      <td>...</td>\n",
       "    </tr>\n",
       "    <tr>\n",
       "      <th>880</th>\n",
       "      <td>211536</td>\n",
       "      <td>None</td>\n",
       "      <td>None</td>\n",
       "    </tr>\n",
       "    <tr>\n",
       "      <th>881</th>\n",
       "      <td>112053</td>\n",
       "      <td>None</td>\n",
       "      <td>None</td>\n",
       "    </tr>\n",
       "    <tr>\n",
       "      <th>882</th>\n",
       "      <td>W./C.</td>\n",
       "      <td>6607</td>\n",
       "      <td>None</td>\n",
       "    </tr>\n",
       "    <tr>\n",
       "      <th>883</th>\n",
       "      <td>111369</td>\n",
       "      <td>None</td>\n",
       "      <td>None</td>\n",
       "    </tr>\n",
       "    <tr>\n",
       "      <th>884</th>\n",
       "      <td>370376</td>\n",
       "      <td>None</td>\n",
       "      <td>None</td>\n",
       "    </tr>\n",
       "  </tbody>\n",
       "</table>\n",
       "<p>881 rows × 3 columns</p>\n",
       "</div>"
      ],
      "text/plain": [
       "            0        1     2\n",
       "0         A/5    21171  None\n",
       "1          PC    17599  None\n",
       "2    STON/O2.  3101282  None\n",
       "3      113803     None  None\n",
       "4      373450     None  None\n",
       "..        ...      ...   ...\n",
       "880    211536     None  None\n",
       "881    112053     None  None\n",
       "882     W./C.     6607  None\n",
       "883    111369     None  None\n",
       "884    370376     None  None\n",
       "\n",
       "[881 rows x 3 columns]"
      ]
     },
     "execution_count": 203,
     "metadata": {},
     "output_type": "execute_result"
    }
   ],
   "source": [
    "# 티켓에서 문자를 제외한 뒷부분의 숫자만 가져오기\n",
    "data['Ticket'].str.split(expand = True)\n",
    "\n",
    "# expand는 디폴트가 false, 걍 리스트로 출력. true로 바꿔줘야 테이블로 출력\n",
    "# 테이블이 잘 정리되어 있어서 띄어쓰기가 0,1뿐이었다면 [-1]로 뒷부분 숫자만 출력 가능하지만 지금은 2도 있어서 문제가 복잡해짐"
   ]
  },
  {
   "cell_type": "code",
   "execution_count": 204,
   "id": "7af792ff",
   "metadata": {},
   "outputs": [
    {
     "data": {
      "text/plain": [
       "0        21171\n",
       "1        17599\n",
       "2      3101282\n",
       "3       113803\n",
       "4       373450\n",
       "        ...   \n",
       "880     211536\n",
       "881     112053\n",
       "882       6607\n",
       "883     111369\n",
       "884     370376\n",
       "Name: Ticket, Length: 881, dtype: object"
      ]
     },
     "execution_count": 204,
     "metadata": {},
     "output_type": "execute_result"
    }
   ],
   "source": [
    "# 위 리스트 형태로 둔 상태에서 맨 뒤에서 첫번째로 있는 값들만 불러오기\n",
    "data['Ticket'].str.split().apply(lambda x: x[-1])"
   ]
  },
  {
   "cell_type": "code",
   "execution_count": 205,
   "id": "d98aee74",
   "metadata": {},
   "outputs": [],
   "source": [
    "data['new_ticket'] = data['Ticket'].str.split().apply(lambda x: x[-1])"
   ]
  },
  {
   "cell_type": "code",
   "execution_count": 206,
   "id": "e56554ac",
   "metadata": {},
   "outputs": [
    {
     "data": {
      "text/html": [
       "<div>\n",
       "<style scoped>\n",
       "    .dataframe tbody tr th:only-of-type {\n",
       "        vertical-align: middle;\n",
       "    }\n",
       "\n",
       "    .dataframe tbody tr th {\n",
       "        vertical-align: top;\n",
       "    }\n",
       "\n",
       "    .dataframe thead th {\n",
       "        text-align: right;\n",
       "    }\n",
       "</style>\n",
       "<table border=\"1\" class=\"dataframe\">\n",
       "  <thead>\n",
       "    <tr style=\"text-align: right;\">\n",
       "      <th></th>\n",
       "      <th>Pclass</th>\n",
       "      <th>Gender</th>\n",
       "      <th>Age</th>\n",
       "      <th>SibSp</th>\n",
       "      <th>Parch</th>\n",
       "      <th>Ticket</th>\n",
       "      <th>Embarked</th>\n",
       "      <th>Survived</th>\n",
       "      <th>ticket_date</th>\n",
       "      <th>new_ticket</th>\n",
       "    </tr>\n",
       "  </thead>\n",
       "  <tbody>\n",
       "    <tr>\n",
       "      <th>0</th>\n",
       "      <td>3</td>\n",
       "      <td>male</td>\n",
       "      <td>22.0</td>\n",
       "      <td>1</td>\n",
       "      <td>0</td>\n",
       "      <td>A/5 21171</td>\n",
       "      <td>S</td>\n",
       "      <td>0</td>\n",
       "      <td>1912-01-12</td>\n",
       "      <td>21171</td>\n",
       "    </tr>\n",
       "    <tr>\n",
       "      <th>1</th>\n",
       "      <td>1</td>\n",
       "      <td>female</td>\n",
       "      <td>38.0</td>\n",
       "      <td>1</td>\n",
       "      <td>0</td>\n",
       "      <td>PC 17599</td>\n",
       "      <td>C</td>\n",
       "      <td>1</td>\n",
       "      <td>1912-03-29</td>\n",
       "      <td>17599</td>\n",
       "    </tr>\n",
       "    <tr>\n",
       "      <th>2</th>\n",
       "      <td>3</td>\n",
       "      <td>female</td>\n",
       "      <td>26.0</td>\n",
       "      <td>0</td>\n",
       "      <td>0</td>\n",
       "      <td>STON/O2. 3101282</td>\n",
       "      <td>S</td>\n",
       "      <td>1</td>\n",
       "      <td>1912-02-23</td>\n",
       "      <td>3101282</td>\n",
       "    </tr>\n",
       "    <tr>\n",
       "      <th>3</th>\n",
       "      <td>1</td>\n",
       "      <td>female</td>\n",
       "      <td>28.0</td>\n",
       "      <td>1</td>\n",
       "      <td>0</td>\n",
       "      <td>113803</td>\n",
       "      <td>S</td>\n",
       "      <td>1</td>\n",
       "      <td>1912-03-28</td>\n",
       "      <td>113803</td>\n",
       "    </tr>\n",
       "    <tr>\n",
       "      <th>4</th>\n",
       "      <td>3</td>\n",
       "      <td>male</td>\n",
       "      <td>35.0</td>\n",
       "      <td>0</td>\n",
       "      <td>0</td>\n",
       "      <td>373450</td>\n",
       "      <td>S</td>\n",
       "      <td>0</td>\n",
       "      <td>1912-04-03</td>\n",
       "      <td>373450</td>\n",
       "    </tr>\n",
       "    <tr>\n",
       "      <th>...</th>\n",
       "      <td>...</td>\n",
       "      <td>...</td>\n",
       "      <td>...</td>\n",
       "      <td>...</td>\n",
       "      <td>...</td>\n",
       "      <td>...</td>\n",
       "      <td>...</td>\n",
       "      <td>...</td>\n",
       "      <td>...</td>\n",
       "      <td>...</td>\n",
       "    </tr>\n",
       "    <tr>\n",
       "      <th>880</th>\n",
       "      <td>2</td>\n",
       "      <td>male</td>\n",
       "      <td>27.0</td>\n",
       "      <td>0</td>\n",
       "      <td>0</td>\n",
       "      <td>211536</td>\n",
       "      <td>S</td>\n",
       "      <td>0</td>\n",
       "      <td>1912-01-29</td>\n",
       "      <td>211536</td>\n",
       "    </tr>\n",
       "    <tr>\n",
       "      <th>881</th>\n",
       "      <td>1</td>\n",
       "      <td>female</td>\n",
       "      <td>19.0</td>\n",
       "      <td>0</td>\n",
       "      <td>0</td>\n",
       "      <td>112053</td>\n",
       "      <td>S</td>\n",
       "      <td>1</td>\n",
       "      <td>1912-03-30</td>\n",
       "      <td>112053</td>\n",
       "    </tr>\n",
       "    <tr>\n",
       "      <th>882</th>\n",
       "      <td>3</td>\n",
       "      <td>female</td>\n",
       "      <td>28.0</td>\n",
       "      <td>1</td>\n",
       "      <td>2</td>\n",
       "      <td>W./C. 6607</td>\n",
       "      <td>S</td>\n",
       "      <td>0</td>\n",
       "      <td>1912-04-07</td>\n",
       "      <td>6607</td>\n",
       "    </tr>\n",
       "    <tr>\n",
       "      <th>883</th>\n",
       "      <td>1</td>\n",
       "      <td>male</td>\n",
       "      <td>26.0</td>\n",
       "      <td>0</td>\n",
       "      <td>0</td>\n",
       "      <td>111369</td>\n",
       "      <td>C</td>\n",
       "      <td>1</td>\n",
       "      <td>1912-03-01</td>\n",
       "      <td>111369</td>\n",
       "    </tr>\n",
       "    <tr>\n",
       "      <th>884</th>\n",
       "      <td>3</td>\n",
       "      <td>male</td>\n",
       "      <td>32.0</td>\n",
       "      <td>0</td>\n",
       "      <td>0</td>\n",
       "      <td>370376</td>\n",
       "      <td>Q</td>\n",
       "      <td>0</td>\n",
       "      <td>1912-03-05</td>\n",
       "      <td>370376</td>\n",
       "    </tr>\n",
       "  </tbody>\n",
       "</table>\n",
       "<p>881 rows × 10 columns</p>\n",
       "</div>"
      ],
      "text/plain": [
       "     Pclass  Gender   Age  SibSp  Parch            Ticket Embarked  Survived  \\\n",
       "0         3    male  22.0      1      0         A/5 21171        S         0   \n",
       "1         1  female  38.0      1      0          PC 17599        C         1   \n",
       "2         3  female  26.0      0      0  STON/O2. 3101282        S         1   \n",
       "3         1  female  28.0      1      0            113803        S         1   \n",
       "4         3    male  35.0      0      0            373450        S         0   \n",
       "..      ...     ...   ...    ...    ...               ...      ...       ...   \n",
       "880       2    male  27.0      0      0            211536        S         0   \n",
       "881       1  female  19.0      0      0            112053        S         1   \n",
       "882       3  female  28.0      1      2        W./C. 6607        S         0   \n",
       "883       1    male  26.0      0      0            111369        C         1   \n",
       "884       3    male  32.0      0      0            370376        Q         0   \n",
       "\n",
       "    ticket_date new_ticket  \n",
       "0    1912-01-12      21171  \n",
       "1    1912-03-29      17599  \n",
       "2    1912-02-23    3101282  \n",
       "3    1912-03-28     113803  \n",
       "4    1912-04-03     373450  \n",
       "..          ...        ...  \n",
       "880  1912-01-29     211536  \n",
       "881  1912-03-30     112053  \n",
       "882  1912-04-07       6607  \n",
       "883  1912-03-01     111369  \n",
       "884  1912-03-05     370376  \n",
       "\n",
       "[881 rows x 10 columns]"
      ]
     },
     "execution_count": 206,
     "metadata": {},
     "output_type": "execute_result"
    }
   ],
   "source": [
    "data"
   ]
  },
  {
   "cell_type": "code",
   "execution_count": 207,
   "id": "f0bf8833",
   "metadata": {},
   "outputs": [
    {
     "name": "stdout",
     "output_type": "stream",
     "text": [
      "<class 'pandas.core.frame.DataFrame'>\n",
      "Int64Index: 881 entries, 0 to 884\n",
      "Data columns (total 10 columns):\n",
      " #   Column       Non-Null Count  Dtype  \n",
      "---  ------       --------------  -----  \n",
      " 0   Pclass       881 non-null    int64  \n",
      " 1   Gender       881 non-null    object \n",
      " 2   Age          881 non-null    float64\n",
      " 3   SibSp        881 non-null    int64  \n",
      " 4   Parch        881 non-null    int64  \n",
      " 5   Ticket       881 non-null    object \n",
      " 6   Embarked     881 non-null    object \n",
      " 7   Survived     881 non-null    int64  \n",
      " 8   ticket_date  881 non-null    object \n",
      " 9   new_ticket   881 non-null    object \n",
      "dtypes: float64(1), int64(4), object(5)\n",
      "memory usage: 75.7+ KB\n"
     ]
    }
   ],
   "source": [
    "data.info()\n",
    "# new_ticket이 어떤 데이터타입인지 확인"
   ]
  },
  {
   "cell_type": "code",
   "execution_count": 208,
   "id": "0b9c1424",
   "metadata": {},
   "outputs": [
    {
     "ename": "ValueError",
     "evalue": "invalid literal for int() with base 10: 'LINE'",
     "output_type": "error",
     "traceback": [
      "\u001b[0;31m---------------------------------------------------------------------------\u001b[0m",
      "\u001b[0;31mValueError\u001b[0m                                Traceback (most recent call last)",
      "\u001b[0;32m/tmp/ipykernel_54/4077404427.py\u001b[0m in \u001b[0;36m<module>\u001b[0;34m\u001b[0m\n\u001b[0;32m----> 1\u001b[0;31m \u001b[0mdata\u001b[0m\u001b[0;34m[\u001b[0m\u001b[0;34m'new_ticket'\u001b[0m\u001b[0;34m]\u001b[0m\u001b[0;34m.\u001b[0m\u001b[0mastype\u001b[0m\u001b[0;34m(\u001b[0m\u001b[0;34m'int'\u001b[0m\u001b[0;34m)\u001b[0m\u001b[0;34m\u001b[0m\u001b[0;34m\u001b[0m\u001b[0m\n\u001b[0m",
      "\u001b[0;32m/opt/conda/lib/python3.9/site-packages/pandas/core/generic.py\u001b[0m in \u001b[0;36mastype\u001b[0;34m(self, dtype, copy, errors)\u001b[0m\n\u001b[1;32m   5813\u001b[0m         \u001b[0;32melse\u001b[0m\u001b[0;34m:\u001b[0m\u001b[0;34m\u001b[0m\u001b[0;34m\u001b[0m\u001b[0m\n\u001b[1;32m   5814\u001b[0m             \u001b[0;31m# else, only a single dtype is given\u001b[0m\u001b[0;34m\u001b[0m\u001b[0;34m\u001b[0m\u001b[0m\n\u001b[0;32m-> 5815\u001b[0;31m             \u001b[0mnew_data\u001b[0m \u001b[0;34m=\u001b[0m \u001b[0mself\u001b[0m\u001b[0;34m.\u001b[0m\u001b[0m_mgr\u001b[0m\u001b[0;34m.\u001b[0m\u001b[0mastype\u001b[0m\u001b[0;34m(\u001b[0m\u001b[0mdtype\u001b[0m\u001b[0;34m=\u001b[0m\u001b[0mdtype\u001b[0m\u001b[0;34m,\u001b[0m \u001b[0mcopy\u001b[0m\u001b[0;34m=\u001b[0m\u001b[0mcopy\u001b[0m\u001b[0;34m,\u001b[0m \u001b[0merrors\u001b[0m\u001b[0;34m=\u001b[0m\u001b[0merrors\u001b[0m\u001b[0;34m)\u001b[0m\u001b[0;34m\u001b[0m\u001b[0;34m\u001b[0m\u001b[0m\n\u001b[0m\u001b[1;32m   5816\u001b[0m             \u001b[0;32mreturn\u001b[0m \u001b[0mself\u001b[0m\u001b[0;34m.\u001b[0m\u001b[0m_constructor\u001b[0m\u001b[0;34m(\u001b[0m\u001b[0mnew_data\u001b[0m\u001b[0;34m)\u001b[0m\u001b[0;34m.\u001b[0m\u001b[0m__finalize__\u001b[0m\u001b[0;34m(\u001b[0m\u001b[0mself\u001b[0m\u001b[0;34m,\u001b[0m \u001b[0mmethod\u001b[0m\u001b[0;34m=\u001b[0m\u001b[0;34m\"astype\"\u001b[0m\u001b[0;34m)\u001b[0m\u001b[0;34m\u001b[0m\u001b[0;34m\u001b[0m\u001b[0m\n\u001b[1;32m   5817\u001b[0m \u001b[0;34m\u001b[0m\u001b[0m\n",
      "\u001b[0;32m/opt/conda/lib/python3.9/site-packages/pandas/core/internals/managers.py\u001b[0m in \u001b[0;36mastype\u001b[0;34m(self, dtype, copy, errors)\u001b[0m\n\u001b[1;32m    416\u001b[0m \u001b[0;34m\u001b[0m\u001b[0m\n\u001b[1;32m    417\u001b[0m     \u001b[0;32mdef\u001b[0m \u001b[0mastype\u001b[0m\u001b[0;34m(\u001b[0m\u001b[0mself\u001b[0m\u001b[0;34m:\u001b[0m \u001b[0mT\u001b[0m\u001b[0;34m,\u001b[0m \u001b[0mdtype\u001b[0m\u001b[0;34m,\u001b[0m \u001b[0mcopy\u001b[0m\u001b[0;34m:\u001b[0m \u001b[0mbool\u001b[0m \u001b[0;34m=\u001b[0m \u001b[0;32mFalse\u001b[0m\u001b[0;34m,\u001b[0m \u001b[0merrors\u001b[0m\u001b[0;34m:\u001b[0m \u001b[0mstr\u001b[0m \u001b[0;34m=\u001b[0m \u001b[0;34m\"raise\"\u001b[0m\u001b[0;34m)\u001b[0m \u001b[0;34m->\u001b[0m \u001b[0mT\u001b[0m\u001b[0;34m:\u001b[0m\u001b[0;34m\u001b[0m\u001b[0;34m\u001b[0m\u001b[0m\n\u001b[0;32m--> 418\u001b[0;31m         \u001b[0;32mreturn\u001b[0m \u001b[0mself\u001b[0m\u001b[0;34m.\u001b[0m\u001b[0mapply\u001b[0m\u001b[0;34m(\u001b[0m\u001b[0;34m\"astype\"\u001b[0m\u001b[0;34m,\u001b[0m \u001b[0mdtype\u001b[0m\u001b[0;34m=\u001b[0m\u001b[0mdtype\u001b[0m\u001b[0;34m,\u001b[0m \u001b[0mcopy\u001b[0m\u001b[0;34m=\u001b[0m\u001b[0mcopy\u001b[0m\u001b[0;34m,\u001b[0m \u001b[0merrors\u001b[0m\u001b[0;34m=\u001b[0m\u001b[0merrors\u001b[0m\u001b[0;34m)\u001b[0m\u001b[0;34m\u001b[0m\u001b[0;34m\u001b[0m\u001b[0m\n\u001b[0m\u001b[1;32m    419\u001b[0m \u001b[0;34m\u001b[0m\u001b[0m\n\u001b[1;32m    420\u001b[0m     def convert(\n",
      "\u001b[0;32m/opt/conda/lib/python3.9/site-packages/pandas/core/internals/managers.py\u001b[0m in \u001b[0;36mapply\u001b[0;34m(self, f, align_keys, ignore_failures, **kwargs)\u001b[0m\n\u001b[1;32m    325\u001b[0m                     \u001b[0mapplied\u001b[0m \u001b[0;34m=\u001b[0m \u001b[0mb\u001b[0m\u001b[0;34m.\u001b[0m\u001b[0mapply\u001b[0m\u001b[0;34m(\u001b[0m\u001b[0mf\u001b[0m\u001b[0;34m,\u001b[0m \u001b[0;34m**\u001b[0m\u001b[0mkwargs\u001b[0m\u001b[0;34m)\u001b[0m\u001b[0;34m\u001b[0m\u001b[0;34m\u001b[0m\u001b[0m\n\u001b[1;32m    326\u001b[0m                 \u001b[0;32melse\u001b[0m\u001b[0;34m:\u001b[0m\u001b[0;34m\u001b[0m\u001b[0;34m\u001b[0m\u001b[0m\n\u001b[0;32m--> 327\u001b[0;31m                     \u001b[0mapplied\u001b[0m \u001b[0;34m=\u001b[0m \u001b[0mgetattr\u001b[0m\u001b[0;34m(\u001b[0m\u001b[0mb\u001b[0m\u001b[0;34m,\u001b[0m \u001b[0mf\u001b[0m\u001b[0;34m)\u001b[0m\u001b[0;34m(\u001b[0m\u001b[0;34m**\u001b[0m\u001b[0mkwargs\u001b[0m\u001b[0;34m)\u001b[0m\u001b[0;34m\u001b[0m\u001b[0;34m\u001b[0m\u001b[0m\n\u001b[0m\u001b[1;32m    328\u001b[0m             \u001b[0;32mexcept\u001b[0m \u001b[0;34m(\u001b[0m\u001b[0mTypeError\u001b[0m\u001b[0;34m,\u001b[0m \u001b[0mNotImplementedError\u001b[0m\u001b[0;34m)\u001b[0m\u001b[0;34m:\u001b[0m\u001b[0;34m\u001b[0m\u001b[0;34m\u001b[0m\u001b[0m\n\u001b[1;32m    329\u001b[0m                 \u001b[0;32mif\u001b[0m \u001b[0;32mnot\u001b[0m \u001b[0mignore_failures\u001b[0m\u001b[0;34m:\u001b[0m\u001b[0;34m\u001b[0m\u001b[0;34m\u001b[0m\u001b[0m\n",
      "\u001b[0;32m/opt/conda/lib/python3.9/site-packages/pandas/core/internals/blocks.py\u001b[0m in \u001b[0;36mastype\u001b[0;34m(self, dtype, copy, errors)\u001b[0m\n\u001b[1;32m    590\u001b[0m         \u001b[0mvalues\u001b[0m \u001b[0;34m=\u001b[0m \u001b[0mself\u001b[0m\u001b[0;34m.\u001b[0m\u001b[0mvalues\u001b[0m\u001b[0;34m\u001b[0m\u001b[0;34m\u001b[0m\u001b[0m\n\u001b[1;32m    591\u001b[0m \u001b[0;34m\u001b[0m\u001b[0m\n\u001b[0;32m--> 592\u001b[0;31m         \u001b[0mnew_values\u001b[0m \u001b[0;34m=\u001b[0m \u001b[0mastype_array_safe\u001b[0m\u001b[0;34m(\u001b[0m\u001b[0mvalues\u001b[0m\u001b[0;34m,\u001b[0m \u001b[0mdtype\u001b[0m\u001b[0;34m,\u001b[0m \u001b[0mcopy\u001b[0m\u001b[0;34m=\u001b[0m\u001b[0mcopy\u001b[0m\u001b[0;34m,\u001b[0m \u001b[0merrors\u001b[0m\u001b[0;34m=\u001b[0m\u001b[0merrors\u001b[0m\u001b[0;34m)\u001b[0m\u001b[0;34m\u001b[0m\u001b[0;34m\u001b[0m\u001b[0m\n\u001b[0m\u001b[1;32m    593\u001b[0m \u001b[0;34m\u001b[0m\u001b[0m\n\u001b[1;32m    594\u001b[0m         \u001b[0mnew_values\u001b[0m \u001b[0;34m=\u001b[0m \u001b[0mmaybe_coerce_values\u001b[0m\u001b[0;34m(\u001b[0m\u001b[0mnew_values\u001b[0m\u001b[0;34m)\u001b[0m\u001b[0;34m\u001b[0m\u001b[0;34m\u001b[0m\u001b[0m\n",
      "\u001b[0;32m/opt/conda/lib/python3.9/site-packages/pandas/core/dtypes/cast.py\u001b[0m in \u001b[0;36mastype_array_safe\u001b[0;34m(values, dtype, copy, errors)\u001b[0m\n\u001b[1;32m   1307\u001b[0m \u001b[0;34m\u001b[0m\u001b[0m\n\u001b[1;32m   1308\u001b[0m     \u001b[0;32mtry\u001b[0m\u001b[0;34m:\u001b[0m\u001b[0;34m\u001b[0m\u001b[0;34m\u001b[0m\u001b[0m\n\u001b[0;32m-> 1309\u001b[0;31m         \u001b[0mnew_values\u001b[0m \u001b[0;34m=\u001b[0m \u001b[0mastype_array\u001b[0m\u001b[0;34m(\u001b[0m\u001b[0mvalues\u001b[0m\u001b[0;34m,\u001b[0m \u001b[0mdtype\u001b[0m\u001b[0;34m,\u001b[0m \u001b[0mcopy\u001b[0m\u001b[0;34m=\u001b[0m\u001b[0mcopy\u001b[0m\u001b[0;34m)\u001b[0m\u001b[0;34m\u001b[0m\u001b[0;34m\u001b[0m\u001b[0m\n\u001b[0m\u001b[1;32m   1310\u001b[0m     \u001b[0;32mexcept\u001b[0m \u001b[0;34m(\u001b[0m\u001b[0mValueError\u001b[0m\u001b[0;34m,\u001b[0m \u001b[0mTypeError\u001b[0m\u001b[0;34m)\u001b[0m\u001b[0;34m:\u001b[0m\u001b[0;34m\u001b[0m\u001b[0;34m\u001b[0m\u001b[0m\n\u001b[1;32m   1311\u001b[0m         \u001b[0;31m# e.g. astype_nansafe can fail on object-dtype of strings\u001b[0m\u001b[0;34m\u001b[0m\u001b[0;34m\u001b[0m\u001b[0m\n",
      "\u001b[0;32m/opt/conda/lib/python3.9/site-packages/pandas/core/dtypes/cast.py\u001b[0m in \u001b[0;36mastype_array\u001b[0;34m(values, dtype, copy)\u001b[0m\n\u001b[1;32m   1255\u001b[0m \u001b[0;34m\u001b[0m\u001b[0m\n\u001b[1;32m   1256\u001b[0m     \u001b[0;32melse\u001b[0m\u001b[0;34m:\u001b[0m\u001b[0;34m\u001b[0m\u001b[0;34m\u001b[0m\u001b[0m\n\u001b[0;32m-> 1257\u001b[0;31m         \u001b[0mvalues\u001b[0m \u001b[0;34m=\u001b[0m \u001b[0mastype_nansafe\u001b[0m\u001b[0;34m(\u001b[0m\u001b[0mvalues\u001b[0m\u001b[0;34m,\u001b[0m \u001b[0mdtype\u001b[0m\u001b[0;34m,\u001b[0m \u001b[0mcopy\u001b[0m\u001b[0;34m=\u001b[0m\u001b[0mcopy\u001b[0m\u001b[0;34m)\u001b[0m\u001b[0;34m\u001b[0m\u001b[0;34m\u001b[0m\u001b[0m\n\u001b[0m\u001b[1;32m   1258\u001b[0m \u001b[0;34m\u001b[0m\u001b[0m\n\u001b[1;32m   1259\u001b[0m     \u001b[0;31m# in pandas we don't store numpy str dtypes, so convert to object\u001b[0m\u001b[0;34m\u001b[0m\u001b[0;34m\u001b[0m\u001b[0m\n",
      "\u001b[0;32m/opt/conda/lib/python3.9/site-packages/pandas/core/dtypes/cast.py\u001b[0m in \u001b[0;36mastype_nansafe\u001b[0;34m(arr, dtype, copy, skipna)\u001b[0m\n\u001b[1;32m   1172\u001b[0m         \u001b[0;31m# work around NumPy brokenness, #1987\u001b[0m\u001b[0;34m\u001b[0m\u001b[0;34m\u001b[0m\u001b[0m\n\u001b[1;32m   1173\u001b[0m         \u001b[0;32mif\u001b[0m \u001b[0mnp\u001b[0m\u001b[0;34m.\u001b[0m\u001b[0missubdtype\u001b[0m\u001b[0;34m(\u001b[0m\u001b[0mdtype\u001b[0m\u001b[0;34m.\u001b[0m\u001b[0mtype\u001b[0m\u001b[0;34m,\u001b[0m \u001b[0mnp\u001b[0m\u001b[0;34m.\u001b[0m\u001b[0minteger\u001b[0m\u001b[0;34m)\u001b[0m\u001b[0;34m:\u001b[0m\u001b[0;34m\u001b[0m\u001b[0;34m\u001b[0m\u001b[0m\n\u001b[0;32m-> 1174\u001b[0;31m             \u001b[0;32mreturn\u001b[0m \u001b[0mlib\u001b[0m\u001b[0;34m.\u001b[0m\u001b[0mastype_intsafe\u001b[0m\u001b[0;34m(\u001b[0m\u001b[0marr\u001b[0m\u001b[0;34m,\u001b[0m \u001b[0mdtype\u001b[0m\u001b[0;34m)\u001b[0m\u001b[0;34m\u001b[0m\u001b[0;34m\u001b[0m\u001b[0m\n\u001b[0m\u001b[1;32m   1175\u001b[0m \u001b[0;34m\u001b[0m\u001b[0m\n\u001b[1;32m   1176\u001b[0m         \u001b[0;31m# if we have a datetime/timedelta array of objects\u001b[0m\u001b[0;34m\u001b[0m\u001b[0;34m\u001b[0m\u001b[0m\n",
      "\u001b[0;32m/opt/conda/lib/python3.9/site-packages/pandas/_libs/lib.pyx\u001b[0m in \u001b[0;36mpandas._libs.lib.astype_intsafe\u001b[0;34m()\u001b[0m\n",
      "\u001b[0;31mValueError\u001b[0m: invalid literal for int() with base 10: 'LINE'"
     ]
    }
   ],
   "source": [
    "data['new_ticket'].astype('int')\n",
    "# 중간에 'line'이라는 문자열이 섞여있어서 숫자로 바꿀 수 없다는 오류 뜸"
   ]
  },
  {
   "cell_type": "code",
   "execution_count": 209,
   "id": "9b7c1767",
   "metadata": {},
   "outputs": [],
   "source": [
    "text_a = '123'\n",
    "text_b = 'abc'\n",
    "txxt_c = '12a'"
   ]
  },
  {
   "cell_type": "code",
   "execution_count": 210,
   "id": "4a5513dd",
   "metadata": {},
   "outputs": [
    {
     "data": {
      "text/plain": [
       "True"
      ]
     },
     "execution_count": 210,
     "metadata": {},
     "output_type": "execute_result"
    }
   ],
   "source": [
    "# 숫자만 있는지 확인\n",
    "text_a.isdigit()\n",
    "\n",
    "# 숫자만 있으면 true, 문자도 있으면 false 출력"
   ]
  },
  {
   "cell_type": "code",
   "execution_count": 211,
   "id": "613480b2",
   "metadata": {},
   "outputs": [
    {
     "data": {
      "text/plain": [
       "0      True\n",
       "1      True\n",
       "2      True\n",
       "3      True\n",
       "4      True\n",
       "       ... \n",
       "880    True\n",
       "881    True\n",
       "882    True\n",
       "883    True\n",
       "884    True\n",
       "Name: new_ticket, Length: 881, dtype: bool"
      ]
     },
     "execution_count": 211,
     "metadata": {},
     "output_type": "execute_result"
    }
   ],
   "source": [
    "# new_ticket이 숫자로 이루어져있는지 확인\n",
    "data['new_ticket'].str.isdigit()"
   ]
  },
  {
   "cell_type": "code",
   "execution_count": 212,
   "id": "df329650",
   "metadata": {},
   "outputs": [
    {
     "data": {
      "text/html": [
       "<div>\n",
       "<style scoped>\n",
       "    .dataframe tbody tr th:only-of-type {\n",
       "        vertical-align: middle;\n",
       "    }\n",
       "\n",
       "    .dataframe tbody tr th {\n",
       "        vertical-align: top;\n",
       "    }\n",
       "\n",
       "    .dataframe thead th {\n",
       "        text-align: right;\n",
       "    }\n",
       "</style>\n",
       "<table border=\"1\" class=\"dataframe\">\n",
       "  <thead>\n",
       "    <tr style=\"text-align: right;\">\n",
       "      <th></th>\n",
       "      <th>Pclass</th>\n",
       "      <th>Gender</th>\n",
       "      <th>Age</th>\n",
       "      <th>SibSp</th>\n",
       "      <th>Parch</th>\n",
       "      <th>Ticket</th>\n",
       "      <th>Embarked</th>\n",
       "      <th>Survived</th>\n",
       "      <th>ticket_date</th>\n",
       "      <th>new_ticket</th>\n",
       "    </tr>\n",
       "  </thead>\n",
       "  <tbody>\n",
       "    <tr>\n",
       "      <th>178</th>\n",
       "      <td>3</td>\n",
       "      <td>male</td>\n",
       "      <td>36.0</td>\n",
       "      <td>0</td>\n",
       "      <td>0</td>\n",
       "      <td>LINE</td>\n",
       "      <td>S</td>\n",
       "      <td>0</td>\n",
       "      <td>1912-04-08</td>\n",
       "      <td>LINE</td>\n",
       "    </tr>\n",
       "    <tr>\n",
       "      <th>270</th>\n",
       "      <td>3</td>\n",
       "      <td>male</td>\n",
       "      <td>25.0</td>\n",
       "      <td>0</td>\n",
       "      <td>0</td>\n",
       "      <td>LINE</td>\n",
       "      <td>S</td>\n",
       "      <td>1</td>\n",
       "      <td>1912-04-08</td>\n",
       "      <td>LINE</td>\n",
       "    </tr>\n",
       "    <tr>\n",
       "      <th>301</th>\n",
       "      <td>3</td>\n",
       "      <td>male</td>\n",
       "      <td>19.0</td>\n",
       "      <td>0</td>\n",
       "      <td>0</td>\n",
       "      <td>LINE</td>\n",
       "      <td>S</td>\n",
       "      <td>0</td>\n",
       "      <td>1912-04-08</td>\n",
       "      <td>LINE</td>\n",
       "    </tr>\n",
       "    <tr>\n",
       "      <th>594</th>\n",
       "      <td>3</td>\n",
       "      <td>male</td>\n",
       "      <td>49.0</td>\n",
       "      <td>0</td>\n",
       "      <td>0</td>\n",
       "      <td>LINE</td>\n",
       "      <td>S</td>\n",
       "      <td>0</td>\n",
       "      <td>1912-04-08</td>\n",
       "      <td>LINE</td>\n",
       "    </tr>\n",
       "  </tbody>\n",
       "</table>\n",
       "</div>"
      ],
      "text/plain": [
       "     Pclass Gender   Age  SibSp  Parch Ticket Embarked  Survived ticket_date  \\\n",
       "178       3   male  36.0      0      0   LINE        S         0  1912-04-08   \n",
       "270       3   male  25.0      0      0   LINE        S         1  1912-04-08   \n",
       "301       3   male  19.0      0      0   LINE        S         0  1912-04-08   \n",
       "594       3   male  49.0      0      0   LINE        S         0  1912-04-08   \n",
       "\n",
       "    new_ticket  \n",
       "178       LINE  \n",
       "270       LINE  \n",
       "301       LINE  \n",
       "594       LINE  "
      ]
     },
     "execution_count": 212,
     "metadata": {},
     "output_type": "execute_result"
    }
   ],
   "source": [
    "# 위 값 중 false인 것만 출력하고 싶으면? []리스트로 감싸주고 앞에 ~물결 추가!\n",
    "data[~data['new_ticket'].str.isdigit()]"
   ]
  },
  {
   "cell_type": "code",
   "execution_count": 213,
   "id": "1d4edb40",
   "metadata": {},
   "outputs": [
    {
     "data": {
      "text/plain": [
       "0        21171\n",
       "1        17599\n",
       "2      3101282\n",
       "3       113803\n",
       "4       373450\n",
       "        ...   \n",
       "880     211536\n",
       "881     112053\n",
       "882       6607\n",
       "883     111369\n",
       "884     370376\n",
       "Name: new_ticket, Length: 881, dtype: object"
      ]
     },
     "execution_count": 213,
     "metadata": {},
     "output_type": "execute_result"
    }
   ],
   "source": [
    "# line이  숫자로 인식되도록 임의로 바꿔주기\n",
    "\n",
    "data['new_ticket'].replace({'LINE': '999999'})"
   ]
  },
  {
   "cell_type": "code",
   "execution_count": 214,
   "id": "1de7f2dd",
   "metadata": {},
   "outputs": [],
   "source": [
    "# data['new_ticket']이름으로 업데이트\n",
    "data['new_ticket'] = data['new_ticket'].replace({'LINE': '999999'})"
   ]
  },
  {
   "cell_type": "code",
   "execution_count": 215,
   "id": "f982924e",
   "metadata": {},
   "outputs": [
    {
     "data": {
      "text/plain": [
       "0      True\n",
       "1      True\n",
       "2      True\n",
       "3      True\n",
       "4      True\n",
       "       ... \n",
       "880    True\n",
       "881    True\n",
       "882    True\n",
       "883    True\n",
       "884    True\n",
       "Name: new_ticket, Length: 881, dtype: bool"
      ]
     },
     "execution_count": 215,
     "metadata": {},
     "output_type": "execute_result"
    }
   ],
   "source": [
    "# 뉴티켓이 모두 숫자로 이루어졌는지 다시 한번 확인\n",
    "\n",
    "data['new_ticket'].str.isdigit()"
   ]
  },
  {
   "cell_type": "code",
   "execution_count": 216,
   "id": "78def48a",
   "metadata": {},
   "outputs": [
    {
     "data": {
      "text/plain": [
       "0        21171\n",
       "1        17599\n",
       "2      3101282\n",
       "3       113803\n",
       "4       373450\n",
       "        ...   \n",
       "880     211536\n",
       "881     112053\n",
       "882       6607\n",
       "883     111369\n",
       "884     370376\n",
       "Name: new_ticket, Length: 881, dtype: int64"
      ]
     },
     "execution_count": 216,
     "metadata": {},
     "output_type": "execute_result"
    }
   ],
   "source": [
    "data['new_ticket'].astype('int')"
   ]
  },
  {
   "cell_type": "code",
   "execution_count": 217,
   "id": "02489215",
   "metadata": {},
   "outputs": [
    {
     "data": {
      "text/plain": [
       "0        21171\n",
       "1        17599\n",
       "2      3101282\n",
       "3       113803\n",
       "4       373450\n",
       "        ...   \n",
       "880     211536\n",
       "881     112053\n",
       "882       6607\n",
       "883     111369\n",
       "884     370376\n",
       "Name: new_ticket, Length: 881, dtype: int64"
      ]
     },
     "execution_count": 217,
     "metadata": {},
     "output_type": "execute_result"
    }
   ],
   "source": [
    "# 데이터 형태 변경하는 다른 방법\n",
    "pd.to_numeric(data['new_ticket'])\n",
    "\n",
    "# 확인 후 테이블 업데이트\n",
    "data['new_ticket'] = pd.to_numeric(data['new_ticket'])"
   ]
  },
  {
   "cell_type": "code",
   "execution_count": 218,
   "id": "68f043e9",
   "metadata": {},
   "outputs": [],
   "source": [
    "# -------------------------- 날짜 및 시간 데이터 처리 ---------------------------------------------"
   ]
  },
  {
   "cell_type": "code",
   "execution_count": 220,
   "id": "7b35ed58",
   "metadata": {},
   "outputs": [
    {
     "data": {
      "text/html": [
       "<div>\n",
       "<style scoped>\n",
       "    .dataframe tbody tr th:only-of-type {\n",
       "        vertical-align: middle;\n",
       "    }\n",
       "\n",
       "    .dataframe tbody tr th {\n",
       "        vertical-align: top;\n",
       "    }\n",
       "\n",
       "    .dataframe thead th {\n",
       "        text-align: right;\n",
       "    }\n",
       "</style>\n",
       "<table border=\"1\" class=\"dataframe\">\n",
       "  <thead>\n",
       "    <tr style=\"text-align: right;\">\n",
       "      <th></th>\n",
       "      <th>Pclass</th>\n",
       "      <th>Gender</th>\n",
       "      <th>Age</th>\n",
       "      <th>SibSp</th>\n",
       "      <th>Parch</th>\n",
       "      <th>Ticket</th>\n",
       "      <th>Embarked</th>\n",
       "      <th>Survived</th>\n",
       "      <th>ticket_date</th>\n",
       "      <th>new_ticket</th>\n",
       "    </tr>\n",
       "  </thead>\n",
       "  <tbody>\n",
       "    <tr>\n",
       "      <th>0</th>\n",
       "      <td>3</td>\n",
       "      <td>male</td>\n",
       "      <td>22.0</td>\n",
       "      <td>1</td>\n",
       "      <td>0</td>\n",
       "      <td>A/5 21171</td>\n",
       "      <td>S</td>\n",
       "      <td>0</td>\n",
       "      <td>1912-01-12</td>\n",
       "      <td>21171</td>\n",
       "    </tr>\n",
       "    <tr>\n",
       "      <th>1</th>\n",
       "      <td>1</td>\n",
       "      <td>female</td>\n",
       "      <td>38.0</td>\n",
       "      <td>1</td>\n",
       "      <td>0</td>\n",
       "      <td>PC 17599</td>\n",
       "      <td>C</td>\n",
       "      <td>1</td>\n",
       "      <td>1912-03-29</td>\n",
       "      <td>17599</td>\n",
       "    </tr>\n",
       "    <tr>\n",
       "      <th>2</th>\n",
       "      <td>3</td>\n",
       "      <td>female</td>\n",
       "      <td>26.0</td>\n",
       "      <td>0</td>\n",
       "      <td>0</td>\n",
       "      <td>STON/O2. 3101282</td>\n",
       "      <td>S</td>\n",
       "      <td>1</td>\n",
       "      <td>1912-02-23</td>\n",
       "      <td>3101282</td>\n",
       "    </tr>\n",
       "    <tr>\n",
       "      <th>3</th>\n",
       "      <td>1</td>\n",
       "      <td>female</td>\n",
       "      <td>28.0</td>\n",
       "      <td>1</td>\n",
       "      <td>0</td>\n",
       "      <td>113803</td>\n",
       "      <td>S</td>\n",
       "      <td>1</td>\n",
       "      <td>1912-03-28</td>\n",
       "      <td>113803</td>\n",
       "    </tr>\n",
       "    <tr>\n",
       "      <th>4</th>\n",
       "      <td>3</td>\n",
       "      <td>male</td>\n",
       "      <td>35.0</td>\n",
       "      <td>0</td>\n",
       "      <td>0</td>\n",
       "      <td>373450</td>\n",
       "      <td>S</td>\n",
       "      <td>0</td>\n",
       "      <td>1912-04-03</td>\n",
       "      <td>373450</td>\n",
       "    </tr>\n",
       "  </tbody>\n",
       "</table>\n",
       "</div>"
      ],
      "text/plain": [
       "   Pclass  Gender   Age  SibSp  Parch            Ticket Embarked  Survived  \\\n",
       "0       3    male  22.0      1      0         A/5 21171        S         0   \n",
       "1       1  female  38.0      1      0          PC 17599        C         1   \n",
       "2       3  female  26.0      0      0  STON/O2. 3101282        S         1   \n",
       "3       1  female  28.0      1      0            113803        S         1   \n",
       "4       3    male  35.0      0      0            373450        S         0   \n",
       "\n",
       "  ticket_date new_ticket  \n",
       "0  1912-01-12      21171  \n",
       "1  1912-03-29      17599  \n",
       "2  1912-02-23    3101282  \n",
       "3  1912-03-28     113803  \n",
       "4  1912-04-03     373450  "
      ]
     },
     "execution_count": 220,
     "metadata": {},
     "output_type": "execute_result"
    }
   ],
   "source": [
    "data.head()"
   ]
  },
  {
   "cell_type": "code",
   "execution_count": 221,
   "id": "5e9ee327",
   "metadata": {},
   "outputs": [],
   "source": [
    "from datetime import datetime"
   ]
  },
  {
   "cell_type": "code",
   "execution_count": 223,
   "id": "2e63597b",
   "metadata": {},
   "outputs": [],
   "source": [
    "sample_date = datetime.strptime('2023-01-01', '%Y-%m-%d')"
   ]
  },
  {
   "cell_type": "code",
   "execution_count": 226,
   "id": "3228a8b9",
   "metadata": {},
   "outputs": [
    {
     "data": {
      "text/plain": [
       "datetime.datetime(2023, 1, 1, 0, 0)"
      ]
     },
     "execution_count": 226,
     "metadata": {},
     "output_type": "execute_result"
    }
   ],
   "source": [
    "sample_date"
   ]
  },
  {
   "cell_type": "code",
   "execution_count": 228,
   "id": "7a378264",
   "metadata": {},
   "outputs": [
    {
     "data": {
      "text/plain": [
       "'2023-Jan-01'"
      ]
     },
     "execution_count": 228,
     "metadata": {},
     "output_type": "execute_result"
    }
   ],
   "source": [
    "# datetime 을 str로 바꾸기\n",
    "datetime.strftime(sample_date, '%Y-%b-%d')"
   ]
  },
  {
   "cell_type": "code",
   "execution_count": 229,
   "id": "99518d69",
   "metadata": {},
   "outputs": [
    {
     "data": {
      "text/plain": [
       "2023"
      ]
     },
     "execution_count": 229,
     "metadata": {},
     "output_type": "execute_result"
    }
   ],
   "source": [
    "# 연도 출력\n",
    "sample_date.year"
   ]
  },
  {
   "cell_type": "code",
   "execution_count": 231,
   "id": "f8256385",
   "metadata": {},
   "outputs": [
    {
     "data": {
      "text/plain": [
       "1"
      ]
     },
     "execution_count": 231,
     "metadata": {},
     "output_type": "execute_result"
    }
   ],
   "source": [
    "# 월 출력\n",
    "sample_date.month"
   ]
  },
  {
   "cell_type": "code",
   "execution_count": 233,
   "id": "3348116d",
   "metadata": {},
   "outputs": [],
   "source": [
    "next_date = datetime.strptime('2023-05-05', '%Y-%m-%d')"
   ]
  },
  {
   "cell_type": "code",
   "execution_count": 234,
   "id": "e1debbfb",
   "metadata": {},
   "outputs": [
    {
     "data": {
      "text/plain": [
       "datetime.timedelta(days=124)"
      ]
     },
     "execution_count": 234,
     "metadata": {},
     "output_type": "execute_result"
    }
   ],
   "source": [
    "# 날짜간의 차이를 계산하고 싶으면 datetime함수 사용\n",
    "next_date - sample_date"
   ]
  },
  {
   "cell_type": "code",
   "execution_count": 236,
   "id": "591404fc",
   "metadata": {},
   "outputs": [
    {
     "name": "stdout",
     "output_type": "stream",
     "text": [
      "<class 'pandas.core.frame.DataFrame'>\n",
      "Int64Index: 881 entries, 0 to 884\n",
      "Data columns (total 10 columns):\n",
      " #   Column       Non-Null Count  Dtype  \n",
      "---  ------       --------------  -----  \n",
      " 0   Pclass       881 non-null    int64  \n",
      " 1   Gender       881 non-null    object \n",
      " 2   Age          881 non-null    float64\n",
      " 3   SibSp        881 non-null    int64  \n",
      " 4   Parch        881 non-null    int64  \n",
      " 5   Ticket       881 non-null    object \n",
      " 6   Embarked     881 non-null    object \n",
      " 7   Survived     881 non-null    int64  \n",
      " 8   ticket_date  881 non-null    object \n",
      " 9   new_ticket   881 non-null    object \n",
      "dtypes: float64(1), int64(4), object(5)\n",
      "memory usage: 75.7+ KB\n"
     ]
    }
   ],
   "source": [
    "data.info()"
   ]
  },
  {
   "cell_type": "code",
   "execution_count": 238,
   "id": "38128ebd",
   "metadata": {},
   "outputs": [],
   "source": [
    "# 데이터타입이 object인 티켓데이트를 datetime으로 바꿔주고, data['ticket_date']로 업데이트 저장\n",
    "data['ticket_date'] = pd.to_datetime(data['ticket_date'])"
   ]
  },
  {
   "cell_type": "code",
   "execution_count": 239,
   "id": "0875af25",
   "metadata": {},
   "outputs": [
    {
     "name": "stdout",
     "output_type": "stream",
     "text": [
      "<class 'pandas.core.frame.DataFrame'>\n",
      "Int64Index: 881 entries, 0 to 884\n",
      "Data columns (total 10 columns):\n",
      " #   Column       Non-Null Count  Dtype         \n",
      "---  ------       --------------  -----         \n",
      " 0   Pclass       881 non-null    int64         \n",
      " 1   Gender       881 non-null    object        \n",
      " 2   Age          881 non-null    float64       \n",
      " 3   SibSp        881 non-null    int64         \n",
      " 4   Parch        881 non-null    int64         \n",
      " 5   Ticket       881 non-null    object        \n",
      " 6   Embarked     881 non-null    object        \n",
      " 7   Survived     881 non-null    int64         \n",
      " 8   ticket_date  881 non-null    datetime64[ns]\n",
      " 9   new_ticket   881 non-null    object        \n",
      "dtypes: datetime64[ns](1), float64(1), int64(4), object(4)\n",
      "memory usage: 75.7+ KB\n"
     ]
    }
   ],
   "source": [
    "data.info()\n",
    "\n",
    "# ticket_date가 datetime으로 잘 바뀌었는지 확인"
   ]
  },
  {
   "cell_type": "code",
   "execution_count": 241,
   "id": "61c7882d",
   "metadata": {},
   "outputs": [
    {
     "data": {
      "text/plain": [
       "0      1912\n",
       "1      1912\n",
       "2      1912\n",
       "3      1912\n",
       "4      1912\n",
       "       ... \n",
       "880    1912\n",
       "881    1912\n",
       "882    1912\n",
       "883    1912\n",
       "884    1912\n",
       "Name: ticket_date, Length: 881, dtype: int64"
      ]
     },
     "execution_count": 241,
     "metadata": {},
     "output_type": "execute_result"
    }
   ],
   "source": [
    "# 티켓날짜의 연도만 출력하기 (year, day, month 등으로 다양한 값 출력 가능)\n",
    "data['ticket_date'].dt.year"
   ]
  },
  {
   "cell_type": "code",
   "execution_count": 242,
   "id": "afef233c",
   "metadata": {},
   "outputs": [],
   "source": [
    "# 사고날짜 세팅\n",
    "acc = datetime.strptime('1912-04-15', '%Y-%m-%d')"
   ]
  },
  {
   "cell_type": "code",
   "execution_count": 243,
   "id": "2ed34cbb",
   "metadata": {},
   "outputs": [],
   "source": [
    "# 사고 날짜와 티켓 구매일 간의 차이 구해서 새로운 컬럼으로 저장\n",
    "data['buy_before'] = acc - data['ticket_date']"
   ]
  },
  {
   "cell_type": "code",
   "execution_count": 245,
   "id": "fc9bb8c5",
   "metadata": {},
   "outputs": [
    {
     "name": "stdout",
     "output_type": "stream",
     "text": [
      "<class 'pandas.core.frame.DataFrame'>\n",
      "Int64Index: 881 entries, 0 to 884\n",
      "Data columns (total 11 columns):\n",
      " #   Column       Non-Null Count  Dtype          \n",
      "---  ------       --------------  -----          \n",
      " 0   Pclass       881 non-null    int64          \n",
      " 1   Gender       881 non-null    object         \n",
      " 2   Age          881 non-null    float64        \n",
      " 3   SibSp        881 non-null    int64          \n",
      " 4   Parch        881 non-null    int64          \n",
      " 5   Ticket       881 non-null    object         \n",
      " 6   Embarked     881 non-null    object         \n",
      " 7   Survived     881 non-null    int64          \n",
      " 8   ticket_date  881 non-null    datetime64[ns] \n",
      " 9   new_ticket   881 non-null    object         \n",
      " 10  buy_before   881 non-null    timedelta64[ns]\n",
      "dtypes: datetime64[ns](1), float64(1), int64(4), object(4), timedelta64[ns](1)\n",
      "memory usage: 82.6+ KB\n"
     ]
    }
   ],
   "source": [
    "data.info()"
   ]
  },
  {
   "cell_type": "code",
   "execution_count": 246,
   "id": "763d7cb5",
   "metadata": {},
   "outputs": [
    {
     "data": {
      "text/html": [
       "<div>\n",
       "<style scoped>\n",
       "    .dataframe tbody tr th:only-of-type {\n",
       "        vertical-align: middle;\n",
       "    }\n",
       "\n",
       "    .dataframe tbody tr th {\n",
       "        vertical-align: top;\n",
       "    }\n",
       "\n",
       "    .dataframe thead th {\n",
       "        text-align: right;\n",
       "    }\n",
       "</style>\n",
       "<table border=\"1\" class=\"dataframe\">\n",
       "  <thead>\n",
       "    <tr style=\"text-align: right;\">\n",
       "      <th></th>\n",
       "      <th>Pclass</th>\n",
       "      <th>Gender</th>\n",
       "      <th>Age</th>\n",
       "      <th>SibSp</th>\n",
       "      <th>Parch</th>\n",
       "      <th>Ticket</th>\n",
       "      <th>Embarked</th>\n",
       "      <th>Survived</th>\n",
       "      <th>ticket_date</th>\n",
       "      <th>new_ticket</th>\n",
       "      <th>buy_before</th>\n",
       "    </tr>\n",
       "  </thead>\n",
       "  <tbody>\n",
       "    <tr>\n",
       "      <th>0</th>\n",
       "      <td>3</td>\n",
       "      <td>male</td>\n",
       "      <td>22.0</td>\n",
       "      <td>1</td>\n",
       "      <td>0</td>\n",
       "      <td>A/5 21171</td>\n",
       "      <td>S</td>\n",
       "      <td>0</td>\n",
       "      <td>1912-01-12</td>\n",
       "      <td>21171</td>\n",
       "      <td>94 days</td>\n",
       "    </tr>\n",
       "    <tr>\n",
       "      <th>1</th>\n",
       "      <td>1</td>\n",
       "      <td>female</td>\n",
       "      <td>38.0</td>\n",
       "      <td>1</td>\n",
       "      <td>0</td>\n",
       "      <td>PC 17599</td>\n",
       "      <td>C</td>\n",
       "      <td>1</td>\n",
       "      <td>1912-03-29</td>\n",
       "      <td>17599</td>\n",
       "      <td>17 days</td>\n",
       "    </tr>\n",
       "    <tr>\n",
       "      <th>2</th>\n",
       "      <td>3</td>\n",
       "      <td>female</td>\n",
       "      <td>26.0</td>\n",
       "      <td>0</td>\n",
       "      <td>0</td>\n",
       "      <td>STON/O2. 3101282</td>\n",
       "      <td>S</td>\n",
       "      <td>1</td>\n",
       "      <td>1912-02-23</td>\n",
       "      <td>3101282</td>\n",
       "      <td>52 days</td>\n",
       "    </tr>\n",
       "    <tr>\n",
       "      <th>3</th>\n",
       "      <td>1</td>\n",
       "      <td>female</td>\n",
       "      <td>28.0</td>\n",
       "      <td>1</td>\n",
       "      <td>0</td>\n",
       "      <td>113803</td>\n",
       "      <td>S</td>\n",
       "      <td>1</td>\n",
       "      <td>1912-03-28</td>\n",
       "      <td>113803</td>\n",
       "      <td>18 days</td>\n",
       "    </tr>\n",
       "    <tr>\n",
       "      <th>4</th>\n",
       "      <td>3</td>\n",
       "      <td>male</td>\n",
       "      <td>35.0</td>\n",
       "      <td>0</td>\n",
       "      <td>0</td>\n",
       "      <td>373450</td>\n",
       "      <td>S</td>\n",
       "      <td>0</td>\n",
       "      <td>1912-04-03</td>\n",
       "      <td>373450</td>\n",
       "      <td>12 days</td>\n",
       "    </tr>\n",
       "  </tbody>\n",
       "</table>\n",
       "</div>"
      ],
      "text/plain": [
       "   Pclass  Gender   Age  SibSp  Parch            Ticket Embarked  Survived  \\\n",
       "0       3    male  22.0      1      0         A/5 21171        S         0   \n",
       "1       1  female  38.0      1      0          PC 17599        C         1   \n",
       "2       3  female  26.0      0      0  STON/O2. 3101282        S         1   \n",
       "3       1  female  28.0      1      0            113803        S         1   \n",
       "4       3    male  35.0      0      0            373450        S         0   \n",
       "\n",
       "  ticket_date new_ticket buy_before  \n",
       "0  1912-01-12      21171    94 days  \n",
       "1  1912-03-29      17599    17 days  \n",
       "2  1912-02-23    3101282    52 days  \n",
       "3  1912-03-28     113803    18 days  \n",
       "4  1912-04-03     373450    12 days  "
      ]
     },
     "execution_count": 246,
     "metadata": {},
     "output_type": "execute_result"
    }
   ],
   "source": [
    "data.head()"
   ]
  },
  {
   "cell_type": "code",
   "execution_count": 247,
   "id": "bd8f46f2",
   "metadata": {},
   "outputs": [],
   "source": [
    "# 숫자 형태로 변환 (datetime형태에서는 전체에 +10일 하는 등의 계산 불가. int로 변경해주면 가능해짐)\n",
    "data['buy_before'] = data['buy_before'].dt.days"
   ]
  },
  {
   "cell_type": "code",
   "execution_count": 248,
   "id": "99e10004",
   "metadata": {},
   "outputs": [
    {
     "name": "stdout",
     "output_type": "stream",
     "text": [
      "<class 'pandas.core.frame.DataFrame'>\n",
      "Int64Index: 881 entries, 0 to 884\n",
      "Data columns (total 11 columns):\n",
      " #   Column       Non-Null Count  Dtype         \n",
      "---  ------       --------------  -----         \n",
      " 0   Pclass       881 non-null    int64         \n",
      " 1   Gender       881 non-null    object        \n",
      " 2   Age          881 non-null    float64       \n",
      " 3   SibSp        881 non-null    int64         \n",
      " 4   Parch        881 non-null    int64         \n",
      " 5   Ticket       881 non-null    object        \n",
      " 6   Embarked     881 non-null    object        \n",
      " 7   Survived     881 non-null    int64         \n",
      " 8   ticket_date  881 non-null    datetime64[ns]\n",
      " 9   new_ticket   881 non-null    object        \n",
      " 10  buy_before   881 non-null    int64         \n",
      "dtypes: datetime64[ns](1), float64(1), int64(5), object(4)\n",
      "memory usage: 82.6+ KB\n"
     ]
    }
   ],
   "source": [
    "data.info()"
   ]
  },
  {
   "cell_type": "code",
   "execution_count": null,
   "id": "053e6510",
   "metadata": {},
   "outputs": [],
   "source": []
  }
 ],
 "metadata": {
  "kernelspec": {
   "display_name": "Python 3 (ipykernel)",
   "language": "python",
   "name": "python3"
  },
  "language_info": {
   "codemirror_mode": {
    "name": "ipython",
    "version": 3
   },
   "file_extension": ".py",
   "mimetype": "text/x-python",
   "name": "python",
   "nbconvert_exporter": "python",
   "pygments_lexer": "ipython3",
   "version": "3.9.7"
  }
 },
 "nbformat": 4,
 "nbformat_minor": 5
}
