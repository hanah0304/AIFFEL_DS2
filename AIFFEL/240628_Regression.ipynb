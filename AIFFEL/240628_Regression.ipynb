{
 "cells": [
  {
   "cell_type": "markdown",
   "id": "ac40d932",
   "metadata": {},
   "source": [
    "# 회귀(Regression)\n",
    "\n",
    "- 주어진 데이터로부터 연속적인 숫자 값을 예측하는 기법\n",
    "- 즉, 입력변수(독립변수)를 이용해 출력변수(종속변수)의 값을 예측하거나 설명\n",
    "- ex. 집의 크기와 가격 데이터 이용하여 특정 크기의 집 가격 예측\n",
    "\n",
    "\n",
    "## 라쏘&릿지\n",
    "- 회귀 분석에서 사용하는 두 가지 정규화 기법\n",
    "- 정규화는 모델이 과적합되지 않도록 제약을 가하는 기법\n",
    "\n",
    "### 라쏘\n",
    "- 모델의 복잡성을 줄이기 위해 중요 계수가 아닌 일부 계수를 0으로 만듬\n",
    "- 장점: 변수 선택이 자동으로 이루어져 해석 용이, 중요한 특징만 살려서 간단한 모델 만들 수 있음\n",
    "\n",
    "### 릿지\n",
    "- 모든 계수를 0에 가깝게 만들지만 0으로 만들지는 않음\n",
    "- 계수값을 작게 만들어 모델 단순화\n",
    "- 장점: 모든 변수를 사용하여 예측할 수 있어 변수 선택 필요 없는 경우 유용, 과적합 방지\n",
    "\n",
    "\n",
    "## 선형 회귀\n",
    "1. 선형회귀\n",
    "- 단순 선형회귀와 다중 선형회귀가 있지만 흔히 사용하는 것은 <u>\"다중 선형회귀\"</u>입니다.\n",
    "- Feature가 한 개인 경우가 드물기 때문에 보통 feature가 두 개 이상인 다중 선형회귀를 만들게 됩니다.\n",
    "\n",
    "2. 비용함수\n",
    "- 데이터와 모델 간의 거리를 계산합니다.\n",
    "- 비용함수(cost function) 또는 손실함수, 목적함수라 부르기도 합니다.\n",
    "- 오차(error)를 계산합니다. (실제 값과 예측값의 차이)\n",
    "- 평균 제곱 오차를 최소화하는 파라미터를 찾습니다.\n",
    "\n",
    "3. 경사하강법\n",
    "- 오차를 찾아 나가는 방식\n",
    "- 비용함수의 기울기 절대값이 가장 작은 지점을 찾아서 오차가 작은 모델을 만듭니다."
   ]
  },
  {
   "cell_type": "code",
   "execution_count": 1,
   "id": "249f0866",
   "metadata": {},
   "outputs": [],
   "source": [
    "# 라이브러리 불러오기\n",
    "import pandas as pd\n",
    "from sklearn.model_selection import train_test_split\n",
    "from sklearn.metrics import mean_squared_error"
   ]
  },
  {
   "cell_type": "code",
   "execution_count": 2,
   "id": "dbb2b8f7",
   "metadata": {},
   "outputs": [
    {
     "data": {
      "text/plain": [
       "((353, 10), (89, 10), (353,), (89,))"
      ]
     },
     "execution_count": 2,
     "metadata": {},
     "output_type": "execute_result"
    }
   ],
   "source": [
    "# 데이터 생성\n",
    "from sklearn.datasets import load_diabetes # 당뇨병 환자 데이터\n",
    "\n",
    "# make_dataset() 함수 정의\n",
    "def make_dataset():\n",
    "    \n",
    "    # 당뇨병 데이터셋 로드\n",
    "    dataset = load_diabetes()\n",
    "    \n",
    "    # 불러온 데이터셋 기반으로 df라는 데이터 프레임 만들기. 데이터셋의 피쳐네임을 컬럼으로 사용.\n",
    "    df = pd.DataFrame(dataset.data, columns=dataset.feature_names)\n",
    "    \n",
    "    # df 데이터프레임에 target이라는 컬럼 추가 후, 실제 질병 진행 값 추가\n",
    "    df['target'] = dataset.target\n",
    "    \n",
    "    # 데이터프레임을 학습&테스트 세트로 분리. 데이터프레임에서 target 컬럼 제거 후 목표 변수로 설정, 전체 데이터의 20%를 테스트 데이터로 할당.\n",
    "    # train_test_split(특징데이터x, 목표데이터y, test_size, random_state, stratify)\n",
    "    X_train, X_test, y_train, y_test = train_test_split(\n",
    "        df.drop('target', axis=1), df['target'], test_size=0.2, random_state=1004)\n",
    "    \n",
    "    # 학습&테스트 세트 반환\n",
    "    return X_train, X_test, y_train, y_test\n",
    "\n",
    "\n",
    "# make_dataset 함수를 호출하여 학습&테스트 세트를 가져오고, 이를 X_train, X_test, y_train, y_test 변수에 할당\n",
    "X_train, X_test, y_train, y_test = make_dataset()\n",
    "\n",
    "# 학습&테스트 세트의 모양 출력하여 데이터셋 크기 확인\n",
    "X_train.shape, X_test.shape, y_train.shape, y_test.shape"
   ]
  },
  {
   "cell_type": "code",
   "execution_count": 3,
   "id": "7d1caa1f",
   "metadata": {},
   "outputs": [
    {
     "data": {
      "text/plain": [
       "2707.6236708320466"
      ]
     },
     "execution_count": 3,
     "metadata": {},
     "output_type": "execute_result"
    }
   ],
   "source": [
    "# 선형 회귀\n",
    "# 사이킷런의 선형회귀 모델 불러오기\n",
    "from sklearn.linear_model import LinearRegression\n",
    "\n",
    "# 선형회귀모델을 model이라는 변수에 할당(객체 생성)\n",
    "model = LinearRegression()\n",
    "\n",
    "# 학습데이터셋을 활용해서 모델 학습 진행\n",
    "model.fit(X_train, y_train)\n",
    "\n",
    "# 학습된 모델을 사용해 테스트 데이터의 예측값 생성 -> pred에 할당\n",
    "pred = model.predict(X_test)\n",
    "\n",
    "# 테스트 데이터의 실제값(y_test)과 모델의 예측값(pred) 비교하여 예측 성능 평가 (MSE: 평균 제곱 오차 계산)\n",
    "mean_squared_error(y_test, pred)"
   ]
  },
  {
   "cell_type": "markdown",
   "id": "9a877f49",
   "metadata": {},
   "source": [
    "# 릿지 회귀\n",
    "- 오버피팅 문제로 규제(regularization)를 적용한 모델\n",
    "- 규제 방식: L2 규제\n",
    "- 파라미터(alpha) 값을 활용해 조절\n",
    "- alpha 값이 커질수록 회귀 계수 값을 작게 만듦"
   ]
  },
  {
   "cell_type": "code",
   "execution_count": 4,
   "id": "a9d10c38",
   "metadata": {},
   "outputs": [
    {
     "data": {
      "text/plain": [
       "3522.1129142470336"
      ]
     },
     "execution_count": 4,
     "metadata": {},
     "output_type": "execute_result"
    }
   ],
   "source": [
    "# 릿지 회귀\n",
    "from sklearn.linear_model import Ridge\n",
    "model = Ridge(alpha=1)\n",
    "model.fit(X_train, y_train)\n",
    "pred = model.predict(X_test)\n",
    "mean_squared_error(y_test, pred)\n",
    "\n",
    "# 결과가 위 회귀보다 커짐. 숫자가 작을 수록 좋은건데..."
   ]
  },
  {
   "cell_type": "code",
   "execution_count": 5,
   "id": "84ca10f0",
   "metadata": {},
   "outputs": [
    {
     "data": {
      "text/html": [
       "<div>\n",
       "<style scoped>\n",
       "    .dataframe tbody tr th:only-of-type {\n",
       "        vertical-align: middle;\n",
       "    }\n",
       "\n",
       "    .dataframe tbody tr th {\n",
       "        vertical-align: top;\n",
       "    }\n",
       "\n",
       "    .dataframe thead th {\n",
       "        text-align: right;\n",
       "    }\n",
       "</style>\n",
       "<table border=\"1\" class=\"dataframe\">\n",
       "  <thead>\n",
       "    <tr style=\"text-align: right;\">\n",
       "      <th></th>\n",
       "      <th>alpha1</th>\n",
       "    </tr>\n",
       "  </thead>\n",
       "  <tbody>\n",
       "    <tr>\n",
       "      <th>age</th>\n",
       "      <td>31.293287</td>\n",
       "    </tr>\n",
       "    <tr>\n",
       "      <th>sex</th>\n",
       "      <td>-71.449580</td>\n",
       "    </tr>\n",
       "    <tr>\n",
       "      <th>bmi</th>\n",
       "      <td>267.605153</td>\n",
       "    </tr>\n",
       "    <tr>\n",
       "      <th>bp</th>\n",
       "      <td>197.364745</td>\n",
       "    </tr>\n",
       "    <tr>\n",
       "      <th>s1</th>\n",
       "      <td>14.613106</td>\n",
       "    </tr>\n",
       "    <tr>\n",
       "      <th>s2</th>\n",
       "      <td>-13.884790</td>\n",
       "    </tr>\n",
       "    <tr>\n",
       "      <th>s3</th>\n",
       "      <td>-124.649955</td>\n",
       "    </tr>\n",
       "    <tr>\n",
       "      <th>s4</th>\n",
       "      <td>106.212968</td>\n",
       "    </tr>\n",
       "    <tr>\n",
       "      <th>s5</th>\n",
       "      <td>221.068052</td>\n",
       "    </tr>\n",
       "    <tr>\n",
       "      <th>s6</th>\n",
       "      <td>101.202651</td>\n",
       "    </tr>\n",
       "  </tbody>\n",
       "</table>\n",
       "</div>"
      ],
      "text/plain": [
       "         alpha1\n",
       "age   31.293287\n",
       "sex  -71.449580\n",
       "bmi  267.605153\n",
       "bp   197.364745\n",
       "s1    14.613106\n",
       "s2   -13.884790\n",
       "s3  -124.649955\n",
       "s4   106.212968\n",
       "s5   221.068052\n",
       "s6   101.202651"
      ]
     },
     "execution_count": 5,
     "metadata": {},
     "output_type": "execute_result"
    }
   ],
   "source": [
    "# 회귀 계수\n",
    "coef = pd.DataFrame(data=model.coef_, index=X_train.columns, columns=['alpha1'])\n",
    "coef"
   ]
  },
  {
   "cell_type": "code",
   "execution_count": 6,
   "id": "5fdea5aa",
   "metadata": {},
   "outputs": [
    {
     "data": {
      "text/plain": [
       "5521.882311176061"
      ]
     },
     "execution_count": 6,
     "metadata": {},
     "output_type": "execute_result"
    }
   ],
   "source": [
    "# 릿지 회귀 (alpha=10)\n",
    "model = Ridge(alpha=10)\n",
    "model.fit(X_train, y_train)\n",
    "pred = model.predict(X_test)\n",
    "mean_squared_error(y_test, pred)"
   ]
  },
  {
   "cell_type": "code",
   "execution_count": 7,
   "id": "fd01088c",
   "metadata": {},
   "outputs": [
    {
     "data": {
      "text/html": [
       "<div>\n",
       "<style scoped>\n",
       "    .dataframe tbody tr th:only-of-type {\n",
       "        vertical-align: middle;\n",
       "    }\n",
       "\n",
       "    .dataframe tbody tr th {\n",
       "        vertical-align: top;\n",
       "    }\n",
       "\n",
       "    .dataframe thead th {\n",
       "        text-align: right;\n",
       "    }\n",
       "</style>\n",
       "<table border=\"1\" class=\"dataframe\">\n",
       "  <thead>\n",
       "    <tr style=\"text-align: right;\">\n",
       "      <th></th>\n",
       "      <th>alpha1</th>\n",
       "      <th>alpha10</th>\n",
       "    </tr>\n",
       "  </thead>\n",
       "  <tbody>\n",
       "    <tr>\n",
       "      <th>age</th>\n",
       "      <td>31.293287</td>\n",
       "      <td>16.703159</td>\n",
       "    </tr>\n",
       "    <tr>\n",
       "      <th>sex</th>\n",
       "      <td>-71.449580</td>\n",
       "      <td>-1.796452</td>\n",
       "    </tr>\n",
       "    <tr>\n",
       "      <th>bmi</th>\n",
       "      <td>267.605153</td>\n",
       "      <td>61.026348</td>\n",
       "    </tr>\n",
       "    <tr>\n",
       "      <th>bp</th>\n",
       "      <td>197.364745</td>\n",
       "      <td>47.435152</td>\n",
       "    </tr>\n",
       "    <tr>\n",
       "      <th>s1</th>\n",
       "      <td>14.613106</td>\n",
       "      <td>18.491225</td>\n",
       "    </tr>\n",
       "    <tr>\n",
       "      <th>s2</th>\n",
       "      <td>-13.884790</td>\n",
       "      <td>13.440080</td>\n",
       "    </tr>\n",
       "    <tr>\n",
       "      <th>s3</th>\n",
       "      <td>-124.649955</td>\n",
       "      <td>-35.542084</td>\n",
       "    </tr>\n",
       "    <tr>\n",
       "      <th>s4</th>\n",
       "      <td>106.212968</td>\n",
       "      <td>38.896129</td>\n",
       "    </tr>\n",
       "    <tr>\n",
       "      <th>s5</th>\n",
       "      <td>221.068052</td>\n",
       "      <td>55.276214</td>\n",
       "    </tr>\n",
       "    <tr>\n",
       "      <th>s6</th>\n",
       "      <td>101.202651</td>\n",
       "      <td>35.868345</td>\n",
       "    </tr>\n",
       "  </tbody>\n",
       "</table>\n",
       "</div>"
      ],
      "text/plain": [
       "         alpha1    alpha10\n",
       "age   31.293287  16.703159\n",
       "sex  -71.449580  -1.796452\n",
       "bmi  267.605153  61.026348\n",
       "bp   197.364745  47.435152\n",
       "s1    14.613106  18.491225\n",
       "s2   -13.884790  13.440080\n",
       "s3  -124.649955 -35.542084\n",
       "s4   106.212968  38.896129\n",
       "s5   221.068052  55.276214\n",
       "s6   101.202651  35.868345"
      ]
     },
     "execution_count": 7,
     "metadata": {},
     "output_type": "execute_result"
    }
   ],
   "source": [
    "# 회귀 계수 (alpha 10)\n",
    "coef['alpha10'] = model.coef_\n",
    "coef"
   ]
  },
  {
   "cell_type": "code",
   "execution_count": 8,
   "id": "1d1ec5db",
   "metadata": {},
   "outputs": [
    {
     "data": {
      "text/plain": [
       "2699.6575055293893"
      ]
     },
     "execution_count": 8,
     "metadata": {},
     "output_type": "execute_result"
    }
   ],
   "source": [
    "# 릿지 회귀 (alpha=0.05)\n",
    "model = Ridge(alpha=0.05)\n",
    "model.fit(X_train, y_train)\n",
    "pred = model.predict(X_test)\n",
    "mean_squared_error(y_test, pred)"
   ]
  },
  {
   "cell_type": "code",
   "execution_count": 9,
   "id": "189c36e8",
   "metadata": {},
   "outputs": [
    {
     "data": {
      "text/html": [
       "<div>\n",
       "<style scoped>\n",
       "    .dataframe tbody tr th:only-of-type {\n",
       "        vertical-align: middle;\n",
       "    }\n",
       "\n",
       "    .dataframe tbody tr th {\n",
       "        vertical-align: top;\n",
       "    }\n",
       "\n",
       "    .dataframe thead th {\n",
       "        text-align: right;\n",
       "    }\n",
       "</style>\n",
       "<table border=\"1\" class=\"dataframe\">\n",
       "  <thead>\n",
       "    <tr style=\"text-align: right;\">\n",
       "      <th></th>\n",
       "      <th>alpha1</th>\n",
       "      <th>alpha10</th>\n",
       "      <th>alpha0.05</th>\n",
       "    </tr>\n",
       "  </thead>\n",
       "  <tbody>\n",
       "    <tr>\n",
       "      <th>age</th>\n",
       "      <td>31.293287</td>\n",
       "      <td>16.703159</td>\n",
       "      <td>-0.509655</td>\n",
       "    </tr>\n",
       "    <tr>\n",
       "      <th>sex</th>\n",
       "      <td>-71.449580</td>\n",
       "      <td>-1.796452</td>\n",
       "      <td>-223.350550</td>\n",
       "    </tr>\n",
       "    <tr>\n",
       "      <th>bmi</th>\n",
       "      <td>267.605153</td>\n",
       "      <td>61.026348</td>\n",
       "      <td>469.442823</td>\n",
       "    </tr>\n",
       "    <tr>\n",
       "      <th>bp</th>\n",
       "      <td>197.364745</td>\n",
       "      <td>47.435152</td>\n",
       "      <td>348.377551</td>\n",
       "    </tr>\n",
       "    <tr>\n",
       "      <th>s1</th>\n",
       "      <td>14.613106</td>\n",
       "      <td>18.491225</td>\n",
       "      <td>-146.949652</td>\n",
       "    </tr>\n",
       "    <tr>\n",
       "      <th>s2</th>\n",
       "      <td>-13.884790</td>\n",
       "      <td>13.440080</td>\n",
       "      <td>-18.302744</td>\n",
       "    </tr>\n",
       "    <tr>\n",
       "      <th>s3</th>\n",
       "      <td>-124.649955</td>\n",
       "      <td>-35.542084</td>\n",
       "      <td>-141.660642</td>\n",
       "    </tr>\n",
       "    <tr>\n",
       "      <th>s4</th>\n",
       "      <td>106.212968</td>\n",
       "      <td>38.896129</td>\n",
       "      <td>115.862762</td>\n",
       "    </tr>\n",
       "    <tr>\n",
       "      <th>s5</th>\n",
       "      <td>221.068052</td>\n",
       "      <td>55.276214</td>\n",
       "      <td>432.505816</td>\n",
       "    </tr>\n",
       "    <tr>\n",
       "      <th>s6</th>\n",
       "      <td>101.202651</td>\n",
       "      <td>35.868345</td>\n",
       "      <td>69.579039</td>\n",
       "    </tr>\n",
       "  </tbody>\n",
       "</table>\n",
       "</div>"
      ],
      "text/plain": [
       "         alpha1    alpha10   alpha0.05\n",
       "age   31.293287  16.703159   -0.509655\n",
       "sex  -71.449580  -1.796452 -223.350550\n",
       "bmi  267.605153  61.026348  469.442823\n",
       "bp   197.364745  47.435152  348.377551\n",
       "s1    14.613106  18.491225 -146.949652\n",
       "s2   -13.884790  13.440080  -18.302744\n",
       "s3  -124.649955 -35.542084 -141.660642\n",
       "s4   106.212968  38.896129  115.862762\n",
       "s5   221.068052  55.276214  432.505816\n",
       "s6   101.202651  35.868345   69.579039"
      ]
     },
     "execution_count": 9,
     "metadata": {},
     "output_type": "execute_result"
    }
   ],
   "source": [
    "# 회귀 계수 (alpha 0.05)\n",
    "coef['alpha0.05'] = model.coef_\n",
    "coef"
   ]
  },
  {
   "cell_type": "markdown",
   "id": "c986f2ca",
   "metadata": {},
   "source": [
    "# 라쏘 회귀\n",
    "- 오버피팅 문제로 규제(regularization)를 적용한 모델\n",
    "- 규제 방식: L1 규제 (중요한 피처만 선택하는 특성)\n",
    "- L2에 비해 회귀 계수를 급격히 감소시켜 <U>중요하다고 생각하는 피처만 선택하고 나머지는 0으로</U> 만듦\n",
    "\n",
    "## [리마인드] 규제 방식 비교\n",
    "- 릿지 회귀 : L2 규제 방식\n",
    "- 라쏘 회귀 : L1 규제 방식 (중요한 피처만 선택하는 특성)"
   ]
  },
  {
   "cell_type": "code",
   "execution_count": 10,
   "id": "917a1b11",
   "metadata": {},
   "outputs": [
    {
     "data": {
      "text/plain": [
       "4179.146884323723"
      ]
     },
     "execution_count": 10,
     "metadata": {},
     "output_type": "execute_result"
    }
   ],
   "source": [
    "# 라쏘 회귀\n",
    "from sklearn.linear_model import Lasso\n",
    "model = Lasso(alpha=1)\n",
    "model.fit(X_train, y_train)\n",
    "pred = model.predict(X_test)\n",
    "mean_squared_error(y_test, pred)"
   ]
  },
  {
   "cell_type": "code",
   "execution_count": 11,
   "id": "7600e107",
   "metadata": {},
   "outputs": [
    {
     "data": {
      "text/html": [
       "<div>\n",
       "<style scoped>\n",
       "    .dataframe tbody tr th:only-of-type {\n",
       "        vertical-align: middle;\n",
       "    }\n",
       "\n",
       "    .dataframe tbody tr th {\n",
       "        vertical-align: top;\n",
       "    }\n",
       "\n",
       "    .dataframe thead th {\n",
       "        text-align: right;\n",
       "    }\n",
       "</style>\n",
       "<table border=\"1\" class=\"dataframe\">\n",
       "  <thead>\n",
       "    <tr style=\"text-align: right;\">\n",
       "      <th></th>\n",
       "      <th>alpha1</th>\n",
       "    </tr>\n",
       "  </thead>\n",
       "  <tbody>\n",
       "    <tr>\n",
       "      <th>age</th>\n",
       "      <td>0.000000</td>\n",
       "    </tr>\n",
       "    <tr>\n",
       "      <th>sex</th>\n",
       "      <td>-0.000000</td>\n",
       "    </tr>\n",
       "    <tr>\n",
       "      <th>bmi</th>\n",
       "      <td>343.588370</td>\n",
       "    </tr>\n",
       "    <tr>\n",
       "      <th>bp</th>\n",
       "      <td>46.375388</td>\n",
       "    </tr>\n",
       "    <tr>\n",
       "      <th>s1</th>\n",
       "      <td>0.000000</td>\n",
       "    </tr>\n",
       "    <tr>\n",
       "      <th>s2</th>\n",
       "      <td>0.000000</td>\n",
       "    </tr>\n",
       "    <tr>\n",
       "      <th>s3</th>\n",
       "      <td>-0.000000</td>\n",
       "    </tr>\n",
       "    <tr>\n",
       "      <th>s4</th>\n",
       "      <td>0.000000</td>\n",
       "    </tr>\n",
       "    <tr>\n",
       "      <th>s5</th>\n",
       "      <td>245.167660</td>\n",
       "    </tr>\n",
       "    <tr>\n",
       "      <th>s6</th>\n",
       "      <td>0.000000</td>\n",
       "    </tr>\n",
       "  </tbody>\n",
       "</table>\n",
       "</div>"
      ],
      "text/plain": [
       "         alpha1\n",
       "age    0.000000\n",
       "sex   -0.000000\n",
       "bmi  343.588370\n",
       "bp    46.375388\n",
       "s1     0.000000\n",
       "s2     0.000000\n",
       "s3    -0.000000\n",
       "s4     0.000000\n",
       "s5   245.167660\n",
       "s6     0.000000"
      ]
     },
     "execution_count": 11,
     "metadata": {},
     "output_type": "execute_result"
    }
   ],
   "source": [
    "# 회귀 계수\n",
    "coef = pd.DataFrame(data=model.coef_, index=X_train.columns, columns=['alpha1'])\n",
    "coef"
   ]
  },
  {
   "cell_type": "code",
   "execution_count": 12,
   "id": "3dc39e89",
   "metadata": {},
   "outputs": [
    {
     "data": {
      "text/plain": [
       "6398.637179448666"
      ]
     },
     "execution_count": 12,
     "metadata": {},
     "output_type": "execute_result"
    }
   ],
   "source": [
    "# 라쏘 회귀 (alpha=2)\n",
    "model = Lasso(alpha=2)\n",
    "model.fit(X_train, y_train)\n",
    "pred = model.predict(X_test)\n",
    "mean_squared_error(y_test, pred)"
   ]
  },
  {
   "cell_type": "code",
   "execution_count": 13,
   "id": "89e1ac95",
   "metadata": {},
   "outputs": [
    {
     "data": {
      "text/html": [
       "<div>\n",
       "<style scoped>\n",
       "    .dataframe tbody tr th:only-of-type {\n",
       "        vertical-align: middle;\n",
       "    }\n",
       "\n",
       "    .dataframe tbody tr th {\n",
       "        vertical-align: top;\n",
       "    }\n",
       "\n",
       "    .dataframe thead th {\n",
       "        text-align: right;\n",
       "    }\n",
       "</style>\n",
       "<table border=\"1\" class=\"dataframe\">\n",
       "  <thead>\n",
       "    <tr style=\"text-align: right;\">\n",
       "      <th></th>\n",
       "      <th>alpha1</th>\n",
       "      <th>alpha2</th>\n",
       "    </tr>\n",
       "  </thead>\n",
       "  <tbody>\n",
       "    <tr>\n",
       "      <th>age</th>\n",
       "      <td>0.000000</td>\n",
       "      <td>0.000000</td>\n",
       "    </tr>\n",
       "    <tr>\n",
       "      <th>sex</th>\n",
       "      <td>-0.000000</td>\n",
       "      <td>0.000000</td>\n",
       "    </tr>\n",
       "    <tr>\n",
       "      <th>bmi</th>\n",
       "      <td>343.588370</td>\n",
       "      <td>42.963888</td>\n",
       "    </tr>\n",
       "    <tr>\n",
       "      <th>bp</th>\n",
       "      <td>46.375388</td>\n",
       "      <td>0.000000</td>\n",
       "    </tr>\n",
       "    <tr>\n",
       "      <th>s1</th>\n",
       "      <td>0.000000</td>\n",
       "      <td>0.000000</td>\n",
       "    </tr>\n",
       "    <tr>\n",
       "      <th>s2</th>\n",
       "      <td>0.000000</td>\n",
       "      <td>0.000000</td>\n",
       "    </tr>\n",
       "    <tr>\n",
       "      <th>s3</th>\n",
       "      <td>-0.000000</td>\n",
       "      <td>-0.000000</td>\n",
       "    </tr>\n",
       "    <tr>\n",
       "      <th>s4</th>\n",
       "      <td>0.000000</td>\n",
       "      <td>0.000000</td>\n",
       "    </tr>\n",
       "    <tr>\n",
       "      <th>s5</th>\n",
       "      <td>245.167660</td>\n",
       "      <td>0.000000</td>\n",
       "    </tr>\n",
       "    <tr>\n",
       "      <th>s6</th>\n",
       "      <td>0.000000</td>\n",
       "      <td>0.000000</td>\n",
       "    </tr>\n",
       "  </tbody>\n",
       "</table>\n",
       "</div>"
      ],
      "text/plain": [
       "         alpha1     alpha2\n",
       "age    0.000000   0.000000\n",
       "sex   -0.000000   0.000000\n",
       "bmi  343.588370  42.963888\n",
       "bp    46.375388   0.000000\n",
       "s1     0.000000   0.000000\n",
       "s2     0.000000   0.000000\n",
       "s3    -0.000000  -0.000000\n",
       "s4     0.000000   0.000000\n",
       "s5   245.167660   0.000000\n",
       "s6     0.000000   0.000000"
      ]
     },
     "execution_count": 13,
     "metadata": {},
     "output_type": "execute_result"
    }
   ],
   "source": [
    "# 회귀 계수 (alpha=2)\n",
    "coef['alpha2'] = model.coef_\n",
    "coef"
   ]
  },
  {
   "cell_type": "code",
   "execution_count": 14,
   "id": "2182e408",
   "metadata": {},
   "outputs": [
    {
     "data": {
      "text/plain": [
       "2703.4553190372917"
      ]
     },
     "execution_count": 14,
     "metadata": {},
     "output_type": "execute_result"
    }
   ],
   "source": [
    "# 라쏘 회귀 (alpha=0.05)\n",
    "model = Lasso(alpha=0.05)\n",
    "model.fit(X_train, y_train)\n",
    "pred = model.predict(X_test)\n",
    "mean_squared_error(y_test, pred)"
   ]
  },
  {
   "cell_type": "code",
   "execution_count": 15,
   "id": "ab79cb1a",
   "metadata": {},
   "outputs": [
    {
     "data": {
      "text/html": [
       "<div>\n",
       "<style scoped>\n",
       "    .dataframe tbody tr th:only-of-type {\n",
       "        vertical-align: middle;\n",
       "    }\n",
       "\n",
       "    .dataframe tbody tr th {\n",
       "        vertical-align: top;\n",
       "    }\n",
       "\n",
       "    .dataframe thead th {\n",
       "        text-align: right;\n",
       "    }\n",
       "</style>\n",
       "<table border=\"1\" class=\"dataframe\">\n",
       "  <thead>\n",
       "    <tr style=\"text-align: right;\">\n",
       "      <th></th>\n",
       "      <th>alpha1</th>\n",
       "      <th>alpha2</th>\n",
       "      <th>alpha0.05</th>\n",
       "    </tr>\n",
       "  </thead>\n",
       "  <tbody>\n",
       "    <tr>\n",
       "      <th>age</th>\n",
       "      <td>0.000000</td>\n",
       "      <td>0.000000</td>\n",
       "      <td>-0.000000</td>\n",
       "    </tr>\n",
       "    <tr>\n",
       "      <th>sex</th>\n",
       "      <td>-0.000000</td>\n",
       "      <td>0.000000</td>\n",
       "      <td>-198.953867</td>\n",
       "    </tr>\n",
       "    <tr>\n",
       "      <th>bmi</th>\n",
       "      <td>343.588370</td>\n",
       "      <td>42.963888</td>\n",
       "      <td>487.192794</td>\n",
       "    </tr>\n",
       "    <tr>\n",
       "      <th>bp</th>\n",
       "      <td>46.375388</td>\n",
       "      <td>0.000000</td>\n",
       "      <td>340.499590</td>\n",
       "    </tr>\n",
       "    <tr>\n",
       "      <th>s1</th>\n",
       "      <td>0.000000</td>\n",
       "      <td>0.000000</td>\n",
       "      <td>-95.578630</td>\n",
       "    </tr>\n",
       "    <tr>\n",
       "      <th>s2</th>\n",
       "      <td>0.000000</td>\n",
       "      <td>0.000000</td>\n",
       "      <td>-0.000000</td>\n",
       "    </tr>\n",
       "    <tr>\n",
       "      <th>s3</th>\n",
       "      <td>-0.000000</td>\n",
       "      <td>-0.000000</td>\n",
       "      <td>-189.868586</td>\n",
       "    </tr>\n",
       "    <tr>\n",
       "      <th>s4</th>\n",
       "      <td>0.000000</td>\n",
       "      <td>0.000000</td>\n",
       "      <td>10.489156</td>\n",
       "    </tr>\n",
       "    <tr>\n",
       "      <th>s5</th>\n",
       "      <td>245.167660</td>\n",
       "      <td>0.000000</td>\n",
       "      <td>457.331482</td>\n",
       "    </tr>\n",
       "    <tr>\n",
       "      <th>s6</th>\n",
       "      <td>0.000000</td>\n",
       "      <td>0.000000</td>\n",
       "      <td>39.292945</td>\n",
       "    </tr>\n",
       "  </tbody>\n",
       "</table>\n",
       "</div>"
      ],
      "text/plain": [
       "         alpha1     alpha2   alpha0.05\n",
       "age    0.000000   0.000000   -0.000000\n",
       "sex   -0.000000   0.000000 -198.953867\n",
       "bmi  343.588370  42.963888  487.192794\n",
       "bp    46.375388   0.000000  340.499590\n",
       "s1     0.000000   0.000000  -95.578630\n",
       "s2     0.000000   0.000000   -0.000000\n",
       "s3    -0.000000  -0.000000 -189.868586\n",
       "s4     0.000000   0.000000   10.489156\n",
       "s5   245.167660   0.000000  457.331482\n",
       "s6     0.000000   0.000000   39.292945"
      ]
     },
     "execution_count": 15,
     "metadata": {},
     "output_type": "execute_result"
    }
   ],
   "source": [
    "# 회귀 계수 (alpha=0.05)\n",
    "coef['alpha0.05'] = model.coef_\n",
    "coef"
   ]
  },
  {
   "cell_type": "markdown",
   "id": "329a8638",
   "metadata": {},
   "source": [
    "# 엘라스틱넷 회귀\n",
    "\n",
    "- 오버피팅 문제로 규제(regularization)를 적용한 모델\n",
    "- 규제 방식: L2 규제와 L1 규제 (중요한 피처만 선택하는 특성) 결합\n",
    "- 시간이 상대적으로 오래 걸림\n",
    "\n",
    "\n",
    "### [리마인드] 규제방식 비교\n",
    "- 릿지 회귀 : L2 규제 방식\n",
    "- 라쏘 회귀 : L1 규제 방식 (중요한 피처만 선택하는 특성)\n",
    "- 엘라스틱넷 회귀 : L2+L1 규제 결합 방식"
   ]
  },
  {
   "cell_type": "code",
   "execution_count": 16,
   "id": "08f8099d",
   "metadata": {},
   "outputs": [
    {
     "data": {
      "text/plain": [
       "6539.270795233337"
      ]
     },
     "execution_count": 16,
     "metadata": {},
     "output_type": "execute_result"
    }
   ],
   "source": [
    "# 엘라스틱넷 회귀\n",
    "from sklearn.linear_model import ElasticNet\n",
    "model = ElasticNet(alpha=1)\n",
    "model.fit(X_train, y_train)\n",
    "pred = model.predict(X_test)\n",
    "mean_squared_error(y_test, pred)"
   ]
  },
  {
   "cell_type": "code",
   "execution_count": 17,
   "id": "6505bfe1",
   "metadata": {},
   "outputs": [
    {
     "data": {
      "text/plain": [
       "2675.6005929972935"
      ]
     },
     "execution_count": 17,
     "metadata": {},
     "output_type": "execute_result"
    }
   ],
   "source": [
    "# 엘라스틱넷 회귀\n",
    "from sklearn.linear_model import ElasticNet\n",
    "model = ElasticNet(alpha=0.0001, l1_ratio=0.6)\n",
    "model.fit(X_train, y_train)\n",
    "pred = model.predict(X_test)\n",
    "mean_squared_error(y_test, pred)"
   ]
  },
  {
   "cell_type": "markdown",
   "id": "be3f4ef4",
   "metadata": {},
   "source": [
    "# 랜덤포레스트 & XGBoost\n",
    "- 머신러닝에서 자주 사용되는 강력한 앙상블 기법\n",
    "\n",
    "\n",
    "### 1. 랜덤포레스트\n",
    "- 여러 개의 의사결정 트리로 구성\n",
    "- 각 나무는 데이터의 일부 샘플을 사용하여 독립적으로 학습&예측\n",
    "- 앙상블 방법 중 배깅(bagging) 방식\n",
    "- 부트스트랩 샘플링 (데이터셋 중복 허용)\n",
    "- 최종 예측은 모든 난무의 예측 결과를 종합하여 결정 (회귀: 평균 / 분류:다수결 투표)\n",
    "\n",
    "### 2. XGBoost\n",
    "- 트리 앙상블 중 성능이 좋은 알고리즘\n",
    "- eXtreme Gradient Boosting을 줄여서 XGBoost라고 한다.\n",
    "- 약한 학습기가 계속해서 업데이트를 하며 좋은 모델을 만들어 간다.\n",
    "- 각 단계에서 이전 모델의 오류를 보정하며 더 나은 모델 만들어감\n",
    "\n",
    "### 비교\n",
    "- 랜덤 포레스트는 여러 나무를 병렬로 학습시켜 예측을 종합, xgboost는 여러 나무를 순차적으로 학습하여 이전 모델의 오류 보정\n",
    "\n",
    "### [트리 생성 방식의 차이]\n",
    "- RF는 각 트리를 독립적으로 병렬로 생성, 각 트리 내 노드 분할은 순차적으로 이루어지기 때문에 트리가 깊어질수록 병렬 처리의 이점 줄어들 수 있음\n",
    "- XGB는 알고리즘 특성상 각 트리가 순차적으로 생성되지만, 각 트리의 노드 분할은 병렬로 처리 가능하여 특정 조건에서 더 빠르고 효율적임(+트리 생성 과정에서 불필요한 노드를 제거하는 '프루닝' 적용)\n",
    "- 작은 데이터셋에는 RF가 더 빠를 수 있음\n",
    "- 랜덤포레스트는 무작위성&앙상블 기법으로, xgboost는 정규화&세심한 모델 조정으로 과적합 방지"
   ]
  },
  {
   "cell_type": "code",
   "execution_count": 18,
   "id": "72328f63",
   "metadata": {},
   "outputs": [
    {
     "data": {
      "text/plain": [
       "3185.0381123595503"
      ]
     },
     "execution_count": 18,
     "metadata": {},
     "output_type": "execute_result"
    }
   ],
   "source": [
    "# 랜덤포레스트\n",
    "from sklearn.ensemble import RandomForestRegressor\n",
    "model = RandomForestRegressor()\n",
    "model.fit(X_train, y_train)\n",
    "pred = model.predict(X_test)\n",
    "mean_squared_error(y_test, pred)"
   ]
  },
  {
   "cell_type": "code",
   "execution_count": 19,
   "id": "382df6a5",
   "metadata": {},
   "outputs": [
    {
     "name": "stderr",
     "output_type": "stream",
     "text": [
      "/opt/conda/lib/python3.9/site-packages/pkg_resources/__init__.py:122: PkgResourcesDeprecationWarning: 0.996-ko-0.9.2 is an invalid version and will not be supported in a future release\n",
      "  warnings.warn(\n"
     ]
    },
    {
     "data": {
      "text/plain": [
       "4028.2455020344587"
      ]
     },
     "execution_count": 19,
     "metadata": {},
     "output_type": "execute_result"
    }
   ],
   "source": [
    "# Xgboost\n",
    "from xgboost import XGBRegressor\n",
    "model = XGBRegressor()\n",
    "model.fit(X_train, y_train)\n",
    "pred = model.predict(X_test)\n",
    "mean_squared_error(y_test, pred)"
   ]
  },
  {
   "cell_type": "markdown",
   "id": "9a0917e5",
   "metadata": {},
   "source": [
    "# 하이퍼파라미터 튜닝\n",
    "- 모델의 성능 향상을 위해 하이퍼파라미터 튜닝을 진행\n",
    "- 사이킷런의 model_selection에서 제공하는 GridSearchCV와 RandomizedSearchCV를 이용하여 최적화 가능\n",
    "\n",
    "### 1. GridSearchCV\n",
    "- grid search를 통해 모든 경우의 수 탐색하여 최적의 하이퍼파라미터를 찾음 (시간 오래 걸림)\n",
    "\n",
    "\n",
    "### 2. RandomizedSearchCV\n",
    "- RandomizedSearchCV 는 GridSearchCV와 달리 랜덤으로 N개의 조합만 탐색함\n",
    "- (시간 내 최적의 하이퍼파라미터 탐색)"
   ]
  },
  {
   "cell_type": "code",
   "execution_count": 20,
   "id": "0925353e",
   "metadata": {},
   "outputs": [],
   "source": [
    "# 라이브러리 불러오기\n",
    "from sklearn.model_selection import GridSearchCV, RandomizedSearchCV"
   ]
  },
  {
   "cell_type": "code",
   "execution_count": 21,
   "id": "89b5aefe",
   "metadata": {},
   "outputs": [],
   "source": [
    "# 하이퍼파라미터\n",
    "# 시간이 오래 걸려 learning_rate와 subsample는 주석 처리함\n",
    "params = {# 'learning_rate':[0.07, 0.05], \n",
    "        'max_depth':[3, 5, 7], \n",
    "        'n_estimators':[100, 200],\n",
    "        # 'subsample':[0.9, 0.8, 0.7]\n",
    "        }"
   ]
  },
  {
   "cell_type": "code",
   "execution_count": 22,
   "id": "0f7d5db6",
   "metadata": {},
   "outputs": [],
   "source": [
    "# 데이터셋 로드\n",
    "def make_dataset2():\n",
    "    dataset = load_diabetes()\n",
    "    df = pd.DataFrame(dataset.data, columns=dataset.feature_names)\n",
    "    df['target'] = dataset.target\n",
    "    return df.drop('target', axis=1), df['target']\n",
    "X, y = make_dataset2()"
   ]
  },
  {
   "cell_type": "code",
   "execution_count": 23,
   "id": "86935870",
   "metadata": {},
   "outputs": [
    {
     "name": "stderr",
     "output_type": "stream",
     "text": [
      "/opt/conda/lib/python3.9/site-packages/pkg_resources/__init__.py:122: PkgResourcesDeprecationWarning: 0.996-ko-0.9.2 is an invalid version and will not be supported in a future release\n",
      "  warnings.warn(\n",
      "/opt/conda/lib/python3.9/site-packages/pkg_resources/__init__.py:122: PkgResourcesDeprecationWarning: 0.996-ko-0.9.2 is an invalid version and will not be supported in a future release\n",
      "  warnings.warn(\n"
     ]
    },
    {
     "data": {
      "text/plain": [
       "GridSearchCV(cv=3,\n",
       "             estimator=XGBRegressor(base_score=None, booster=None,\n",
       "                                    colsample_bylevel=None,\n",
       "                                    colsample_bynode=None,\n",
       "                                    colsample_bytree=None, gamma=None,\n",
       "                                    gpu_id=None, importance_type='gain',\n",
       "                                    interaction_constraints=None,\n",
       "                                    learning_rate=None, max_delta_step=None,\n",
       "                                    max_depth=None, min_child_weight=None,\n",
       "                                    missing=nan, monotone_constraints=None,\n",
       "                                    n_estimators=100, n_jobs=None,\n",
       "                                    num_parallel_tree=None, random_state=None,\n",
       "                                    reg_alpha=None, reg_lambda=None,\n",
       "                                    scale_pos_weight=None, subsample=None,\n",
       "                                    tree_method=None, validate_parameters=None,\n",
       "                                    verbosity=None),\n",
       "             n_jobs=-1,\n",
       "             param_grid={'max_depth': [3, 5, 7], 'n_estimators': [100, 200]})"
      ]
     },
     "execution_count": 23,
     "metadata": {},
     "output_type": "execute_result"
    }
   ],
   "source": [
    "# GridSearchCV\n",
    "#  'max_depth':[3, 5, 7],  'n_estimators':[100, 200]만 적용 시 3분 내외\n",
    "xgb = XGBRegressor()\n",
    "grid = GridSearchCV(xgb, params, cv=3, n_jobs=-1)\n",
    "grid.fit(X, y)"
   ]
  },
  {
   "cell_type": "code",
   "execution_count": 24,
   "id": "f984ee7e",
   "metadata": {},
   "outputs": [
    {
     "data": {
      "text/plain": [
       "{'max_depth': 3, 'n_estimators': 100}"
      ]
     },
     "execution_count": 24,
     "metadata": {},
     "output_type": "execute_result"
    }
   ],
   "source": [
    "# 최적의 하이퍼파라미터를 찾음\n",
    "grid.best_params_"
   ]
  },
  {
   "cell_type": "code",
   "execution_count": 25,
   "id": "5e05cb56",
   "metadata": {},
   "outputs": [
    {
     "data": {
      "text/plain": [
       "3173.045180496539"
      ]
     },
     "execution_count": 25,
     "metadata": {},
     "output_type": "execute_result"
    }
   ],
   "source": [
    "# 하이퍼파라미터 튜닝\n",
    "xgb = XGBRegressor(\n",
    "    learning_rate = 0.05,\n",
    "    max_depth = 3,\n",
    "    n_estimators = 100,\n",
    "    subsample =0.7\n",
    ")\n",
    "xgb.fit(X_train, y_train)\n",
    "pred = xgb.predict(X_test)\n",
    "mean_squared_error(y_test, pred)"
   ]
  },
  {
   "cell_type": "code",
   "execution_count": 26,
   "id": "2a7056be",
   "metadata": {},
   "outputs": [
    {
     "name": "stderr",
     "output_type": "stream",
     "text": [
      "/opt/conda/lib/python3.9/site-packages/sklearn/model_selection/_search.py:292: UserWarning: The total space of parameters 6 is smaller than n_iter=10. Running 6 iterations. For exhaustive searches, use GridSearchCV.\n",
      "  warnings.warn(\n"
     ]
    },
    {
     "data": {
      "text/plain": [
       "RandomizedSearchCV(cv=3,\n",
       "                   estimator=XGBRegressor(base_score=None, booster=None,\n",
       "                                          colsample_bylevel=None,\n",
       "                                          colsample_bynode=None,\n",
       "                                          colsample_bytree=None, gamma=None,\n",
       "                                          gpu_id=None, importance_type='gain',\n",
       "                                          interaction_constraints=None,\n",
       "                                          learning_rate=None,\n",
       "                                          max_delta_step=None, max_depth=None,\n",
       "                                          min_child_weight=None, missing=nan,\n",
       "                                          monotone_constraints=None,\n",
       "                                          n_estimators=100, n_jobs=None,\n",
       "                                          num_parallel_tree=None,\n",
       "                                          random_state=None, reg_alpha=None,\n",
       "                                          reg_lambda=None,\n",
       "                                          scale_pos_weight=None, subsample=None,\n",
       "                                          tree_method=None,\n",
       "                                          validate_parameters=None,\n",
       "                                          verbosity=None),\n",
       "                   n_jobs=-1,\n",
       "                   param_distributions={'max_depth': [3, 5, 7],\n",
       "                                        'n_estimators': [100, 200]})"
      ]
     },
     "execution_count": 26,
     "metadata": {},
     "output_type": "execute_result"
    }
   ],
   "source": [
    "#  Randomized Search\n",
    "xgb = XGBRegressor()\n",
    "grid = RandomizedSearchCV(xgb, params, cv=3, n_iter=10, n_jobs=-1)\n",
    "grid.fit(X, y)"
   ]
  },
  {
   "cell_type": "code",
   "execution_count": 27,
   "id": "24f81ef6",
   "metadata": {},
   "outputs": [
    {
     "data": {
      "text/plain": [
       "{'n_estimators': 100, 'max_depth': 3}"
      ]
     },
     "execution_count": 27,
     "metadata": {},
     "output_type": "execute_result"
    }
   ],
   "source": [
    "# 최적의 하이퍼파라미터를 찾음\n",
    "grid.best_params_"
   ]
  },
  {
   "attachments": {
    "image.png": {
     "image/png": "[encoded data removed]"
    }
   },
   "cell_type": "markdown",
   "id": "6fdb0d05",
   "metadata": {},
   "source": [
    "# 회귀 평가 지표\n",
    "\n",
    "![image.png](attachment:image.png)"
   ]
  },
  {
   "cell_type": "code",
   "execution_count": 28,
   "id": "d5a598b2",
   "metadata": {},
   "outputs": [
    {
     "data": {
      "text/plain": [
       "47.57186281011346"
      ]
     },
     "execution_count": 28,
     "metadata": {},
     "output_type": "execute_result"
    }
   ],
   "source": [
    "# MAE\n",
    "from sklearn.metrics import mean_absolute_error\n",
    "mean_absolute_error(y_test, pred)"
   ]
  },
  {
   "cell_type": "code",
   "execution_count": 29,
   "id": "f63249a1",
   "metadata": {},
   "outputs": [
    {
     "data": {
      "text/plain": [
       "3173.045180496539"
      ]
     },
     "execution_count": 29,
     "metadata": {},
     "output_type": "execute_result"
    }
   ],
   "source": [
    "# MSE\n",
    "from sklearn.metrics import mean_squared_error\n",
    "mean_squared_error(y_test, pred)"
   ]
  },
  {
   "cell_type": "code",
   "execution_count": 30,
   "id": "82cee0b6",
   "metadata": {},
   "outputs": [
    {
     "data": {
      "text/plain": [
       "56.32978945901129"
      ]
     },
     "execution_count": 30,
     "metadata": {},
     "output_type": "execute_result"
    }
   ],
   "source": [
    "# RMSE\n",
    "import numpy as np\n",
    "np.sqrt(mean_squared_error(y_test, pred))"
   ]
  },
  {
   "cell_type": "code",
   "execution_count": 31,
   "id": "6ae67122",
   "metadata": {},
   "outputs": [
    {
     "data": {
      "text/plain": [
       "0.4359462312673838"
      ]
     },
     "execution_count": 31,
     "metadata": {},
     "output_type": "execute_result"
    }
   ],
   "source": [
    "# RMSLE\n",
    "from sklearn.metrics import mean_squared_log_error\n",
    "np.sqrt(mean_squared_log_error(y_test, pred))"
   ]
  },
  {
   "cell_type": "code",
   "execution_count": 32,
   "id": "455564a6",
   "metadata": {},
   "outputs": [
    {
     "data": {
      "text/plain": [
       "0.5153820583895429"
      ]
     },
     "execution_count": 32,
     "metadata": {},
     "output_type": "execute_result"
    }
   ],
   "source": [
    "# R2\n",
    "from sklearn.metrics import r2_score\n",
    "r2_score(y_test, pred)"
   ]
  },
  {
   "cell_type": "markdown",
   "id": "a9594cd5",
   "metadata": {},
   "source": [
    "# 이번 시간 정리\n",
    "\n",
    "1. 선형 회귀, 릿지, 라쏘, 엘라스틱넷\n",
    "- 회귀 모델과 규제\n",
    "\n",
    "2. 비용함수, 손실함수, 목적함수\n",
    "- 오차(error)를 줄이기 위한 함수\n",
    "\n",
    "3. 평가(회귀)\n",
    "- MAE, MSE, RMSE, RMSLE, R2\n"
   ]
  },
  {
   "cell_type": "code",
   "execution_count": null,
   "id": "e1463e37",
   "metadata": {},
   "outputs": [],
   "source": []
  }
 ],
 "metadata": {
  "kernelspec": {
   "display_name": "Python 3 (ipykernel)",
   "language": "python",
   "name": "python3"
  },
  "language_info": {
   "codemirror_mode": {
    "name": "ipython",
    "version": 3
   },
   "file_extension": ".py",
   "mimetype": "text/x-python",
   "name": "python",
   "nbconvert_exporter": "python",
   "pygments_lexer": "ipython3",
   "version": "3.9.7"
  }
 },
 "nbformat": 4,
 "nbformat_minor": 5
}
