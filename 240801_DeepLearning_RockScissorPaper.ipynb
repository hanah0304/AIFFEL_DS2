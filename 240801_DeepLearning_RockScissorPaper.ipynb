{
 "cells": [
  {
   "cell_type": "markdown",
   "id": "120cc5b6",
   "metadata": {},
   "source": [
    "# 미니프로젝트 : 가위바위보 분류기 만들기\n",
    "\n",
    "### 1. 데이터 수집 및 전처리\n",
    "- 사진 수집\n",
    "- 크기 조정\n",
    "\n",
    "### 2. 모델 선택\n",
    "- 딥러닝 네트워크 설계\n",
    "\n",
    "### 3. 학습 및 훈련\n",
    "\n",
    "### 4. 평가\n",
    "\n",
    "### 5. 성능 개선"
   ]
  },
  {
   "cell_type": "code",
   "execution_count": 1,
   "id": "75a0d3a4",
   "metadata": {},
   "outputs": [
    {
     "name": "stdout",
     "output_type": "stream",
     "text": [
      "2.6.0\n",
      "1.22.2\n"
     ]
    }
   ],
   "source": [
    "# 라이브러리 버전 확인\n",
    "import tensorflow as tf\n",
    "import numpy as np\n",
    "\n",
    "print(tf.__version__)\n",
    "print(np.__version__)"
   ]
  },
  {
   "cell_type": "code",
   "execution_count": 2,
   "id": "d45d4e5a",
   "metadata": {},
   "outputs": [],
   "source": [
    "# !mkdir -p ~/aiffel/rock_scissor_paper/scissor\n",
    "# !mkdir -p ~/aiffel/rock_scissor_paper/rock\n",
    "# !mkdir -p ~/aiffel/rock_scissor_paper/paper\n",
    "\n",
    "# !ls -l ~/aiffel/rock_scissor_paper"
   ]
  },
  {
   "cell_type": "markdown",
   "id": "71892d99",
   "metadata": {},
   "source": [
    "# 이미지 생성\n",
    "- https://teachablemachine.withgoogle.com/train/image\n",
    "- 위 사이트에서 가위/바위/보 이미지 100개씩 생성 후 업로드"
    "- 처음 이미지 300개로 테스트 결과 성능 저조하여 이후 이미지 3000개 가량 추가"
   ]
  },
  {
   "cell_type": "code",
   "execution_count": 3,
   "id": "99473a4e",
   "metadata": {},
   "outputs": [
    {
     "name": "stdout",
     "output_type": "stream",
     "text": [
      "PIL 라이브러리 import 완료!\n"
     ]
    }
   ],
   "source": [
    "from PIL import Image    # 파이썬 이미지 라이브러리 (이미지 크기 확인부터 열기, 회전, 잘라내기, 리사이즈, 저장 등 가능)\n",
    "import glob    # 파일 시스템 내에서 특정 패턴과 일치하는 모든 파일 경로 찾기 위한 유틸리티 제공 ()\n",
    "import os\n",
    "\n",
    "print(\"PIL 라이브러리 import 완료!\")"
   ]
  },
  {
   "cell_type": "code",
   "execution_count": 13,
   "id": "ffc62bfd",
   "metadata": {},
   "outputs": [],
   "source": [
    "# 이미지 리사이징 함수 정의\n",
    "def resize_images(img_path):\n",
    "\timages=glob.glob(img_path + \"/*.png\")  \n",
    "    \n",
    "\tprint(len(images), \" images to be resized.\")\n",
    "\n",
    "    # 파일 모두 28x28 사이즈로 바꾸어 저장.\n",
    "\ttarget_size=(28,28)\n",
    "\tfor img in images:\n",
    "\t\told_img=Image.open(img)\n",
    "\t\told_img = old_img.convert(\"RGB\")\n",
    "\t\tnew_img=old_img.resize(target_size,Image.ANTIALIAS)\n",
    "\t\tnew_img.save(img, \"JPEG\")\n",
    "    \n",
    "\tprint(len(images), \" images resized.\")"
   ]
  },
  {
   "cell_type": "code",
   "execution_count": 15,
   "id": "07f92848",
   "metadata": {},
   "outputs": [
    {
     "name": "stdout",
     "output_type": "stream",
     "text": [
      "1712  images to be resized.\n",
      "1712  images resized.\n",
      "가위 이미지 resize 완료!\n"
     ]
    }
   ],
   "source": [
    "# 가위 이미지가 저장된 디렉토리 아래의 모든 jpg 파일을 읽어들여서 28x28로 리사이징 후 저장\n",
    "image_dir_path = os.getenv(\"HOME\") + \"/aiffel/rock_scissor_paper/scissor\"\n",
    "resize_images(image_dir_path)\n",
    "\n",
    "print(\"가위 이미지 resize 완료!\")"
   ]
  },
  {
   "cell_type": "code",
   "execution_count": 16,
   "id": "5a30ac00",
   "metadata": {},
   "outputs": [
    {
     "name": "stdout",
     "output_type": "stream",
     "text": [
      "1690  images to be resized.\n",
      "1690  images resized.\n",
      "바위 이미지 resize 완료!\n"
     ]
    }
   ],
   "source": [
    "# 바위 이미지도 28x28로 바꾸어 저장\n",
    "image_dir_path = os.getenv(\"HOME\") + \"/aiffel/rock_scissor_paper/rock\"\n",
    "resize_images(image_dir_path)\n",
    "print(\"바위 이미지 resize 완료!\")"
   ]
  },
  {
   "cell_type": "code",
   "execution_count": 17,
   "id": "ba9f1296",
   "metadata": {},
   "outputs": [
    {
     "name": "stdout",
     "output_type": "stream",
     "text": [
      "1313  images to be resized.\n",
      "1313  images resized.\n",
      "보 이미지 resize 완료!\n"
     ]
    }
   ],
   "source": [
    "# 보 이미지도 28x28로 바꾸어 저장\n",
    "image_dir_path = os.getenv(\"HOME\") + \"/aiffel/rock_scissor_paper/paper\"\n",
    "resize_images(image_dir_path)\n",
    "print(\"보 이미지 resize 완료!\")"
   ]
  },
  {
   "cell_type": "code",
   "execution_count": 18,
   "id": "a4db2e56",
   "metadata": {},
   "outputs": [],
   "source": [
    "# 가위,바위,보 데이터를 읽을 수 있는 load_data 함수 정의\n",
    "\n",
    "import numpy as np\n",
    "\n",
    "def load_data(img_path, number_of_data=3000):  # 가위바위보 이미지 개수 총합에 주의하세요.\n",
    "    # 가위 : 0, 바위 : 1, 보 : 2\n",
    "    img_size=28\n",
    "    color=3\n",
    "    #이미지 데이터와 라벨(가위 : 0, 바위 : 1, 보 : 2) 데이터를 담을 행렬(matrix) 영역을 생성합니다.\n",
    "    imgs=np.zeros(number_of_data*img_size*img_size*color,dtype=np.int32).reshape(number_of_data,img_size,img_size,color)\n",
    "    labels=np.zeros(number_of_data,dtype=np.int32)\n",
    "\n",
    "    idx=0\n",
    "    for file in glob.iglob(img_path+'/scissor/*.jpg'):\n",
    "        img = np.array(Image.open(file),dtype=np.int32)\n",
    "        imgs[idx,:,:,:]=img    # 데이터 영역에 이미지 행렬을 복사\n",
    "        labels[idx]=0   # 가위 : 0\n",
    "        idx=idx+1\n",
    "\n",
    "    for file in glob.iglob(img_path+'/rock/*.jpg'):\n",
    "        img = np.array(Image.open(file),dtype=np.int32)\n",
    "        imgs[idx,:,:,:]=img    # 데이터 영역에 이미지 행렬을 복사\n",
    "        labels[idx]=1   # 바위 : 1\n",
    "        idx=idx+1  \n",
    "    \n",
    "    for file in glob.iglob(img_path+'/paper/*.jpg'):\n",
    "        img = np.array(Image.open(file),dtype=np.int32)\n",
    "        imgs[idx,:,:,:]=img    # 데이터 영역에 이미지 행렬을 복사\n",
    "        labels[idx]=2   # 보 : 2\n",
    "        idx=idx+1\n",
    "        \n",
    "    print(\"학습데이터(x_train)의 이미지 개수는\", idx,\"입니다.\")\n",
    "    return imgs, labels"
   ]
  },
  {
   "cell_type": "code",
   "execution_count": 19,
   "id": "9de2f0d5",
   "metadata": {},
   "outputs": [
    {
     "name": "stdout",
     "output_type": "stream",
     "text": [
      "학습데이터(x_train)의 이미지 개수는 300 입니다.\n"
     ]
    }
   ],
   "source": [
    "image_dir_path = os.getenv(\"HOME\") + \"/aiffel/rock_scissor_paper\"\n",
    "(x_train, y_train)=load_data(image_dir_path)"
   ]
  },
  {
   "cell_type": "code",
   "execution_count": 20,
   "id": "fcb2d88c",
   "metadata": {},
   "outputs": [
    {
     "name": "stdout",
     "output_type": "stream",
     "text": [
      "최소값: 0  최대값: 255\n"
     ]
    }
   ],
   "source": [
    "# 이미지 픽셀값 확인\n",
    "print('최소값:',np.min(x_train), ' 최대값:',np.max(x_train))"
   ]
  },
  {
   "cell_type": "code",
   "execution_count": 21,
   "id": "f3234663",
   "metadata": {},
   "outputs": [
    {
     "name": "stdout",
     "output_type": "stream",
     "text": [
      "x_train shape: (3000, 28, 28, 3)\n",
      "y_train shape: (3000,)\n"
     ]
    }
   ],
   "source": [
    "# 정규화\n",
    "x_train_norm = x_train/255.0   # 입력은 0~1 사이의 값으로 정규화\n",
    "\n",
    "print(\"x_train shape: {}\".format(x_train.shape))\n",
    "print(\"y_train shape: {}\".format(y_train.shape))"
   ]
  },
  {
   "cell_type": "code",
   "execution_count": 22,
   "id": "afa91f0c",
   "metadata": {},
   "outputs": [
    {
     "name": "stdout",
     "output_type": "stream",
     "text": [
      "라벨:  0\n"
     ]
    },
    {
     "data": {
      "image/png": "iVBORw0KGgoAAAANSUhEUgAAAPsAAAD4CAYAAAAq5pAIAAAAOXRFWHRTb2Z0d2FyZQBNYXRwbG90bGliIHZlcnNpb24zLjQuMywgaHR0cHM6Ly9tYXRwbG90bGliLm9yZy/MnkTPAAAACXBIWXMAAAsTAAALEwEAmpwYAAAYNklEQVR4nO3dXWycV5kH8P8zY489/rbz6aZpmpYEtQvbJDUB1C7bBS1bekFBaBG9gK6ENlyAFlZcLGIv6GW1WkBod4UUthVhxYeQANGLaqGbBQqCsknTkKRJ2iRNUuK4cRLHju3x2PPx7IWnyBSf/zEee8a75/+TLNvzzHnf43fex/PxvOccc3eIyP9/mWZ3QEQaQ8kukgglu0gilOwiiVCyiySipZE7y+fz3tvbu+z2ZrZ6bWNFCaujahFpGquI1Bevb9vR4xK5Q9mrwVgmk6VtK5UyjedybTTe2dFBovx8KBaLkW130jjqOFfjwsd8dHQUExMTi+68rmQ3swcBfAVAFsC/u/vj7P69vb342Mc+xrZH95fJhF+IZLP8xIltO5rLFj5pY6waSYjyHI2X5ni8XA4nRaVSoW1jCeVl3r5a5cflemkqGOvq7KFtx8fHaXzbrbfR+L33vi0Yyxo/9V869TKNDw3tpXF2rtYvfMw//fd/F4wtu0dmlgXwbwDeB+BuAI+Y2d3L3Z6IrK56/v3sBXDW3V9x9zkA3wHw8Mp0S0RWWj3JvgXAbxf8fql22+8xs31mdtjMDs/MzNSxOxGpx6p/Gu/u+919yN2H8vn8au9ORALqSfZhAFsX/H5r7TYRWYPqSfZDAHaY2XYzywH4CICnVqZbIrLSll16c/eymX0KwI8wX3p70t1fZG0ymQza2sK10Vi5gsVjbaNlvUjd1cFLULRtpHxl9dTw5zcQDMWOSzbL4+UML81ZpPTWmYvUo4lcCz89u7q6+L7z4Tp7LtdO27a383ihUKDxeq4niQs/3kZiddXZ3f1pAE/Xsw0RaQxdLiuSCCW7SCKU7CKJULKLJELJLpIIJbtIIho6nj2TyaCDjDFuZp09xsiwwtiY8FKpROOZSuR/bqQWzob3Roe4VnkdPVvhp0hs+8i2BkOlIj8u7FwBgJZIHf7atWvBWHs73zYy/HyJ/d2xvtUnfC6y81zP7CKJULKLJELJLpIIJbtIIpTsIolQsoskoqGlNzOjQwfrKb1FZ4+te2rf5ZfeLPJ3lSuRvseGobaGy2eZSInIyrz8BTJzLQAgsv02MjTYcvzvZsOhAaAwPU3jR44cCca6uvjMtrHSXFtkCGzsMa8LO2wkpmd2kUQo2UUSoWQXSYSSXSQRSnaRRCjZRRKhZBdJRMPr7K2t4SGP9aziWu8Q1/iyyHVMJR1bFjkTiceuIWDHJVZnz0auP4gM9bTI8Fwn1xBUY393xHSkzj48HF6zpL+fL8l8yy230jg7j4FVXsWVPiQa4iqSPCW7SCKU7CKJULKLJELJLpIIJbtIIpTsIolofJ09G95lPXX2aD247jo7iUVK1VlE6smVyL4jfxtYrTtSB6+W+L4zseMSOa4tZCx+eY5fAzA3N0fjMd3d3cFYf38/bRtbsrkae0xjjxkRXcF7mXMz1JXsZnYBwCSACoCyuw/Vsz0RWT0r8cz+F+4eno1fRNYEvWcXSUS9ye4Afmxmz5vZvsXuYGb7zOywmR2empqqc3cislz1voy/392HzWwjgGfM7LS7P7vwDu6+H8B+ANi2bVt9Ix9EZNnqemZ39+Ha91EAPwCwdyU6JSIrb9nJbmadZtb9+s8A3gvgxEp1TERWVj0v4zcB+EGtft0C4Fvu/p+sQb3j2Vk8Nrd6TKzOXiXjhOM1+lgdncdbYvPKs+MWqfdWyXz48/FYnZ2GkauGH5dqZF742LLIrZnwUtUAsG7dumBsYGCAtm1pzdF4zKqOZyfYqbDsZHf3VwDcs9z2ItJYKr2JJELJLpIIJbtIIpTsIolQsoskorFDXGHIZsPlktUc4hoTXXa5jrbVKi9vZTwyHXMdpb1MpHTGHg8gXv6KTuFN2ne052nb2HErVyPHhZQVY+dabN/ZHJ9KGnWWghleqdVU0iLJU7KLJELJLpIIJbtIIpTsIolQsoskQskukoiG1tlnZ2dx7ty5YHzb9ttp+1w2POywu6uLtp2YmODbzvEhjZOT4eWBe/p6I20naXzz5o00fv36dRovezkYmyvO0ra9vT00PjY7RuO5lsjSxaVwnb00y6eKjtXhp6YLNN7V2RmM1TOceimKs7HjTs6ZyHUV09Ph88nJdRV6ZhdJhJJdJBFKdpFEKNlFEqFkF0mEkl0kEUp2kUQ0tM5enC3izLmzwfjgllto+5aWcHfHxng9ODZuO1ZX7evrC8ZidfTbbt1K42fOvkTjsWmPWc/7u3kdfXz8Bo23R+ropVKJxtvIlMwZ52PlY9NUx8bSt5GpqnN5viQzMjw1rM6pomPzBDDLnaZaz+wiiVCyiyRCyS6SCCW7SCKU7CKJULKLJELJLpKIhtbZs9ksOskY43I5PC4b4POj0/HBiNcmL1++TOOdneGx1RvWr6dtCwU+7jpDK+XAun5eZ2fj3SfHxiP75mOnezrCjxcQv77ByN+WI8t3A0Apcj5kItdGsPMldq5Zlm+7WCzSeFsHH4s/Ww5fnxBZwTu6jHZwu7E7mNmTZjZqZicW3DZgZs+Y2Zna9/5l7V1EGmYpL+O/DuDBN9z2OQAH3X0HgIO130VkDYsmu7s/C+CNr9UeBnCg9vMBAB9Y2W6JyEpb7nv2Te4+Uvv5NQCbQnc0s30A9gGg79dFZHXV/Wm8z38KEvzEwN33u/uQuw/l8/xDCxFZPctN9itmNggAte+jK9clEVkNy032pwA8Wvv5UQA/XJnuiMhqib5nN7NvA3gAwHozuwTgCwAeB/BdM/s4gIsAPryUnVWqVUzPhGvO4zf53O4D69cFYzMzM7Ttc889R+MnTpyg8S5SZ3//+99P27ZFxoSv6+2j8fNnwnMAAEB3d3cwVpwKz3cPxOeNr8zy8eqtkeeL0ZGRYGxggF+fEFvjPHbtBBszXo2Mw+/Id9C4tfD5EdhYemB+DYWQcmTe+Ni1ESHRZHf3RwKh9yxrjyLSFLpcViQRSnaRRCjZRRKhZBdJhJJdJBGNX7L5/PlgfNOm4FW3AIA9e/YEY6Oj/Lqe06dP03jW+P89L4fLOD2dfLno9hwvw4xd433/6TMHafwde98ejO3cuZO2HR/jy0EXyFLVANBOpvcGgFfIEt2trfy4dHTz45rL8n1XSWmuGilvtbfzqaZjS3wjExkiOxcuvbVkImW99vC+2ZToemYXSYSSXSQRSnaRRCjZRRKhZBdJhJJdJBFKdpFENLTO3tGRxz333BOMX4pM5/zSS+GljTdv3kzbDg0N0XhsOufC1M1grFjgw2uHL7xK42z4LAD0dIWHsALAy+Qagh3b76BtSzN8SuTeyDUEsb99aiJ83Eqzc7TtbC5ciwYARJbhdvKYTs3xfXv2Go2XIqNMN2zYQONTU1PLbtvTSx4T1dlFRMkukgglu0gilOwiiVCyiyRCyS6SCCW7SCIaW2fPd2D37t3B+IEDB4IxAPjR5GQwdt8730nb9vTwKZNfeP4Ijedawv8Xv/PNb9G2rZEx33/+Z/fT+Nt2h8fxA8DPf/qzYOyFQ4dp2x133knjbS183PZ0KfyYAHy6ZzbVM8Br9ACQzfMx523kGoHYkss3Ji/R+Omz4XH6ANDVw6+NqFarwdiuPw1fiwIAG9aTJbzJOH09s4skQskukgglu0gilOwiiVCyiyRCyS6SCCW7SCIaWmefK83h1Uu/DcbZMrYAr40ODw/TtgN9/TR+OTKW/q/e8+5g7L8j49Uni/zvevXCBRrf+aYdNN7X2xuMXTzPt/22e++l8ZFL/LiiEq4XA3yegFLk8S6QudUBoDOypHPvunAdviNW4x+7QeNXrlyh8RMnX6TxfD48h8HG9Xw8+5t3vikYq3r48Yg+s5vZk2Y2amYnFtz2mJkNm9nR2tdDse2ISHMt5WX81wE8uMjtX3b3XbWvp1e2WyKy0qLJ7u7PAhhrQF9EZBXV8wHdp8zsWO1lfvANsZntM7PDZna4UCjUsTsRqcdyk/2rAO4EsAvACIAvhu7o7vvdfcjdhzo6Opa5OxGp17KS3d2vuHvF3asAvgZg78p2S0RW2rKS3cwGF/z6QQAnQvcVkbUhWmc3s28DeADAejO7BOALAB4ws10AHMAFAJ9Yys7MgRyZrnt9R7heDADd2fDbgFyR101zM2UaH4isFV68GR5bfdfdb6Ztf3noORov813j/NWLNN4+EN7ASy8fo21P/eYQjfe08Tntp29M0Pht5fB4985pvjb80ZfP0vifvCt87QMA3KyEx+KP3Yh8fnSTv+XsK5Ax5QCKk/wagWo5nHoHf8LnILh999uDsdlKeDx7NNnd/ZFFbn4i1k5E1hZdLiuSCCW7SCKU7CKJULKLJELJLpKIhg5xLRRm8Jtj4VJQqVSi7ceK4WGHlTJfgrf/rbysNzg4SOPDI+EhsFeu8uGOGzdupPHYcMnuLl4GKk1PB2P9/Xxo78XI8Np8tpXGr1/mffepcOmtbVNkSHNkiOv167x0V23rC8amyTEDgMLN8JLKADBJpjUH+FTRAB/OXWrlZeQbE+PBGJueW8/sIolQsoskQskukgglu0gilOwiiVCyiyRCyS6SiIbW2SvVKm5Oh+uX2++4g7bPVMM1xLnIdM0V8NplNTzjMQDgxInwkP18Tydt29PHa/yxaay3334bjWfJssixaajPnzpN4x3GT5FYrXvrhvDSxX39fJhoG5luGQCuXudTI862hJdsvj7K6+RzN/iSznOTvA5PHhIAQJUsrZzNZXnjTORkDTVbVisR+T9HyS6SCCW7SCKU7CKJULKLJELJLpIIJbtIIhpaZ69WK5gqhOubR48fpe0LU+Ha5m2DW2jbbbdvpfGt226l8eOnjgdjbW18Luh3v/sBGj9//jyNr+vtofHx0dFgLLYKz+wMryf3dvfR+NYt/LiXZ8eDsUqkXFwx/lw0PMyvT+icDe9g+ga/LqO9wlMj18Jr4TNzMzQ+R/72jha+7xkyFr5aDdfv9cwukgglu0gilOwiiVCyiyRCyS6SCCW7SCKU7CKJaGidva29HXe+eWcwfjUyf3pbe3gO81w+vDwvAJw5y5f/Xbeez69eJWPpY3OQv/DCCzReLPJad2mGLy88R64/sAKfT78yx5eyfu3yCI2jzOcJ6OwJP2ZTkTkIuiNz3t+Y5MetvSs8z0CuJTzOHgA2d6+n8b523v76GD+XCwgfd1vXztsWw+db1euYN97MtprZT8zspJm9aGafrt0+YGbPmNmZ2nf+yIhIUy3lZXwZwGfd/W4A7wDwSTO7G8DnABx09x0ADtZ+F5E1Kprs7j7i7kdqP08COAVgC4CHARyo3e0AgA+sUh9FZAX8Ue/Zzex2ALsB/BrAJnd//Q3dawA2BdrsA7APiF+nLSKrZ8mfxptZF4DvAfiMu99cGHN3B7DoFfjuvt/dh9x9qK2df/AgIqtnScluZq2YT/Rvuvv3azdfMbPBWnwQQHjolYg0XfRlvJkZgCcAnHL3Ly0IPQXgUQCP177/MLatfL4dd7/lrmC8bc89tH2lGC4jjV4epm0PHzpE45NTEzSeJ2Wc2NS+J0+epPHubj4V9SyZfhsAqoXwcMpMDy+S9HTxElKxdJPGp2d42bF7Y3g65zL4cRvcGplCm6/wjfb+Rd9ZAgBK0+GhoABwS2+4LQC0O3+eXL+Zl+7GZsPHdRy81PrqSPhcnyPLni/lPft9AD4K4LiZHa3d9nnMJ/l3zezjAC4C+PAStiUiTRJNdnf/BRD8F/yele2OiKwWXS4rkgglu0gilOwiiVCyiyRCyS6SiIYOcW3Pt+Out4br7Lks787EtfASvbdt5VMa796zi8Zj9eZsNjx18MTkOG1bIrVPAKhWI8NMX71E47/62c+CsSky/BUAIosD447t22k838KHFk+2hoexViKPd2cvX+q6u8Kfqyq58BTfc5N8qufJIq91X7k+TuO5XORcLoUfl9dmb9C2o+fC+54i12TomV0kEUp2kUQo2UUSoWQXSYSSXSQRSnaRRCjZRRLR0Dq7O1CuhKe6bW3l3Zkth8ezb+gfoG3zrbwefOkSr2W3tYWnRO7s5OPRJ8ky1QDQm+c1/pbIuO8WssTvzBSvJ1+7yOcBaN1SpfGBbl4L33nfnmBstMj7hvUbaDhy+QIKHn7MC5Hx7GgJP94AMD3Dp8G+eOkijRez4WsrblT5tRHD46+Fg3PhHNEzu0gilOwiiVCyiyRCyS6SCCW7SCKU7CKJULKLJKKhdXbLGHLt4drn/MIyYZs3bw7Gss7rwRWylC0ADA7yecKr1fD2K+DbXpdfR+PZSB29s42vpPOhD/11MPbEv/wrbRsba8/mIQeACxcu0Pi5mfAcBINv2kHb9vfxuddzHT00PnotvBbA6NWrtO1Ll07R+Ow4X2cgY/ycmLZwnb6Q48ts57vD12UUybwLemYXSYSSXSQRSnaRRCjZRRKhZBdJhJJdJBFKdpFELGV99q0AvgFgEwAHsN/dv2JmjwH4WwCvFyw/7+5Ps21lMoaOfHgub4sNMSb16BbntWoeBVDhc7ezawAq4B2PXT9QLBZp/JaNG2n8rjvD9eozx47Ttv/z05/TeKwOn43MQTAxHR6zfn2Cj/OfG71G45OtfNz35WvhNdCvXA/X/wGgOMX7Vi7y8ewtGX4+FS1cSy86r7OX2bbJ9SBLuaimDOCz7n7EzLoBPG9mz9RiX3b3f17CNkSkyZayPvsIgJHaz5NmdgoAX35FRNacP+o9u5ndDmA3gF/XbvqUmR0zsyfNrD/QZp+ZHTazwzfHwy+rRGR1LTnZzawLwPcAfMbdbwL4KoA7AezC/DP/Fxdr5+773X3I3Yd6+vi1zCKyepaU7GbWivlE/6a7fx8A3P2Ku1fcvQrgawD2rl43RaRe0WQ3MwPwBIBT7v6lBbcPLrjbBwGcWPnuichKWcqn8fcB+CiA42Z2tHbb5wE8Yma7MF+OuwDgE7ENVcpljI2FyykZ4wWyVvK/KTrdcqQ0FyuP1VN6y7WHy40AMDnJyzxjkWmN2yw8rHGywKdrnoiUmLyVD6/tiC3ZPB0uI1nkM5zJETJlMoCxyOk7TEpvE9d42Q6k3wDQWuJDWMtZPuR61sOluzIic2RnyblMztOlfBr/CyxepqY1dRFZW3QFnUgilOwiiVCyiyRCyS6SCCW7SCKU7CKJaOhU0qVSCSOXw0sjx6ZUbjVWZ+f/t1oy9f1fY3V2XlEF8p1dNB4bRjp8+TKNnzl5Ohj75XO/om3Hrt+g8d5bttJ4YY73vUyOzkykrU8XaPxGpBw9fjN8DUGxwIcVt5b5tROtkfMpdt1GpHHkDtEB24vSM7tIIpTsIolQsoskQskukgglu0gilOwiiVCyiyTC6qoH/rE7M7sK4OKCm9YD4PMFN89a7dta7Regvi3XSvZtm7tvWCzQ0GT/g52bHXb3oaZ1gFirfVur/QLUt+VqVN/0Ml4kEUp2kUQ0O9n3N3n/zFrt21rtF6C+LVdD+tbU9+wi0jjNfmYXkQZRsoskoinJbmYPmtlLZnbWzD7XjD6EmNkFMztuZkfN7HCT+/KkmY2a2YkFtw2Y2TNmdqb2fdE19prUt8fMbLh27I6a2UNN6ttWM/uJmZ00sxfN7NO125t67Ei/GnLcGv6e3cyyAF4G8JcALgE4BOARdz/Z0I4EmNkFAEPu3vQLMMzsXQCmAHzD3d9Su+2fAIy5++O1f5T97v4Pa6RvjwGYavYy3rXVigYXLjMO4AMA/gZNPHakXx9GA45bM57Z9wI46+6vuPscgO8AeLgJ/Vjz3P1ZAGNvuPlhAAdqPx/A/MnScIG+rQnuPuLuR2o/TwJ4fZnxph470q+GaEaybwHw2wW/X8LaWu/dAfzYzJ43s33N7swiNrn7SO3n1wBsamZnFhFdxruR3rDM+Jo5dstZ/rxe+oDuD93v7nsAvA/AJ2svV9ckn38PtpZqp0taxrtRFllm/HeaeeyWu/x5vZqR7MMAFs5ieGvttjXB3Ydr30cB/ABrbynqK6+voFv7Ptrk/vzOWlrGe7FlxrEGjl0zlz9vRrIfArDDzLabWQ7ARwA81YR+/AEz66x9cAIz6wTwXqy9paifAvBo7edHAfywiX35PWtlGe/QMuNo8rFr+vLn7t7wLwAPYf4T+XMA/rEZfQj06w4Av6l9vdjsvgH4NuZf1pUw/9nGxwGsA3AQwBkA/wVgYA317T8AHAdwDPOJNdikvt2P+ZfoxwAcrX091OxjR/rVkOOmy2VFEqEP6EQSoWQXSYSSXSQRSnaRRCjZRRKhZBdJhJJdJBH/C0PWza0Hw8j/AAAAAElFTkSuQmCC\n",
      "text/plain": [
       "<Figure size 432x288 with 1 Axes>"
      ]
     },
     "metadata": {
      "needs_background": "light"
     },
     "output_type": "display_data"
    }
   ],
   "source": [
    "# 이미지 불러와보기\n",
    "import matplotlib.pyplot as plt\n",
    "\n",
    "plt.imshow(x_train[0])\n",
    "print('라벨: ', y_train[0])"
   ]
  },
  {
   "cell_type": "markdown",
   "id": "ae37ec6b",
   "metadata": {},
   "source": [
    "# 딥러닝 네트워크 설계하기"
   ]
  },
  {
   "cell_type": "code",
   "execution_count": 23,
   "id": "7e4cf428",
   "metadata": {},
   "outputs": [
    {
     "name": "stdout",
     "output_type": "stream",
     "text": [
      "Model: \"sequential\"\n",
      "_________________________________________________________________\n",
      "Layer (type)                 Output Shape              Param #   \n",
      "=================================================================\n",
      "conv2d (Conv2D)              (None, 26, 26, 16)        448       \n",
      "_________________________________________________________________\n",
      "max_pooling2d (MaxPooling2D) (None, 13, 13, 16)        0         \n",
      "_________________________________________________________________\n",
      "conv2d_1 (Conv2D)            (None, 11, 11, 32)        4640      \n",
      "_________________________________________________________________\n",
      "max_pooling2d_1 (MaxPooling2 (None, 5, 5, 32)          0         \n",
      "_________________________________________________________________\n",
      "flatten (Flatten)            (None, 800)               0         \n",
      "_________________________________________________________________\n",
      "dense (Dense)                (None, 32)                25632     \n",
      "_________________________________________________________________\n",
      "dense_1 (Dense)              (None, 3)                 99        \n",
      "=================================================================\n",
      "Total params: 30,819\n",
      "Trainable params: 30,819\n",
      "Non-trainable params: 0\n",
      "_________________________________________________________________\n"
     ]
    }
   ],
   "source": [
    "import tensorflow as tf\n",
    "from tensorflow import keras\n",
    "import numpy as np\n",
    "\n",
    "n_channel_1=16\n",
    "n_channel_2=32\n",
    "n_dense=32\n",
    "n_train_epoch=10\n",
    "\n",
    "model=keras.models.Sequential()\n",
    "model.add(keras.layers.Conv2D(n_channel_1, (3,3), activation='relu', input_shape=(28,28,3)))\n",
    "model.add(keras.layers.MaxPool2D(2,2))\n",
    "model.add(keras.layers.Conv2D(n_channel_2, (3,3), activation='relu'))\n",
    "model.add(keras.layers.MaxPooling2D((2,2)))\n",
    "model.add(keras.layers.Flatten())\n",
    "model.add(keras.layers.Dense(n_dense, activation='relu'))\n",
    "model.add(keras.layers.Dense(3, activation='softmax'))\n",
    "\n",
    "model.summary()"
   ]
  },
  {
   "cell_type": "markdown",
   "id": "c15ea29e",
   "metadata": {},
   "source": [
    "# 모델 학습 및 훈련"
   ]
  },
  {
   "cell_type": "code",
   "execution_count": 14,
   "id": "f63ed661",
   "metadata": {},
   "outputs": [
    {
     "name": "stdout",
     "output_type": "stream",
     "text": [
      "Epoch 1/10\n",
      "10/10 [==============================] - 1s 21ms/step - loss: 25.3643 - accuracy: 0.3567\n",
      "Epoch 2/10\n",
      "10/10 [==============================] - 0s 22ms/step - loss: 5.3680 - accuracy: 0.3667\n",
      "Epoch 3/10\n",
      "10/10 [==============================] - 0s 21ms/step - loss: 1.7295 - accuracy: 0.5933\n",
      "Epoch 4/10\n",
      "10/10 [==============================] - 0s 22ms/step - loss: 0.7537 - accuracy: 0.7467\n",
      "Epoch 5/10\n",
      "10/10 [==============================] - 0s 22ms/step - loss: 0.6880 - accuracy: 0.7533\n",
      "Epoch 6/10\n",
      "10/10 [==============================] - 0s 21ms/step - loss: 0.5123 - accuracy: 0.8133\n",
      "Epoch 7/10\n",
      "10/10 [==============================] - 0s 19ms/step - loss: 0.2756 - accuracy: 0.8933\n",
      "Epoch 8/10\n",
      "10/10 [==============================] - 0s 23ms/step - loss: 0.2027 - accuracy: 0.9333\n",
      "Epoch 9/10\n",
      "10/10 [==============================] - 0s 21ms/step - loss: 0.1242 - accuracy: 0.9667\n",
      "Epoch 10/10\n",
      "10/10 [==============================] - 0s 20ms/step - loss: 0.0885 - accuracy: 0.9800\n"
     ]
    },
    {
     "data": {
      "text/plain": [
       "<keras.callbacks.History at 0x7bc2dc5f74f0>"
      ]
     },
     "execution_count": 14,
     "metadata": {},
     "output_type": "execute_result"
    }
   ],
   "source": [
    "# 학습_Ver.1\n",
    "model.compile(optimizer='adam',\n",
    "             loss='sparse_categorical_crossentropy',\n",
    "             metrics=['accuracy'])\n",
    "\n",
    "# 모델 훈련\n",
    "model.fit(x_train, y_train, epochs=n_train_epoch)"
   ]
  },
  {
   "cell_type": "code",
   "execution_count": 24,
   "id": "da13b4b6",
   "metadata": {},
   "outputs": [
    {
     "name": "stdout",
     "output_type": "stream",
     "text": [
      "Epoch 1/10\n",
      "94/94 [==============================] - 2s 19ms/step - loss: 0.7087 - accuracy: 0.9477\n",
      "Epoch 2/10\n",
      "94/94 [==============================] - 2s 19ms/step - loss: 0.1082 - accuracy: 0.9777\n",
      "Epoch 3/10\n",
      "94/94 [==============================] - 2s 20ms/step - loss: 0.0218 - accuracy: 0.9937\n",
      "Epoch 4/10\n",
      "94/94 [==============================] - 2s 24ms/step - loss: 0.0030 - accuracy: 0.9993\n",
      "Epoch 5/10\n",
      "94/94 [==============================] - 2s 20ms/step - loss: 0.0011 - accuracy: 1.0000\n",
      "Epoch 6/10\n",
      "94/94 [==============================] - 2s 19ms/step - loss: 5.1272e-04 - accuracy: 1.0000\n",
      "Epoch 7/10\n",
      "94/94 [==============================] - 2s 19ms/step - loss: 4.4878e-04 - accuracy: 1.0000\n",
      "Epoch 8/10\n",
      "94/94 [==============================] - 2s 19ms/step - loss: 2.8114e-04 - accuracy: 1.0000\n",
      "Epoch 9/10\n",
      "94/94 [==============================] - 2s 19ms/step - loss: 2.2804e-04 - accuracy: 1.0000\n",
      "Epoch 10/10\n",
      "94/94 [==============================] - 2s 19ms/step - loss: 1.9522e-04 - accuracy: 1.0000\n"
     ]
    },
    {
     "data": {
      "text/plain": [
       "<keras.callbacks.History at 0x7edeb9115dc0>"
      ]
     },
     "execution_count": 24,
     "metadata": {},
     "output_type": "execute_result"
    }
   ],
   "source": [
    "# 학습_Ver.2 - 이미지 왕창 추가\n",
    "model.compile(optimizer='adam',\n",
    "             loss='sparse_categorical_crossentropy',\n",
    "             metrics=['accuracy'])\n",
    "\n",
    "# 모델 훈련\n",
    "model.fit(x_train, y_train, epochs=n_train_epoch)"
   ]
  },
  {
   "cell_type": "markdown",
   "id": "4290b28a",
   "metadata": {},
   "source": [
    "# 평가 - 테스트 데이터로 성능 확인"
   ]
  },
  {
   "cell_type": "code",
   "execution_count": null,
   "id": "c395bd31",
   "metadata": {},
   "outputs": [],
   "source": [
    "# 추가 test용 이미지 업로드\n",
    "# !mkdir -p ~/aiffel/rock_scissor_paper/test"
   ]
  },
  {
   "cell_type": "code",
   "execution_count": 15,
   "id": "fd4eeb46",
   "metadata": {},
   "outputs": [
    {
     "name": "stdout",
     "output_type": "stream",
     "text": [
      "100  images to be resized.\n",
      "100  images resized.\n",
      "100  images to be resized.\n",
      "100  images resized.\n",
      "100  images to be resized.\n",
      "100  images resized.\n"
     ]
    }
   ],
   "source": [
    "# x_test, y_test 생성\n",
    "# image_dir_path = os.getenv(\"HOME\") + \"/aiffel/rock_scissor_paper/test/scissor\"\n",
    "# resize_images(image_dir_path)\n",
    "\n",
    "# image_dir_path = os.getenv(\"HOME\") + \"/aiffel/rock_scissor_paper/test/rock\"\n",
    "# resize_images(image_dir_path)\n",
    "\n",
    "# image_dir_path = os.getenv(\"HOME\") + \"/aiffel/rock_scissor_paper/test/paper\"\n",
    "# resize_images(image_dir_path)"
   ]
  },
  {
   "cell_type": "code",
   "execution_count": 25,
   "id": "716440ed",
   "metadata": {},
   "outputs": [
    {
     "name": "stdout",
     "output_type": "stream",
     "text": [
      "학습데이터(x_train)의 이미지 개수는 300 입니다.\n",
      "(3000, 28, 28, 3)\n"
     ]
    }
   ],
   "source": [
    "image_dir_path = os.getenv(\"HOME\") + \"/aiffel/rock_scissor_paper/test\"\n",
    "(x_test, y_test)=load_data(image_dir_path)\n",
    "\n",
    "print(x_test.shape)"
   ]
  },
  {
   "cell_type": "code",
   "execution_count": 26,
   "id": "bb41e0d9",
   "metadata": {},
   "outputs": [
    {
     "name": "stdout",
     "output_type": "stream",
     "text": [
      "최소값: 0  최대값: 249\n"
     ]
    }
   ],
   "source": [
    "print('최소값:',np.min(x_test), ' 최대값:',np.max(x_test))"
   ]
  },
  {
   "cell_type": "code",
   "execution_count": 27,
   "id": "99ca9386",
   "metadata": {},
   "outputs": [
    {
     "name": "stdout",
     "output_type": "stream",
     "text": [
      "x_test shape: (3000, 28, 28, 3)\n",
      "y_test shape: (3000,)\n"
     ]
    }
   ],
   "source": [
    "x_test_norm = x_test/255.0   # 입력은 0~1 사이의 값으로 정규화\n",
    "print(\"x_test shape: {}\".format(x_test.shape))\n",
    "print(\"y_test shape: {}\".format(y_test.shape))"
   ]
  },
  {
   "cell_type": "code",
   "execution_count": 26,
   "id": "e4269c93",
   "metadata": {},
   "outputs": [
    {
     "name": "stdout",
     "output_type": "stream",
     "text": [
      "10/10 - 0s - loss: 2.3153 - accuracy: 0.4833\n",
      "test_loss: 2.315256357192993 \n",
      "test_accuracy: 0.4833333194255829\n"
     ]
    }
   ],
   "source": [
    "# 모델 학습(1)\n",
    "test_loss, test_accuracy = model.evaluate(x_test, y_test, verbose=2)\n",
    "print(\"test_loss: {} \".format(test_loss))\n",
    "print(\"test_accuracy: {}\".format(test_accuracy))"
   ]
  },
  {
   "cell_type": "code",
   "execution_count": 27,
   "id": "07ae0757",
   "metadata": {},
   "outputs": [
    {
     "name": "stdout",
     "output_type": "stream",
     "text": [
      "10/10 - 0s - loss: 1.0950 - accuracy: 0.3800\n",
      "test_loss: 1.0950102806091309 \n",
      "test_accuracy: 0.3799999952316284\n"
     ]
    }
   ],
   "source": [
    "# 모델 학습(2) - 정규화\n",
    "test_loss, test_accuracy = model.evaluate(x_test_norm, y_test, verbose=2)\n",
    "print(\"test_loss: {} \".format(test_loss))\n",
    "print(\"test_accuracy: {}\".format(test_accuracy))"
   ]
  },
  {
   "cell_type": "code",
   "execution_count": 28,
   "id": "01a6998e",
   "metadata": {},
   "outputs": [
    {
     "name": "stdout",
     "output_type": "stream",
     "text": [
      "94/94 - 1s - loss: 0.5613 - accuracy: 0.9430\n",
      "test_loss: 0.5613322257995605 \n",
      "test_accuracy: 0.9430000185966492\n"
     ]
    }
   ],
   "source": [
    "# 모델 학습(3) - 이미지 개수 왕창 추가\n",
    "test_loss, test_accuracy = model.evaluate(x_test, y_test, verbose=2)\n",
    "print(\"test_loss: {} \".format(test_loss))\n",
    "print(\"test_accuracy: {}\".format(test_accuracy))"
   ]
  },
  {
   "cell_type": "markdown",
   "id": "94065569",
   "metadata": {},
   "source": [
    "# 어떤 데이터 잘 못 추론했는지 확인"
   ]
  },
  {
   "cell_type": "code",
   "execution_count": 22,
   "id": "9d981625",
   "metadata": {},
   "outputs": [
    {
     "name": "stdout",
     "output_type": "stream",
     "text": [
      "model.predict() 결과 :  [7.5741002e-04 6.4418174e-02 9.3482447e-01]\n",
      "model이 추론한 가장 가능성이 높은 결과 :  2\n",
      "실제 데이터의 라벨 :  0\n"
     ]
    }
   ],
   "source": [
    "predicted_result = model.predict(x_test)  # model이 추론한 확률값. \n",
    "predicted_labels = np.argmax(predicted_result, axis=1)\n",
    "\n",
    "idx=0  #1번째 x_test를 살펴보자. \n",
    "print('model.predict() 결과 : ', predicted_result[idx])\n",
    "print('model이 추론한 가장 가능성이 높은 결과 : ', predicted_labels[idx])\n",
    "print('실제 데이터의 라벨 : ', y_test[idx])"
   ]
  },
  {
   "cell_type": "code",
   "execution_count": 23,
   "id": "97e7ecde",
   "metadata": {},
   "outputs": [
    {
     "data": {
      "image/png": "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\n",
      "text/plain": [
       "<Figure size 432x288 with 1 Axes>"
      ]
     },
     "metadata": {
      "needs_background": "light"
     },
     "output_type": "display_data"
    }
   ],
   "source": [
    "# 확인\n",
    "plt.imshow(x_test[idx],cmap=plt.cm.binary)\n",
    "plt.show()"
   ]
  },
  {
   "cell_type": "code",
   "execution_count": 24,
   "id": "451f551b",
   "metadata": {
    "scrolled": true
   },
   "outputs": [
    {
     "name": "stdout",
     "output_type": "stream",
     "text": [
      "예측확률분포: [0.04921238 0.65689015 0.29389745]\n",
      "라벨: 0, 예측결과: 1\n"
     ]
    },
    {
     "data": {
      "image/png": "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\n",
      "text/plain": [
       "<Figure size 432x288 with 1 Axes>"
      ]
     },
     "metadata": {
      "needs_background": "light"
     },
     "output_type": "display_data"
    },
    {
     "name": "stdout",
     "output_type": "stream",
     "text": [
      "예측확률분포: [0.01425644 0.08029395 0.9054496 ]\n",
      "라벨: 0, 예측결과: 2\n"
     ]
    },
    {
     "data": {
      "image/png": "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\n",
      "text/plain": [
       "<Figure size 432x288 with 1 Axes>"
      ]
     },
     "metadata": {
      "needs_background": "light"
     },
     "output_type": "display_data"
    },
    {
     "name": "stdout",
     "output_type": "stream",
     "text": [
      "예측확률분포: [9.9992967e-01 3.0928200e-05 3.9405615e-05]\n",
      "라벨: 1, 예측결과: 0\n"
     ]
    },
    {
     "data": {
      "image/png": "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\n",
      "text/plain": [
       "<Figure size 432x288 with 1 Axes>"
      ]
     },
     "metadata": {
      "needs_background": "light"
     },
     "output_type": "display_data"
    },
    {
     "name": "stdout",
     "output_type": "stream",
     "text": [
      "예측확률분포: [0.0010132  0.01092814 0.9880586 ]\n",
      "라벨: 1, 예측결과: 2\n"
     ]
    },
    {
     "data": {
      "image/png": "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\n",
      "text/plain": [
       "<Figure size 432x288 with 1 Axes>"
      ]
     },
     "metadata": {
      "needs_background": "light"
     },
     "output_type": "display_data"
    },
    {
     "name": "stdout",
     "output_type": "stream",
     "text": [
      "예측확률분포: [3.3402486e-07 4.3780590e-05 9.9995589e-01]\n",
      "라벨: 0, 예측결과: 2\n"
     ]
    },
    {
     "data": {
      "image/png": "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\n",
      "text/plain": [
       "<Figure size 432x288 with 1 Axes>"
      ]
     },
     "metadata": {
      "needs_background": "light"
     },
     "output_type": "display_data"
    }
   ],
   "source": [
    "# 모델이 추론한 숫자와 실제 라벨 값이 다른 경우는 언제인지 추가 확인\n",
    "import random\n",
    "wrong_predict_list=[]\n",
    "for i, _ in enumerate(predicted_labels):\n",
    "    # i번째 test_labels과 y_test이 다른 경우만 모아 봅시다. \n",
    "    if predicted_labels[i] != y_test[i]:\n",
    "        wrong_predict_list.append(i)\n",
    "\n",
    "# wrong_predict_list 에서 랜덤하게 5개만 뽑아봅시다.\n",
    "samples = random.choices(population=wrong_predict_list, k=5)\n",
    "\n",
    "for n in samples:\n",
    "    print(\"예측확률분포: \" + str(predicted_result[n]))\n",
    "    print(\"라벨: \" + str(y_test[n]) + \", 예측결과: \" + str(predicted_labels[n]))\n",
    "    plt.imshow(x_test[n], cmap=plt.cm.binary)\n",
    "    plt.show()"
   ]
  },
  {
   "cell_type": "markdown",
   "id": "681c8734",
   "metadata": {},
   "source": [
    "# 파라미터 조정하여 성능 개선 시도"
   ]
  },
  {
   "cell_type": "code",
   "execution_count": null,
   "id": "d51b648a",
   "metadata": {},
   "outputs": [],
   "source": [
    "# 바꿔 볼 수 있는 하이퍼파라미터들\n",
    "n_channel_1=32\n",
    "n_channel_2=64\n",
    "n_dense=32\n",
    "n_train_epoch=20\n",
    "\n",
    "model=keras.models.Sequential()\n",
    "model.add(keras.layers.Conv2D(n_channel_1, (3,3), activation='relu', input_shape=(28,28,1)))\n",
    "model.add(keras.layers.MaxPool2D(2,2))\n",
    "model.add(keras.layers.Conv2D(n_channel_2, (3,3), activation='relu'))\n",
    "model.add(keras.layers.MaxPooling2D((2,2)))\n",
    "model.add(keras.layers.Flatten())\n",
    "model.add(keras.layers.Dense(n_dense, activation='relu'))\n",
    "model.add(keras.layers.Dense(10, activation='softmax'))\n",
    "\n",
    "model.summary()\n",
    "model.compile(optimizer='adam',\n",
    "             loss='sparse_categorical_crossentropy',\n",
    "             metrics=['accuracy'])\n",
    "\n",
    "# 모델 훈련\n",
    "model.fit(x_train_reshaped, y_train, epochs=n_train_epoch)\n",
    "\n",
    "# 모델 시험\n",
    "test_loss, test_accuracy = model.evaluate(x_test_reshaped, y_test, verbose=2)\n",
    "print(f\"test_loss: {test_loss} \")\n",
    "print(f\"test_accuracy: {test_accuracy}\")"
   ]
  }
 ],
 "metadata": {
  "kernelspec": {
   "display_name": "Python 3 (ipykernel)",
   "language": "python",
   "name": "python3"
  },
  "language_info": {
   "codemirror_mode": {
    "name": "ipython",
    "version": 3
   },
   "file_extension": ".py",
   "mimetype": "text/x-python",
   "name": "python",
   "nbconvert_exporter": "python",
   "pygments_lexer": "ipython3",
   "version": "3.9.7"
  }
 },
 "nbformat": 4,
 "nbformat_minor": 5
}
